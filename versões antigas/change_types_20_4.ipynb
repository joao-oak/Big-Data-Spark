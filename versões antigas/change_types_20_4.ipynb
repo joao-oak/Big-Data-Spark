{
 "cells": [
  {
   "cell_type": "code",
   "execution_count": 63,
   "id": "37e764fd-4f77-4246-97d0-e0f72fc1d378",
   "metadata": {},
   "outputs": [],
   "source": [
    "from pyspark.sql import SparkSession\n",
    "spark = SparkSession.builder.appName('egd').getOrCreate()"
   ]
  },
  {
   "cell_type": "code",
   "execution_count": 64,
   "id": "436a70e8-ce1d-4c9d-8d20-8f1b4d939712",
   "metadata": {},
   "outputs": [],
   "source": [
    "import pyspark.sql.functions as F\n",
    "import os\n",
    "from pyspark.sql.functions import col, lit\n",
    "\n",
    "singles=spark.read.option(\"header\",\"true\").option(\"inferSchema\",\"true\") \\\n",
    ".csv('singles')\n",
    "\n",
    "singles = singles.withColumn(\n",
    "    \"Origem\",  # Replace with your desired column name\n",
    "    lit('Singles')  # Use lit() to create a literal value expression\n",
    ")\n",
    "\n",
    "doubles=spark.read.option(\"header\",\"true\").option(\"inferSchema\",\"true\") \\\n",
    ".csv('doubles')\n",
    "\n",
    "doubles = doubles.withColumn(\n",
    "    \"Origem\",  # Replace with your desired column name\n",
    "    lit('Doubles')  # Use lit() to create a literal value expression\n",
    ")\n",
    "\n",
    "futures=spark.read.option(\"header\",\"true\").option(\"inferSchema\",\"true\") \\\n",
    ".csv('futures')\n",
    "\n",
    "futures = futures.withColumn(\n",
    "    \"Origem\",  # Replace with your desired column name\n",
    "    lit('Futures')  # Use lit() to create a literal value expression\n",
    ")\n",
    "\n",
    "qual_chal = spark.read.option(\"header\",\"true\").option(\"inferSchema\",\"true\") \\\n",
    ".csv('qual_chal')\n",
    "\n",
    "qual_chal = qual_chal.withColumn(\n",
    "    \"Origem\",  # Replace with your desired column name\n",
    "    lit('Qualificacao_Challenger')  # Use lit() to create a literal value expression\n",
    ")\n",
    "\n",
    "amat = spark.read.option(\"header\",\"true\").option(\"inferSchema\",\"true\") \\\n",
    ".csv('atp_matches_amateur.csv')\n",
    "\n",
    "amat = amat.withColumn(\n",
    "    \"Origem\",  # Replace with your desired column name\n",
    "    lit('Amateur')  # Use lit() to create a literal value expression\n",
    ")"
   ]
  },
  {
   "cell_type": "code",
   "execution_count": 65,
   "id": "36f9c4e0-d422-4b6c-92e5-eb151e0b1fd9",
   "metadata": {},
   "outputs": [],
   "source": [
    "matches_completos = singles.unionAll(futures)\n",
    "matches_completos = matches_completos.unionAll(qual_chal)\n",
    "matches_completos=matches_completos.unionAll(amat)"
   ]
  },
  {
   "cell_type": "code",
   "execution_count": 66,
   "id": "47b5f7a5-64d8-4eed-a4cc-db5cd9b3c629",
   "metadata": {},
   "outputs": [],
   "source": [
    "colunas_unicas_doubles = list(set(doubles.columns) - set(matches_completos.columns))\n",
    "\n",
    "for a in colunas_unicas_doubles:\n",
    "    matches_completos = matches_completos.withColumn(\n",
    "    a,  # Replace with your desired column name\n",
    "    lit(None)  # Use lit() to create a literal value expression\n",
    ")"
   ]
  },
  {
   "cell_type": "code",
   "execution_count": 67,
   "id": "1709cea1-d15a-4477-9f09-8161120c15f8",
   "metadata": {},
   "outputs": [],
   "source": [
    "colunas_unicas_matches_completos = list(set(matches_completos.columns) - set(doubles.columns))\n",
    "\n",
    "for a in colunas_unicas_matches_completos:\n",
    "    doubles = doubles.withColumn(\n",
    "    a,  # Replace with your desired column name\n",
    "    lit(None)  # Use lit() to create a literal value expression\n",
    ")"
   ]
  },
  {
   "cell_type": "code",
   "execution_count": 68,
   "id": "14d3958a-0054-4fe9-b690-a3dc438fe952",
   "metadata": {},
   "outputs": [],
   "source": [
    "matches_completos=matches_completos.unionAll(doubles)"
   ]
  },
  {
   "cell_type": "code",
   "execution_count": 69,
   "id": "d19dcc0a-1fe5-4bf0-a831-530c0f634a99",
   "metadata": {},
   "outputs": [
    {
     "data": {
      "text/plain": [
       "82"
      ]
     },
     "execution_count": 69,
     "metadata": {},
     "output_type": "execute_result"
    }
   ],
   "source": [
    "len(matches_completos.columns)"
   ]
  },
  {
   "cell_type": "code",
   "execution_count": 70,
   "id": "4c54cb66-2f6f-418a-8521-2aca171ab817",
   "metadata": {},
   "outputs": [
    {
     "name": "stdout",
     "output_type": "stream",
     "text": [
      "+----------+\n",
      "|tourney_id|\n",
      "+----------+\n",
      "|  1994-339|\n",
      "|  1994-339|\n",
      "|  1994-339|\n",
      "|  1994-339|\n",
      "|  1994-339|\n",
      "|  1994-339|\n",
      "|  1994-339|\n",
      "|  1994-339|\n",
      "|  1994-339|\n",
      "|  1994-339|\n",
      "|  1994-339|\n",
      "|  1994-339|\n",
      "|  1994-339|\n",
      "|  1994-339|\n",
      "|  1994-339|\n",
      "|  1994-339|\n",
      "|  1994-339|\n",
      "|  1994-339|\n",
      "|  1994-339|\n",
      "|  1994-339|\n",
      "+----------+\n",
      "only showing top 20 rows\n",
      "\n"
     ]
    }
   ],
   "source": [
    "matches_completos.select('tourney_id').show()"
   ]
  },
  {
   "cell_type": "code",
   "execution_count": 58,
   "id": "2bafaed2-b60f-496d-a36f-920723642a9f",
   "metadata": {},
   "outputs": [],
   "source": [
    "#END HELENA,START LARA"
   ]
  },
  {
   "cell_type": "code",
   "execution_count": 72,
   "id": "1f9b44a0-5197-49c6-878a-13191ce7011b",
   "metadata": {},
   "outputs": [],
   "source": [
    "from pyspark.sql.functions import col\n",
    "# List all columns with the type 'void' and Convert to integer\n",
    "void_columns = [col_name for col_name, data_type in matches.dtypes if data_type == 'void']\n",
    "for col_name in void_columns:\n",
    "    matches = matches.withColumn(col_name, matches[col_name].cast(\"int\"))"
   ]
  },
  {
   "cell_type": "code",
   "execution_count": 76,
   "id": "18b316ad-b9e9-42f2-8b35-833c06fda675",
   "metadata": {},
   "outputs": [],
   "source": [
    "# Convert to integers\n",
    "columns_to_convert = [\"draw_size\", \"loser_id\",\"loser_seed\", \"best_of\", \"minutes\", \"winner_seed\",\n",
    "    \"w_ace\", \"w_df\", \"w_svpt\", \"w_1stIn\", \"w_1stWon\", \"w_2ndWon\", \"w_SvGms\", \"w_bpSaved\", \"w_bpFaced\",\n",
    "    \"l_ace\", \"l_df\", \"l_svpt\", \"l_1stIn\", \"l_1stWon\", \"l_2ndWon\", \"l_SvGms\", \"l_bpSaved\", \"l_bpFaced\",\n",
    "    \"winner_rank\", \"loser_rank\", \"winner_rank_points\", \"loser_rank_points\", \"winner2_hand\"\n",
    "]\n",
    "for column in columns_to_convert:\n",
    "    matches = matches.withColumn(column, col(column).cast(\"integer\"))"
   ]
  },
  {
   "cell_type": "code",
   "execution_count": 77,
   "id": "3e97d4cb-7c12-444c-b9d7-cb8e5ecc7834",
   "metadata": {},
   "outputs": [],
   "source": [
    "from pyspark.sql.functions import to_date\n",
    "matches = matches.withColumn(\"tourney_date\", to_date(matches[\"tourney_date\"].cast(\"string\"), \"yyyyMMdd\"))\n",
    "matches = matches.withColumn(\"winner_age\", matches[\"winner_age\"].cast(\"double\"))"
   ]
  },
  {
   "cell_type": "code",
   "execution_count": null,
   "id": "630b1e04-23d5-4dd0-aeef-229c8cedcb92",
   "metadata": {},
   "outputs": [],
   "source": []
  },
  {
   "cell_type": "code",
   "execution_count": null,
   "id": "38aa5915-cb14-4b7b-a95a-83ff675ea1a2",
   "metadata": {},
   "outputs": [],
   "source": []
  },
  {
   "cell_type": "code",
   "execution_count": 78,
   "id": "9f0aad58-849e-4d63-acc0-c5d908c81b33",
   "metadata": {},
   "outputs": [
    {
     "name": "stdout",
     "output_type": "stream",
     "text": [
      "root\n",
      " |-- tourney_id: string (nullable = true)\n",
      " |-- tourney_name: string (nullable = true)\n",
      " |-- surface: string (nullable = true)\n",
      " |-- draw_size: integer (nullable = true)\n",
      " |-- tourney_level: string (nullable = true)\n",
      " |-- tourney_date: date (nullable = true)\n",
      " |-- match_num: integer (nullable = true)\n",
      " |-- winner_id: integer (nullable = true)\n",
      " |-- winner_seed: integer (nullable = true)\n",
      " |-- winner_entry: string (nullable = true)\n",
      " |-- winner_name: string (nullable = true)\n",
      " |-- winner_hand: string (nullable = true)\n",
      " |-- winner_ht: integer (nullable = true)\n",
      " |-- winner_ioc: string (nullable = true)\n",
      " |-- winner_age: double (nullable = true)\n",
      " |-- loser_id: integer (nullable = true)\n",
      " |-- loser_seed: integer (nullable = true)\n",
      " |-- loser_entry: string (nullable = true)\n",
      " |-- loser_name: string (nullable = true)\n",
      " |-- loser_hand: string (nullable = true)\n",
      " |-- loser_ht: integer (nullable = true)\n",
      " |-- loser_ioc: string (nullable = true)\n",
      " |-- loser_age: double (nullable = true)\n",
      " |-- score: string (nullable = true)\n",
      " |-- best_of: integer (nullable = true)\n",
      " |-- round: string (nullable = true)\n",
      " |-- minutes: integer (nullable = true)\n",
      " |-- w_ace: integer (nullable = true)\n",
      " |-- w_df: integer (nullable = true)\n",
      " |-- w_svpt: integer (nullable = true)\n",
      " |-- w_1stIn: integer (nullable = true)\n",
      " |-- w_1stWon: integer (nullable = true)\n",
      " |-- w_2ndWon: integer (nullable = true)\n",
      " |-- w_SvGms: integer (nullable = true)\n",
      " |-- w_bpSaved: integer (nullable = true)\n",
      " |-- w_bpFaced: integer (nullable = true)\n",
      " |-- l_ace: integer (nullable = true)\n",
      " |-- l_df: integer (nullable = true)\n",
      " |-- l_svpt: integer (nullable = true)\n",
      " |-- l_1stIn: integer (nullable = true)\n",
      " |-- l_1stWon: integer (nullable = true)\n",
      " |-- l_2ndWon: integer (nullable = true)\n",
      " |-- l_SvGms: integer (nullable = true)\n",
      " |-- l_bpSaved: integer (nullable = true)\n",
      " |-- l_bpFaced: integer (nullable = true)\n",
      " |-- winner_rank: integer (nullable = true)\n",
      " |-- winner_rank_points: integer (nullable = true)\n",
      " |-- loser_rank: integer (nullable = true)\n",
      " |-- loser_rank_points: integer (nullable = true)\n",
      " |-- Origem: string (nullable = true)\n",
      " |-- loser1_age: integer (nullable = true)\n",
      " |-- loser2_age: integer (nullable = true)\n",
      " |-- loser2_rank_points: integer (nullable = true)\n",
      " |-- winner1_ht: integer (nullable = true)\n",
      " |-- loser1_id: integer (nullable = true)\n",
      " |-- winner2_ht: integer (nullable = true)\n",
      " |-- winner1_age: integer (nullable = true)\n",
      " |-- winner1_id: integer (nullable = true)\n",
      " |-- winner1_rank: integer (nullable = true)\n",
      " |-- loser2_rank: integer (nullable = true)\n",
      " |-- loser1_name: integer (nullable = true)\n",
      " |-- loser2_name: integer (nullable = true)\n",
      " |-- loser2_hand: integer (nullable = true)\n",
      " |-- winner2_rank: integer (nullable = true)\n",
      " |-- loser1_ioc: integer (nullable = true)\n",
      " |-- loser1_hand: string (nullable = true)\n",
      " |-- winner2_hand: integer (nullable = true)\n",
      " |-- winner2_id: integer (nullable = true)\n",
      " |-- winner2_age: integer (nullable = true)\n",
      " |-- loser1_rank: integer (nullable = true)\n",
      " |-- winner2_rank_points: integer (nullable = true)\n",
      " |-- winner1_hand: integer (nullable = true)\n",
      " |-- loser2_ht: integer (nullable = true)\n",
      " |-- winner1_rank_points: integer (nullable = true)\n",
      " |-- loser1_ht: integer (nullable = true)\n",
      " |-- winner2_ioc: integer (nullable = true)\n",
      " |-- winner1_ioc: integer (nullable = true)\n",
      " |-- loser2_id: integer (nullable = true)\n",
      " |-- winner2_name: integer (nullable = true)\n",
      " |-- winner1_name: integer (nullable = true)\n",
      " |-- loser2_ioc: integer (nullable = true)\n",
      " |-- loser1_rank_points: integer (nullable = true)\n",
      " |-- sets: array (nullable = true)\n",
      " |    |-- element: string (containsNull = false)\n",
      "\n"
     ]
    }
   ],
   "source": [
    "matches.printSchema()"
   ]
  },
  {
   "cell_type": "code",
   "execution_count": null,
   "id": "80e39753-2ac8-4365-8956-41a47c334242",
   "metadata": {},
   "outputs": [],
   "source": []
  }
 ],
 "metadata": {
  "kernelspec": {
   "display_name": "Python 3 (ipykernel)",
   "language": "python",
   "name": "python3"
  },
  "language_info": {
   "codemirror_mode": {
    "name": "ipython",
    "version": 3
   },
   "file_extension": ".py",
   "mimetype": "text/x-python",
   "name": "python",
   "nbconvert_exporter": "python",
   "pygments_lexer": "ipython3",
   "version": "3.11.6"
  }
 },
 "nbformat": 4,
 "nbformat_minor": 5
}
