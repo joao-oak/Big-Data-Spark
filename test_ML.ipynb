{
 "cells": [
  {
   "cell_type": "code",
   "execution_count": 1,
   "id": "251b3e62-f684-4e90-bed8-d30905c7fa3e",
   "metadata": {},
   "outputs": [],
   "source": [
    "from pyspark.sql import SparkSession"
   ]
  },
  {
   "cell_type": "code",
   "execution_count": 2,
   "id": "65d83ec3-4d11-442e-a16a-8d62166503c7",
   "metadata": {},
   "outputs": [],
   "source": [
    "spark = SparkSession.builder \\\n",
    "                    .appName('tennis_ml') \\\n",
    "                    .getOrCreate()"
   ]
  },
  {
   "cell_type": "code",
   "execution_count": 3,
   "id": "4d85beef-ddf8-4f99-ab6f-b923cbe7bfd4",
   "metadata": {},
   "outputs": [],
   "source": [
    "data = spark.read.csv(\"singles/atp_matches_2020.csv\", header=True, inferSchema=True)"
   ]
  },
  {
   "cell_type": "code",
   "execution_count": 6,
   "id": "25297051-f084-40e4-ad4f-49629a40b1c8",
   "metadata": {},
   "outputs": [
    {
     "name": "stdout",
     "output_type": "stream",
     "text": [
      "No columns with all NULL values found.\n"
     ]
    }
   ],
   "source": [
    "from pyspark.sql.functions import col\n",
    "\n",
    "null_columns = []\n",
    "for column in data.columns:\n",
    "    if data.where(col(column).isNull()).count() == data.count():\n",
    "        null_columns.append(column)\n",
    "\n",
    "if null_columns:\n",
    "    data = data.drop(*null_columns)\n",
    "    print(\"Columns with all NULL values removed:\", null_columns)\n",
    "else:\n",
    "    print(\"No columns with all NULL values found.\")"
   ]
  },
  {
   "cell_type": "markdown",
   "id": "3d9e1f74-d2a1-4076-8d09-13c16d168e1e",
   "metadata": {},
   "source": [
    "label 0 for player 1 winning, label 2 for player 2 winning"
   ]
  },
  {
   "cell_type": "code",
   "execution_count": 7,
   "id": "fb469d73-e283-47ac-915d-a66b14918705",
   "metadata": {},
   "outputs": [
    {
     "name": "stdout",
     "output_type": "stream",
     "text": [
      "+-------+-----------+----------+----------+---------+------------------+-----------------+--------+---------+\n",
      "|surface|winner_hand|winner_age|loser_hand|loser_age|winner_rank_points|loser_rank_points|loser_ht|winner_ht|\n",
      "+-------+-----------+----------+----------+---------+------------------+-----------------+--------+---------+\n",
      "|   Hard|          R|      32.6|         L|     33.5|              9055|             9985|     185|      188|\n",
      "+-------+-----------+----------+----------+---------+------------------+-----------------+--------+---------+\n",
      "only showing top 1 row\n",
      "\n"
     ]
    }
   ],
   "source": [
    "selected_columns = ['surface', 'winner_hand', 'winner_age', 'loser_hand', 'loser_age', 'winner_rank_points', 'loser_rank_points', 'loser_ht', 'winner_ht']\n",
    "data = data.select(selected_columns)\n",
    "data.show(1)"
   ]
  },
  {
   "cell_type": "code",
   "execution_count": 15,
   "id": "705804ac-48b0-4931-84fa-9986f57e79c7",
   "metadata": {},
   "outputs": [
    {
     "name": "stdout",
     "output_type": "stream",
     "text": [
      "+-------------------+----------------+--------------+---------+-----+\n",
      "|    player_age_diff|player_rank_diff|player_ht_diff|hand_diff|label|\n",
      "+-------------------+----------------+--------------+---------+-----+\n",
      "|-0.8999999999999986|            -930|             3|        1|    1|\n",
      "| 2.1999999999999993|            1084|             3|        0|    1|\n",
      "+-------------------+----------------+--------------+---------+-----+\n",
      "only showing top 2 rows\n",
      "\n"
     ]
    }
   ],
   "source": [
    "from pyspark.sql.functions import col, when, lit\n",
    "        \n",
    "data = data.withColumn(\"player_age_diff\", col(\"winner_age\") - col(\"loser_age\"))\n",
    "data = data.withColumn('player_rank_diff', col('winner_rank_points') - col('loser_rank_points'))\n",
    "data = data.withColumn('player_ht_diff', col('winner_ht') - col('loser_ht'))\n",
    "data = data.withColumn(\"hand_diff\",\n",
    "                       when((col(\"winner_hand\") == \"U\") | (col(\"loser_hand\") == \"U\"), 2)\n",
    "                       .when(col(\"winner_hand\") == col(\"loser_hand\"), 0)\n",
    "                       .otherwise(1))\n",
    "data = data.withColumn('label', lit(1))\n",
    "                       \n",
    "\n",
    "engineered_columns = ['player_age_diff', 'player_rank_diff', 'player_ht_diff', 'hand_diff', 'label']\n",
    "df = data.select(engineered_columns)\n",
    "df.show(2)"
   ]
  },
  {
   "cell_type": "code",
   "execution_count": 37,
   "id": "3f1e8b55-5fce-43fb-9d9e-d6d0e95948de",
   "metadata": {},
   "outputs": [
    {
     "name": "stdout",
     "output_type": "stream",
     "text": [
      "The accuracy score is 1.0\n"
     ]
    }
   ],
   "source": [
    "from sklearn.neighbors import KNeighborsClassifier\n",
    "from sklearn.model_selection import train_test_split\n",
    "from sklearn.metrics import accuracy_score\n",
    "import joblib\n",
    "\n",
    "# df = df.dropna()\n",
    "# df = df.toPandas()\n",
    "X = df.drop([\"label\"], axis=1)\n",
    "y = df['label']\n",
    "\n",
    "X_train, X_test, y_train, y_test = train_test_split(X, y, test_size=0.2, random_state=42)\n",
    "\n",
    "# Train KNN model\n",
    "knn_model = KNeighborsClassifier(n_neighbors=5)\n",
    "knn_model.fit(X_train, y_train)\n",
    "\n",
    "# # Save trained model\n",
    "# joblib.dump(knn_model, 'knn_model.joblib')\n",
    "\n",
    "predict_test = knn_model.predict(X_test)\n",
    "print(f\"The accuracy score is {accuracy_score(y_test, predict_test)}\")"
   ]
  },
  {
   "cell_type": "code",
   "execution_count": null,
   "id": "6764825a-6fab-4664-9824-4126c4aadb37",
   "metadata": {},
   "outputs": [],
   "source": []
  }
 ],
 "metadata": {
  "kernelspec": {
   "display_name": "Python 3 (ipykernel)",
   "language": "python",
   "name": "python3"
  },
  "language_info": {
   "codemirror_mode": {
    "name": "ipython",
    "version": 3
   },
   "file_extension": ".py",
   "mimetype": "text/x-python",
   "name": "python",
   "nbconvert_exporter": "python",
   "pygments_lexer": "ipython3",
   "version": "3.11.6"
  }
 },
 "nbformat": 4,
 "nbformat_minor": 5
}
