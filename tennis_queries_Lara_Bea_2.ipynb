{
 "cells": [
  {
   "cell_type": "code",
   "execution_count": 78,
   "id": "9562d4f2-6c58-4836-82fa-c68388c0ad52",
   "metadata": {},
   "outputs": [],
   "source": [
    "from pyspark.sql import SparkSession\n",
    "import pyspark.sql.functions as F\n",
    "import os\n",
    "from pyspark.sql.functions import col, lit, to_date, split, when, coalesce, year, count, expr, udf, sum, year, floor, rank, round, regexp_extract\n",
    "from pyspark.sql.types import MapType, StringType\n",
    "import pandas as pd\n",
    "import matplotlib.pyplot as plt\n",
    "from itertools import chain\n",
    "from pyspark.sql.window import Window"
   ]
  },
  {
   "cell_type": "code",
   "execution_count": 2,
   "id": "139f6425-5bb5-4007-a4c0-56183f5f9b0a",
   "metadata": {},
   "outputs": [],
   "source": [
    "spark = SparkSession.builder \\\n",
    "                    .appName('tennis') \\\n",
    "                    .getOrCreate()"
   ]
  },
  {
   "cell_type": "code",
   "execution_count": 3,
   "id": "0478b08e-fc73-4388-8995-92454eb45480",
   "metadata": {},
   "outputs": [],
   "source": [
    "folders = [\"singles/\", \"doubles/\", \"futures/\", \"qual_chal/\"]\n",
    "file_columns = []\n",
    "files65 = []\n",
    "files49= []"
   ]
  },
  {
   "cell_type": "code",
   "execution_count": 5,
   "id": "37769baa-d660-4307-9711-6338cfffb026",
   "metadata": {},
   "outputs": [],
   "source": [
    "for folder in folders:\n",
    "    for filename in os.listdir(folder):\n",
    "    \n",
    "        file_path = os.path.join(folder, filename)\n",
    "        df = spark.read.option(\"header\", \"true\") \\\n",
    "                       .option(\"inferSchema\", \"true\") \\\n",
    "                       .csv(file_path)\n",
    "        \n",
    "        #file_columns.append({filename:df.columns})\n",
    "        file_columns.append(df.columns)\n",
    "        if len(df.columns) == 65:\n",
    "            files65.append(filename)\n",
    "        else:\n",
    "            files49.append(filename)"
   ]
  },
  {
   "cell_type": "code",
   "execution_count": 6,
   "id": "be182335-5fc4-4fd6-a9c6-52bf4d624124",
   "metadata": {
    "scrolled": true
   },
   "outputs": [
    {
     "data": {
      "text/plain": [
       "[['tourney_id',\n",
       "  'tourney_name',\n",
       "  'surface',\n",
       "  'draw_size',\n",
       "  'tourney_level',\n",
       "  'tourney_date',\n",
       "  'match_num',\n",
       "  'winner_id',\n",
       "  'winner_seed',\n",
       "  'winner_entry',\n",
       "  'winner_name',\n",
       "  'winner_hand',\n",
       "  'winner_ht',\n",
       "  'winner_ioc',\n",
       "  'winner_age',\n",
       "  'loser_id',\n",
       "  'loser_seed',\n",
       "  'loser_entry',\n",
       "  'loser_name',\n",
       "  'loser_hand',\n",
       "  'loser_ht',\n",
       "  'loser_ioc',\n",
       "  'loser_age',\n",
       "  'score',\n",
       "  'best_of',\n",
       "  'round',\n",
       "  'minutes',\n",
       "  'w_ace',\n",
       "  'w_df',\n",
       "  'w_svpt',\n",
       "  'w_1stIn',\n",
       "  'w_1stWon',\n",
       "  'w_2ndWon',\n",
       "  'w_SvGms',\n",
       "  'w_bpSaved',\n",
       "  'w_bpFaced',\n",
       "  'l_ace',\n",
       "  'l_df',\n",
       "  'l_svpt',\n",
       "  'l_1stIn',\n",
       "  'l_1stWon',\n",
       "  'l_2ndWon',\n",
       "  'l_SvGms',\n",
       "  'l_bpSaved',\n",
       "  'l_bpFaced',\n",
       "  'winner_rank',\n",
       "  'winner_rank_points',\n",
       "  'loser_rank',\n",
       "  'loser_rank_points'],\n",
       " ['tourney_id',\n",
       "  'tourney_name',\n",
       "  'surface',\n",
       "  'draw_size',\n",
       "  'tourney_level',\n",
       "  'tourney_date',\n",
       "  'match_num',\n",
       "  'winner1_id',\n",
       "  'winner2_id',\n",
       "  'winner_seed',\n",
       "  'winner_entry',\n",
       "  'loser1_id',\n",
       "  'loser2_id',\n",
       "  'loser_seed',\n",
       "  'loser_entry',\n",
       "  'score',\n",
       "  'best_of',\n",
       "  'round',\n",
       "  'winner1_name',\n",
       "  'winner1_hand',\n",
       "  'winner1_ht',\n",
       "  'winner1_ioc',\n",
       "  'winner1_age',\n",
       "  'winner2_name',\n",
       "  'winner2_hand',\n",
       "  'winner2_ht',\n",
       "  'winner2_ioc',\n",
       "  'winner2_age',\n",
       "  'loser1_name',\n",
       "  'loser1_hand',\n",
       "  'loser1_ht',\n",
       "  'loser1_ioc',\n",
       "  'loser1_age',\n",
       "  'loser2_name',\n",
       "  'loser2_hand',\n",
       "  'loser2_ht',\n",
       "  'loser2_ioc',\n",
       "  'loser2_age',\n",
       "  'winner1_rank',\n",
       "  'winner1_rank_points',\n",
       "  'winner2_rank',\n",
       "  'winner2_rank_points',\n",
       "  'loser1_rank',\n",
       "  'loser1_rank_points',\n",
       "  'loser2_rank',\n",
       "  'loser2_rank_points',\n",
       "  'minutes',\n",
       "  'w_ace',\n",
       "  'w_df',\n",
       "  'w_svpt',\n",
       "  'w_1stIn',\n",
       "  'w_1stWon',\n",
       "  'w_2ndWon',\n",
       "  'w_SvGms',\n",
       "  'w_bpSaved',\n",
       "  'w_bpFaced',\n",
       "  'l_ace',\n",
       "  'l_df',\n",
       "  'l_svpt',\n",
       "  'l_1stIn',\n",
       "  'l_1stWon',\n",
       "  'l_2ndWon',\n",
       "  'l_SvGms',\n",
       "  'l_bpSaved',\n",
       "  'l_bpFaced']]"
      ]
     },
     "execution_count": 6,
     "metadata": {},
     "output_type": "execute_result"
    }
   ],
   "source": [
    "# Removing duplicates\n",
    "file_columns = list(set(map(tuple, file_columns)))\n",
    "file_columns = [list(item) for item in file_columns]\n",
    "file_columns"
   ]
  },
  {
   "cell_type": "code",
   "execution_count": 7,
   "id": "bbf18594-a151-4574-a9c6-72efef879e35",
   "metadata": {},
   "outputs": [
    {
     "name": "stdout",
     "output_type": "stream",
     "text": [
      "Number of different column sets: 2\n",
      "Number of columns in the first set: 49\n",
      "Number of columns in the second set: 65\n"
     ]
    }
   ],
   "source": [
    "print(f\"Number of different column sets: {len(file_columns)}\")\n",
    "print(f\"Number of columns in the first set: {len(file_columns[0])}\")\n",
    "print(f\"Number of columns in the second set: {len(file_columns[1])}\")"
   ]
  },
  {
   "cell_type": "code",
   "execution_count": 8,
   "id": "a37ec9b8-a590-4d3a-a68c-f176591090c4",
   "metadata": {},
   "outputs": [],
   "source": [
    "col1 = set(file_columns[0])\n",
    "col2 = set(file_columns[1])\n",
    "diff1 = col1 - col2 # Columns in Doubles files that are not in Singles files\n",
    "diff2 = col2 - col1 # Columns in Singles files that are not in Doubles files\n",
    "# ^ to get both"
   ]
  },
  {
   "cell_type": "code",
   "execution_count": 9,
   "id": "bb36de00-65f8-4912-8e69-dc43d9258c98",
   "metadata": {},
   "outputs": [
    {
     "data": {
      "text/plain": [
       "{'loser_age',\n",
       " 'loser_hand',\n",
       " 'loser_ht',\n",
       " 'loser_id',\n",
       " 'loser_ioc',\n",
       " 'loser_name',\n",
       " 'loser_rank',\n",
       " 'loser_rank_points',\n",
       " 'winner_age',\n",
       " 'winner_hand',\n",
       " 'winner_ht',\n",
       " 'winner_id',\n",
       " 'winner_ioc',\n",
       " 'winner_name',\n",
       " 'winner_rank',\n",
       " 'winner_rank_points'}"
      ]
     },
     "execution_count": 9,
     "metadata": {},
     "output_type": "execute_result"
    }
   ],
   "source": [
    "diff1"
   ]
  },
  {
   "cell_type": "code",
   "execution_count": 10,
   "id": "474e98ef-8e47-4ea0-b95d-cc1c65a36723",
   "metadata": {},
   "outputs": [
    {
     "data": {
      "text/plain": [
       "{'loser1_age',\n",
       " 'loser1_hand',\n",
       " 'loser1_ht',\n",
       " 'loser1_id',\n",
       " 'loser1_ioc',\n",
       " 'loser1_name',\n",
       " 'loser1_rank',\n",
       " 'loser1_rank_points',\n",
       " 'loser2_age',\n",
       " 'loser2_hand',\n",
       " 'loser2_ht',\n",
       " 'loser2_id',\n",
       " 'loser2_ioc',\n",
       " 'loser2_name',\n",
       " 'loser2_rank',\n",
       " 'loser2_rank_points',\n",
       " 'winner1_age',\n",
       " 'winner1_hand',\n",
       " 'winner1_ht',\n",
       " 'winner1_id',\n",
       " 'winner1_ioc',\n",
       " 'winner1_name',\n",
       " 'winner1_rank',\n",
       " 'winner1_rank_points',\n",
       " 'winner2_age',\n",
       " 'winner2_hand',\n",
       " 'winner2_ht',\n",
       " 'winner2_id',\n",
       " 'winner2_ioc',\n",
       " 'winner2_name',\n",
       " 'winner2_rank',\n",
       " 'winner2_rank_points'}"
      ]
     },
     "execution_count": 10,
     "metadata": {},
     "output_type": "execute_result"
    }
   ],
   "source": [
    "diff2"
   ]
  },
  {
   "cell_type": "code",
   "execution_count": 11,
   "id": "a5193b4a-2932-4a42-90c0-ace8e24fa1a7",
   "metadata": {
    "scrolled": true
   },
   "outputs": [
    {
     "data": {
      "text/plain": [
       "['atp_matches_doubles_2007.csv',\n",
       " 'atp_matches_doubles_2019.csv',\n",
       " 'atp_matches_doubles_2012.csv',\n",
       " 'atp_matches_doubles_2018.csv',\n",
       " 'atp_matches_doubles_2020.csv',\n",
       " 'atp_matches_doubles_2011.csv',\n",
       " 'atp_matches_doubles_2016.csv',\n",
       " 'atp_matches_doubles_2000.csv',\n",
       " 'atp_matches_doubles_2017.csv',\n",
       " 'atp_matches_doubles_2008.csv',\n",
       " 'atp_matches_doubles_2004.csv',\n",
       " 'atp_matches_doubles_2013.csv',\n",
       " 'atp_matches_doubles_2009.csv',\n",
       " 'atp_matches_doubles_2001.csv',\n",
       " 'atp_matches_doubles_2006.csv',\n",
       " 'atp_matches_doubles_2014.csv',\n",
       " 'atp_matches_doubles_2003.csv',\n",
       " 'atp_matches_doubles_2015.csv',\n",
       " 'atp_matches_doubles_2010.csv',\n",
       " 'atp_matches_doubles_2005.csv',\n",
       " 'atp_matches_doubles_2002.csv',\n",
       " 'atp_matches_doubles_2007.csv',\n",
       " 'atp_matches_doubles_2019.csv',\n",
       " 'atp_matches_doubles_2012.csv',\n",
       " 'atp_matches_doubles_2018.csv',\n",
       " 'atp_matches_doubles_2020.csv',\n",
       " 'atp_matches_doubles_2011.csv',\n",
       " 'atp_matches_doubles_2016.csv',\n",
       " 'atp_matches_doubles_2000.csv',\n",
       " 'atp_matches_doubles_2017.csv',\n",
       " 'atp_matches_doubles_2008.csv',\n",
       " 'atp_matches_doubles_2004.csv',\n",
       " 'atp_matches_doubles_2013.csv',\n",
       " 'atp_matches_doubles_2009.csv',\n",
       " 'atp_matches_doubles_2001.csv',\n",
       " 'atp_matches_doubles_2006.csv',\n",
       " 'atp_matches_doubles_2014.csv',\n",
       " 'atp_matches_doubles_2003.csv',\n",
       " 'atp_matches_doubles_2015.csv',\n",
       " 'atp_matches_doubles_2010.csv',\n",
       " 'atp_matches_doubles_2005.csv',\n",
       " 'atp_matches_doubles_2002.csv']"
      ]
     },
     "execution_count": 11,
     "metadata": {},
     "output_type": "execute_result"
    }
   ],
   "source": [
    "# Files with 65 columns\n",
    "files65"
   ]
  },
  {
   "cell_type": "code",
   "execution_count": 12,
   "id": "a9d786cc-822a-4da0-87a3-f4f847f6cea0",
   "metadata": {
    "scrolled": true
   },
   "outputs": [
    {
     "data": {
      "text/plain": [
       "['atp_matches_1984.csv',\n",
       " 'atp_matches_2009.csv',\n",
       " 'atp_matches_2022.csv',\n",
       " 'atp_matches_1990.csv',\n",
       " 'atp_matches_2016.csv',\n",
       " 'atp_matches_2017.csv',\n",
       " 'atp_matches_2001.csv',\n",
       " 'atp_matches_2007.csv',\n",
       " 'atp_matches_1985.csv',\n",
       " 'atp_matches_1971.csv',\n",
       " 'atp_matches_2013.csv',\n",
       " 'atp_matches_2021.csv',\n",
       " 'atp_matches_1991.csv',\n",
       " 'atp_matches_1992.csv',\n",
       " 'atp_matches_1979.csv',\n",
       " 'atp_matches_2003.csv',\n",
       " 'atp_matches_1968.csv',\n",
       " 'atp_matches_1994.csv',\n",
       " 'atp_matches_2004.csv',\n",
       " 'atp_matches_1987.csv',\n",
       " 'atp_matches_2010.csv',\n",
       " 'atp_matches_2018.csv',\n",
       " 'atp_matches_1981.csv',\n",
       " 'atp_matches_2005.csv',\n",
       " 'atp_matches_1989.csv',\n",
       " 'atp_matches_1978.csv',\n",
       " 'atp_matches_2002.csv',\n",
       " 'atp_matches_1970.csv',\n",
       " 'atp_matches_1998.csv',\n",
       " 'atp_matches_1975.csv',\n",
       " 'atp_matches_1980.csv',\n",
       " 'atp_matches_2015.csv',\n",
       " 'atp_matches_1996.csv',\n",
       " 'atp_matches_2006.csv',\n",
       " 'atp_matches_1988.csv',\n",
       " 'atp_matches_1997.csv',\n",
       " 'atp_matches_2008.csv',\n",
       " 'atp_matches_1973.csv',\n",
       " 'atp_matches_1974.csv',\n",
       " 'atp_matches_1976.csv',\n",
       " 'atp_matches_1982.csv',\n",
       " 'atp_matches_1983.csv',\n",
       " 'atp_matches_1993.csv',\n",
       " 'atp_matches_1995.csv',\n",
       " 'atp_matches_1999.csv',\n",
       " 'atp_matches_1986.csv',\n",
       " 'atp_matches_1972.csv',\n",
       " 'atp_matches_2011.csv',\n",
       " 'atp_matches_2000.csv',\n",
       " 'atp_matches_1969.csv',\n",
       " 'atp_matches_2014.csv',\n",
       " 'atp_matches_2012.csv',\n",
       " 'atp_matches_1977.csv',\n",
       " 'atp_matches_2023.csv',\n",
       " 'atp_matches_2019.csv',\n",
       " 'atp_matches_2020.csv',\n",
       " 'atp_matches_futures_2018.csv',\n",
       " 'atp_matches_futures_2016.csv',\n",
       " 'atp_matches_futures_1995.csv',\n",
       " 'atp_matches_futures_2006.csv',\n",
       " 'atp_matches_futures_2009.csv',\n",
       " 'atp_matches_futures_2017.csv',\n",
       " 'atp_matches_futures_2015.csv',\n",
       " 'atp_matches_futures_2013.csv',\n",
       " 'atp_matches_futures_2014.csv',\n",
       " 'atp_matches_futures_1994.csv',\n",
       " 'atp_matches_futures_1992.csv',\n",
       " 'atp_matches_futures_1993.csv',\n",
       " 'atp_matches_futures_1996.csv',\n",
       " 'atp_matches_futures_2010.csv',\n",
       " 'atp_matches_futures_2007.csv',\n",
       " 'atp_matches_futures_2012.csv',\n",
       " 'atp_matches_futures_2000.csv',\n",
       " 'atp_matches_futures_1998.csv',\n",
       " 'atp_matches_futures_2003.csv',\n",
       " 'atp_matches_futures_1999.csv',\n",
       " 'atp_matches_futures_2011.csv',\n",
       " 'atp_matches_futures_2020.csv',\n",
       " 'atp_matches_futures_2002.csv',\n",
       " 'atp_matches_futures_2019.csv',\n",
       " 'atp_matches_futures_2022.csv',\n",
       " 'atp_matches_futures_2008.csv',\n",
       " 'atp_matches_futures_2021.csv',\n",
       " 'atp_matches_futures_2005.csv',\n",
       " 'atp_matches_futures_1991.csv',\n",
       " 'atp_matches_futures_2023.csv',\n",
       " 'atp_matches_futures_2001.csv',\n",
       " 'atp_matches_futures_2004.csv',\n",
       " 'atp_matches_futures_1997.csv',\n",
       " 'atp_matches_qual_chall_1980.csv',\n",
       " 'atp_matches_qual_chall_2003.csv',\n",
       " 'atp_matches_qual_chall_2019.csv',\n",
       " 'atp_matches_qual_chall_2000.csv',\n",
       " 'atp_matches_qual_chall_2012.csv',\n",
       " 'atp_matches_qual_chall_1999.csv',\n",
       " 'atp_matches_qual_chall_2020.csv',\n",
       " 'atp_matches_qual_chall_2021.csv',\n",
       " 'atp_matches_qual_chall_2009.csv',\n",
       " 'atp_matches_qual_chall_1990.csv',\n",
       " 'atp_matches_qual_chall_1984.csv',\n",
       " 'atp_matches_qual_chall_1987.csv',\n",
       " 'atp_matches_qual_chall_2014.csv',\n",
       " 'atp_matches_qual_chall_2010.csv',\n",
       " 'atp_matches_qual_chall_2001.csv',\n",
       " 'atp_matches_qual_chall_2015.csv',\n",
       " 'atp_matches_qual_chall_2018.csv',\n",
       " 'atp_matches_qual_chall_2017.csv',\n",
       " 'atp_matches_qual_chall_2006.csv',\n",
       " 'atp_matches_qual_chall_1995.csv',\n",
       " 'atp_matches_qual_chall_1988.csv',\n",
       " 'atp_matches_qual_chall_2022.csv',\n",
       " 'atp_matches_qual_chall_1998.csv',\n",
       " 'atp_matches_qual_chall_1986.csv',\n",
       " 'atp_matches_qual_chall_1993.csv',\n",
       " 'atp_matches_qual_chall_1985.csv',\n",
       " 'atp_matches_qual_chall_2008.csv',\n",
       " 'atp_matches_qual_chall_2004.csv',\n",
       " 'atp_matches_qual_chall_2007.csv',\n",
       " 'atp_matches_qual_chall_2002.csv',\n",
       " 'atp_matches_qual_chall_2005.csv',\n",
       " 'atp_matches_qual_chall_1996.csv',\n",
       " 'atp_matches_qual_chall_1978.csv',\n",
       " 'atp_matches_qual_chall_2011.csv',\n",
       " 'atp_matches_qual_chall_2016.csv',\n",
       " 'atp_matches_qual_chall_1983.csv',\n",
       " 'atp_matches_qual_chall_1989.csv',\n",
       " 'atp_matches_qual_chall_1979.csv',\n",
       " 'atp_matches_qual_chall_1981.csv',\n",
       " 'atp_matches_qual_chall_2023.csv',\n",
       " 'atp_matches_qual_chall_1992.csv',\n",
       " 'atp_matches_qual_chall_2013.csv',\n",
       " 'atp_matches_qual_chall_1982.csv',\n",
       " 'atp_matches_qual_chall_1997.csv',\n",
       " 'atp_matches_qual_chall_1994.csv',\n",
       " 'atp_matches_qual_chall_1991.csv',\n",
       " 'atp_matches_1984.csv',\n",
       " 'atp_matches_2009.csv',\n",
       " 'atp_matches_2022.csv',\n",
       " 'atp_matches_1990.csv',\n",
       " 'atp_matches_2016.csv',\n",
       " 'atp_matches_2017.csv',\n",
       " 'atp_matches_2001.csv',\n",
       " 'atp_matches_2007.csv',\n",
       " 'atp_matches_1985.csv',\n",
       " 'atp_matches_1971.csv',\n",
       " 'atp_matches_2013.csv',\n",
       " 'atp_matches_2021.csv',\n",
       " 'atp_matches_1991.csv',\n",
       " 'atp_matches_1992.csv',\n",
       " 'atp_matches_1979.csv',\n",
       " 'atp_matches_2003.csv',\n",
       " 'atp_matches_1968.csv',\n",
       " 'atp_matches_1994.csv',\n",
       " 'atp_matches_2004.csv',\n",
       " 'atp_matches_1987.csv',\n",
       " 'atp_matches_2010.csv',\n",
       " 'atp_matches_2018.csv',\n",
       " 'atp_matches_1981.csv',\n",
       " 'atp_matches_2005.csv',\n",
       " 'atp_matches_1989.csv',\n",
       " 'atp_matches_1978.csv',\n",
       " 'atp_matches_2002.csv',\n",
       " 'atp_matches_1970.csv',\n",
       " 'atp_matches_1998.csv',\n",
       " 'atp_matches_1975.csv',\n",
       " 'atp_matches_1980.csv',\n",
       " 'atp_matches_2015.csv',\n",
       " 'atp_matches_1996.csv',\n",
       " 'atp_matches_2006.csv',\n",
       " 'atp_matches_1988.csv',\n",
       " 'atp_matches_1997.csv',\n",
       " 'atp_matches_2008.csv',\n",
       " 'atp_matches_1973.csv',\n",
       " 'atp_matches_1974.csv',\n",
       " 'atp_matches_1976.csv',\n",
       " 'atp_matches_1982.csv',\n",
       " 'atp_matches_1983.csv',\n",
       " 'atp_matches_1993.csv',\n",
       " 'atp_matches_1995.csv',\n",
       " 'atp_matches_1999.csv',\n",
       " 'atp_matches_1986.csv',\n",
       " 'atp_matches_1972.csv',\n",
       " 'atp_matches_2011.csv',\n",
       " 'atp_matches_2000.csv',\n",
       " 'atp_matches_1969.csv',\n",
       " 'atp_matches_2014.csv',\n",
       " 'atp_matches_2012.csv',\n",
       " 'atp_matches_1977.csv',\n",
       " 'atp_matches_2023.csv',\n",
       " 'atp_matches_2019.csv',\n",
       " 'atp_matches_2020.csv',\n",
       " 'atp_matches_futures_2018.csv',\n",
       " 'atp_matches_futures_2016.csv',\n",
       " 'atp_matches_futures_1995.csv',\n",
       " 'atp_matches_futures_2006.csv',\n",
       " 'atp_matches_futures_2009.csv',\n",
       " 'atp_matches_futures_2017.csv',\n",
       " 'atp_matches_futures_2015.csv',\n",
       " 'atp_matches_futures_2013.csv',\n",
       " 'atp_matches_futures_2014.csv',\n",
       " 'atp_matches_futures_1994.csv',\n",
       " 'atp_matches_futures_1992.csv',\n",
       " 'atp_matches_futures_1993.csv',\n",
       " 'atp_matches_futures_1996.csv',\n",
       " 'atp_matches_futures_2010.csv',\n",
       " 'atp_matches_futures_2007.csv',\n",
       " 'atp_matches_futures_2012.csv',\n",
       " 'atp_matches_futures_2000.csv',\n",
       " 'atp_matches_futures_1998.csv',\n",
       " 'atp_matches_futures_2003.csv',\n",
       " 'atp_matches_futures_1999.csv',\n",
       " 'atp_matches_futures_2011.csv',\n",
       " 'atp_matches_futures_2020.csv',\n",
       " 'atp_matches_futures_2002.csv',\n",
       " 'atp_matches_futures_2019.csv',\n",
       " 'atp_matches_futures_2022.csv',\n",
       " 'atp_matches_futures_2008.csv',\n",
       " 'atp_matches_futures_2021.csv',\n",
       " 'atp_matches_futures_2005.csv',\n",
       " 'atp_matches_futures_1991.csv',\n",
       " 'atp_matches_futures_2023.csv',\n",
       " 'atp_matches_futures_2001.csv',\n",
       " 'atp_matches_futures_2004.csv',\n",
       " 'atp_matches_futures_1997.csv',\n",
       " 'atp_matches_qual_chall_1980.csv',\n",
       " 'atp_matches_qual_chall_2003.csv',\n",
       " 'atp_matches_qual_chall_2019.csv',\n",
       " 'atp_matches_qual_chall_2000.csv',\n",
       " 'atp_matches_qual_chall_2012.csv',\n",
       " 'atp_matches_qual_chall_1999.csv',\n",
       " 'atp_matches_qual_chall_2020.csv',\n",
       " 'atp_matches_qual_chall_2021.csv',\n",
       " 'atp_matches_qual_chall_2009.csv',\n",
       " 'atp_matches_qual_chall_1990.csv',\n",
       " 'atp_matches_qual_chall_1984.csv',\n",
       " 'atp_matches_qual_chall_1987.csv',\n",
       " 'atp_matches_qual_chall_2014.csv',\n",
       " 'atp_matches_qual_chall_2010.csv',\n",
       " 'atp_matches_qual_chall_2001.csv',\n",
       " 'atp_matches_qual_chall_2015.csv',\n",
       " 'atp_matches_qual_chall_2018.csv',\n",
       " 'atp_matches_qual_chall_2017.csv',\n",
       " 'atp_matches_qual_chall_2006.csv',\n",
       " 'atp_matches_qual_chall_1995.csv',\n",
       " 'atp_matches_qual_chall_1988.csv',\n",
       " 'atp_matches_qual_chall_2022.csv',\n",
       " 'atp_matches_qual_chall_1998.csv',\n",
       " 'atp_matches_qual_chall_1986.csv',\n",
       " 'atp_matches_qual_chall_1993.csv',\n",
       " 'atp_matches_qual_chall_1985.csv',\n",
       " 'atp_matches_qual_chall_2008.csv',\n",
       " 'atp_matches_qual_chall_2004.csv',\n",
       " 'atp_matches_qual_chall_2007.csv',\n",
       " 'atp_matches_qual_chall_2002.csv',\n",
       " 'atp_matches_qual_chall_2005.csv',\n",
       " 'atp_matches_qual_chall_1996.csv',\n",
       " 'atp_matches_qual_chall_1978.csv',\n",
       " 'atp_matches_qual_chall_2011.csv',\n",
       " 'atp_matches_qual_chall_2016.csv',\n",
       " 'atp_matches_qual_chall_1983.csv',\n",
       " 'atp_matches_qual_chall_1989.csv',\n",
       " 'atp_matches_qual_chall_1979.csv',\n",
       " 'atp_matches_qual_chall_1981.csv',\n",
       " 'atp_matches_qual_chall_2023.csv',\n",
       " 'atp_matches_qual_chall_1992.csv',\n",
       " 'atp_matches_qual_chall_2013.csv',\n",
       " 'atp_matches_qual_chall_1982.csv',\n",
       " 'atp_matches_qual_chall_1997.csv',\n",
       " 'atp_matches_qual_chall_1994.csv',\n",
       " 'atp_matches_qual_chall_1991.csv']"
      ]
     },
     "execution_count": 12,
     "metadata": {},
     "output_type": "execute_result"
    }
   ],
   "source": [
    "# Files with 49 columns\n",
    "files49"
   ]
  },
  {
   "cell_type": "code",
   "execution_count": 13,
   "id": "f25fcb8d-4189-46a1-b482-bf46d2fc9d99",
   "metadata": {},
   "outputs": [],
   "source": [
    "#HELENA"
   ]
  },
  {
   "cell_type": "code",
   "execution_count": 14,
   "id": "89b0ae24-e488-4832-a462-7375249dea00",
   "metadata": {},
   "outputs": [],
   "source": [
    "singles=spark.read.option(\"header\",\"true\").option(\"inferSchema\",\"true\") \\\n",
    ".csv('singles')\n",
    "\n",
    "singles = singles.withColumn(\n",
    "    \"Origin\",\n",
    "    lit('Singles')\n",
    ")\n",
    "\n",
    "doubles=spark.read.option(\"header\",\"true\").option(\"inferSchema\",\"true\") \\\n",
    ".csv('doubles')\n",
    "\n",
    "doubles = doubles.withColumn(\n",
    "    \"Origin\",\n",
    "    lit('Doubles')\n",
    ")\n",
    "\n",
    "futures=spark.read.option(\"header\",\"true\").option(\"inferSchema\",\"true\") \\\n",
    ".csv('futures')\n",
    "\n",
    "futures = futures.withColumn(\n",
    "    \"Origin\",\n",
    "    lit('Futures')\n",
    ")\n",
    "\n",
    "qual_chal = spark.read.option(\"header\",\"true\").option(\"inferSchema\",\"true\") \\\n",
    ".csv('qual_chal')\n",
    "\n",
    "qual_chal = qual_chal.withColumn(\n",
    "    \"Origin\",\n",
    "    lit('Qualificacao_Challenger')\n",
    ")\n",
    "\n",
    "amat = spark.read.option(\"header\",\"true\").option(\"inferSchema\",\"true\") \\\n",
    ".csv('atp_matches_amateur.csv')\n",
    "\n",
    "amat = amat.withColumn(\n",
    "    \"Origin\",\n",
    "    lit('Amateur')\n",
    ")"
   ]
  },
  {
   "cell_type": "code",
   "execution_count": 15,
   "id": "96676bf3-0654-4cc5-bb07-b130b8c5420a",
   "metadata": {},
   "outputs": [],
   "source": [
    "matches_completos = singles.unionAll(futures)\n",
    "matches_completos = matches_completos.unionAll(qual_chal)\n",
    "matches_completos=matches_completos.unionAll(amat)"
   ]
  },
  {
   "cell_type": "code",
   "execution_count": 16,
   "id": "7b8a8446-8449-4619-b378-a45758d831f9",
   "metadata": {},
   "outputs": [],
   "source": [
    "colunas_unicas_doubles = list(set(doubles.columns) - set(matches_completos.columns))\n",
    "\n",
    "for a in colunas_unicas_doubles:\n",
    "    matches_completos = matches_completos.withColumn(\n",
    "    a,\n",
    "    lit(None)\n",
    ")\n",
    "\n",
    "sorted_columns = sorted(matches_completos.columns)\n",
    "matches_completos = matches_completos.select(*sorted_columns)"
   ]
  },
  {
   "cell_type": "code",
   "execution_count": 17,
   "id": "f20495fe-1060-49d8-a35f-d3ce9061b861",
   "metadata": {},
   "outputs": [],
   "source": [
    "colunas_unicas_matches_completos = list(set(matches_completos.columns) - set(doubles.columns))\n",
    "\n",
    "for a in colunas_unicas_matches_completos:\n",
    "    doubles = doubles.withColumn(\n",
    "    a,\n",
    "    lit(None)\n",
    ")"
   ]
  },
  {
   "cell_type": "code",
   "execution_count": 18,
   "id": "a73622bd-2319-4f1c-b34d-52a2918368b4",
   "metadata": {},
   "outputs": [],
   "source": [
    "sorted_columns = sorted(doubles.columns)\n",
    "doubles = doubles.select(*sorted_columns)\n",
    "matches_completos=matches_completos.unionAll(doubles)"
   ]
  },
  {
   "cell_type": "code",
   "execution_count": 19,
   "id": "bb1f1cef-e1a6-425a-a750-f108cb8169d5",
   "metadata": {},
   "outputs": [
    {
     "data": {
      "text/plain": [
       "82"
      ]
     },
     "execution_count": 19,
     "metadata": {},
     "output_type": "execute_result"
    }
   ],
   "source": [
    "len(matches_completos.columns)"
   ]
  },
  {
   "cell_type": "code",
   "execution_count": 20,
   "id": "1f72459f-e25f-48da-8a89-b6ee3d64641e",
   "metadata": {},
   "outputs": [
    {
     "name": "stdout",
     "output_type": "stream",
     "text": [
      "+----------+\n",
      "|tourney_id|\n",
      "+----------+\n",
      "|  1994-339|\n",
      "|  1994-339|\n",
      "|  1994-339|\n",
      "|  1994-339|\n",
      "|  1994-339|\n",
      "|  1994-339|\n",
      "|  1994-339|\n",
      "|  1994-339|\n",
      "|  1994-339|\n",
      "|  1994-339|\n",
      "|  1994-339|\n",
      "|  1994-339|\n",
      "|  1994-339|\n",
      "|  1994-339|\n",
      "|  1994-339|\n",
      "|  1994-339|\n",
      "|  1994-339|\n",
      "|  1994-339|\n",
      "|  1994-339|\n",
      "|  1994-339|\n",
      "+----------+\n",
      "only showing top 20 rows\n",
      "\n"
     ]
    }
   ],
   "source": [
    "matches_completos.select('tourney_id').show()\n",
    "matches=matches_completos"
   ]
  },
  {
   "cell_type": "code",
   "execution_count": 21,
   "id": "5a73989f-311f-46e1-8c8e-18545e1c9865",
   "metadata": {},
   "outputs": [],
   "source": [
    "#LARA"
   ]
  },
  {
   "cell_type": "code",
   "execution_count": 22,
   "id": "b3393aee-41fe-4d7b-b10a-ac56859324f6",
   "metadata": {},
   "outputs": [],
   "source": [
    "# Listing all columns with the type 'void' and converting to int\n",
    "void_columns = [col_name for col_name, data_type in matches.dtypes if data_type == 'void']\n",
    "for col_name in void_columns:\n",
    "    matches = matches.withColumn(col_name, matches[col_name].cast(\"int\"))"
   ]
  },
  {
   "cell_type": "code",
   "execution_count": 23,
   "id": "0fecb2f2-1ade-4200-94cf-6c3b9393c7e5",
   "metadata": {},
   "outputs": [],
   "source": [
    "# Converting to int\n",
    "columns_to_convert = [\"draw_size\", \"loser_id\",\"loser_seed\", \"best_of\", \"minutes\", \"winner_seed\",\n",
    "    \"w_ace\", \"w_df\", \"w_svpt\", \"w_1stIn\", \"w_1stWon\", \"w_2ndWon\", \"w_SvGms\", \"w_bpSaved\", \"w_bpFaced\",\n",
    "    \"l_ace\", \"l_df\", \"l_svpt\", \"l_1stIn\", \"l_1stWon\", \"l_2ndWon\", \"l_SvGms\", \"l_bpSaved\", \"l_bpFaced\",\n",
    "    \"winner_rank\", \"loser_rank\", \"winner_rank_points\", \"loser_rank_points\", \"winner2_hand\"\n",
    "]\n",
    "for column in columns_to_convert:\n",
    "    matches = matches.withColumn(column, col(column).cast(\"integer\"))"
   ]
  },
  {
   "cell_type": "code",
   "execution_count": 24,
   "id": "6ebc5ab1-2978-4df8-9344-94d7ecf8e197",
   "metadata": {},
   "outputs": [],
   "source": [
    "matches = matches.withColumn(\"tourney_date\", to_date(matches[\"tourney_date\"].cast(\"string\"), \"yyyyMMdd\"))\n",
    "matches = matches.withColumn(\"winner_age\", matches[\"winner_age\"].cast(\"double\"))"
   ]
  },
  {
   "cell_type": "code",
   "execution_count": 25,
   "id": "ff5dc3c7-12ff-4b5c-beec-9d6b3f73a480",
   "metadata": {},
   "outputs": [],
   "source": [
    "# Function to get scores for each set\n",
    "def extrair_sets(scores):\n",
    "    if scores:\n",
    "        sets = scores.split(' ')\n",
    "    else:\n",
    "        sets = []\n",
    "    set_values = {}\n",
    "\n",
    "    if sets:\n",
    "        for i, set_score in enumerate(sets):\n",
    "            try:\n",
    "                set_values[f\"set_{i+1}\"] = int(set_score)\n",
    "            except ValueError:\n",
    "                set_values[f\"set_{i+1}\"] = set_score\n",
    "\n",
    "    return set_values\n",
    "\n",
    "extrair_sets_udf = udf(extrair_sets, MapType(StringType(), StringType()))\n",
    "\n",
    "# New column with the scores for each set\n",
    "matches = matches.withColumn(\"sets\", extrair_sets_udf(col(\"score\")))\n",
    "for i in range(1, 6):  \n",
    "    matches = matches.withColumn(f\"set_{i}\", when(col(\"sets\").getItem(f\"set_{i}\").isNull(), None).otherwise(col(\"sets\").getItem(f\"set_{i}\")))\n",
    "\n",
    "matches = matches.drop(\"sets\")"
   ]
  },
  {
   "cell_type": "code",
   "execution_count": 26,
   "id": "674d9c93-9a5b-4199-a17a-7c478fd9a3b3",
   "metadata": {},
   "outputs": [
    {
     "name": "stdout",
     "output_type": "stream",
     "text": [
      "+------+------+-----+-----+-----+\n",
      "| set_1| set_2|set_3|set_4|set_5|\n",
      "+------+------+-----+-----+-----+\n",
      "|   6-2|   6-2| NULL| NULL| NULL|\n",
      "|   6-3|   4-6|  6-2| NULL| NULL|\n",
      "|   6-4|   6-3| NULL| NULL| NULL|\n",
      "|   6-3|   6-2| NULL| NULL| NULL|\n",
      "|   6-4|   6-2| NULL| NULL| NULL|\n",
      "|   4-6|   6-1|  6-3| NULL| NULL|\n",
      "|6-7(3)|   6-3|  6-4| NULL| NULL|\n",
      "|   6-4|   6-4| NULL| NULL| NULL|\n",
      "|   6-2|   7-5| NULL| NULL| NULL|\n",
      "|   6-2|7-6(2)| NULL| NULL| NULL|\n",
      "+------+------+-----+-----+-----+\n",
      "only showing top 10 rows\n",
      "\n"
     ]
    }
   ],
   "source": [
    "matches.select(\"set_1\", \"set_2\", \"set_3\", \"set_4\", \"set_5\").show(10)"
   ]
  },
  {
   "cell_type": "code",
   "execution_count": 27,
   "id": "4fb1d000-c06d-4918-b9d3-68b467d84e01",
   "metadata": {},
   "outputs": [
    {
     "name": "stdout",
     "output_type": "stream",
     "text": [
      "+-----+\n",
      "|set_5|\n",
      "+-----+\n",
      "|  6-1|\n",
      "|  8-6|\n",
      "|  6-2|\n",
      "|  6-4|\n",
      "|  6-2|\n",
      "|  8-6|\n",
      "|  6-3|\n",
      "|  RET|\n",
      "|  6-2|\n",
      "|  6-4|\n",
      "+-----+\n",
      "only showing top 10 rows\n",
      "\n"
     ]
    }
   ],
   "source": [
    "matches.filter(matches[\"set_5\"].isNotNull()).select(\"set_5\").show(10)"
   ]
  },
  {
   "cell_type": "code",
   "execution_count": 28,
   "id": "4e41cf85-4441-4c6a-9c30-9b8665045bea",
   "metadata": {
    "scrolled": true
   },
   "outputs": [
    {
     "name": "stdout",
     "output_type": "stream",
     "text": [
      "root\n",
      " |-- Origin: string (nullable = false)\n",
      " |-- best_of: integer (nullable = true)\n",
      " |-- draw_size: integer (nullable = true)\n",
      " |-- l_1stIn: integer (nullable = true)\n",
      " |-- l_1stWon: integer (nullable = true)\n",
      " |-- l_2ndWon: integer (nullable = true)\n",
      " |-- l_SvGms: integer (nullable = true)\n",
      " |-- l_ace: integer (nullable = true)\n",
      " |-- l_bpFaced: integer (nullable = true)\n",
      " |-- l_bpSaved: integer (nullable = true)\n",
      " |-- l_df: integer (nullable = true)\n",
      " |-- l_svpt: integer (nullable = true)\n",
      " |-- loser1_age: double (nullable = true)\n",
      " |-- loser1_hand: string (nullable = true)\n",
      " |-- loser1_ht: integer (nullable = true)\n",
      " |-- loser1_id: integer (nullable = true)\n",
      " |-- loser1_ioc: string (nullable = true)\n",
      " |-- loser1_name: string (nullable = true)\n",
      " |-- loser1_rank: integer (nullable = true)\n",
      " |-- loser1_rank_points: integer (nullable = true)\n",
      " |-- loser2_age: double (nullable = true)\n",
      " |-- loser2_hand: string (nullable = true)\n",
      " |-- loser2_ht: integer (nullable = true)\n",
      " |-- loser2_id: integer (nullable = true)\n",
      " |-- loser2_ioc: string (nullable = true)\n",
      " |-- loser2_name: string (nullable = true)\n",
      " |-- loser2_rank: integer (nullable = true)\n",
      " |-- loser2_rank_points: integer (nullable = true)\n",
      " |-- loser_age: double (nullable = true)\n",
      " |-- loser_entry: string (nullable = true)\n",
      " |-- loser_hand: string (nullable = true)\n",
      " |-- loser_ht: integer (nullable = true)\n",
      " |-- loser_id: integer (nullable = true)\n",
      " |-- loser_ioc: string (nullable = true)\n",
      " |-- loser_name: string (nullable = true)\n",
      " |-- loser_rank: integer (nullable = true)\n",
      " |-- loser_rank_points: integer (nullable = true)\n",
      " |-- loser_seed: integer (nullable = true)\n",
      " |-- match_num: integer (nullable = true)\n",
      " |-- minutes: integer (nullable = true)\n",
      " |-- round: string (nullable = true)\n",
      " |-- score: string (nullable = true)\n",
      " |-- surface: string (nullable = true)\n",
      " |-- tourney_date: date (nullable = true)\n",
      " |-- tourney_id: string (nullable = true)\n",
      " |-- tourney_level: string (nullable = true)\n",
      " |-- tourney_name: string (nullable = true)\n",
      " |-- w_1stIn: integer (nullable = true)\n",
      " |-- w_1stWon: integer (nullable = true)\n",
      " |-- w_2ndWon: integer (nullable = true)\n",
      " |-- w_SvGms: integer (nullable = true)\n",
      " |-- w_ace: integer (nullable = true)\n",
      " |-- w_bpFaced: integer (nullable = true)\n",
      " |-- w_bpSaved: integer (nullable = true)\n",
      " |-- w_df: integer (nullable = true)\n",
      " |-- w_svpt: integer (nullable = true)\n",
      " |-- winner1_age: double (nullable = true)\n",
      " |-- winner1_hand: string (nullable = true)\n",
      " |-- winner1_ht: integer (nullable = true)\n",
      " |-- winner1_id: integer (nullable = true)\n",
      " |-- winner1_ioc: string (nullable = true)\n",
      " |-- winner1_name: string (nullable = true)\n",
      " |-- winner1_rank: integer (nullable = true)\n",
      " |-- winner1_rank_points: integer (nullable = true)\n",
      " |-- winner2_age: double (nullable = true)\n",
      " |-- winner2_hand: integer (nullable = true)\n",
      " |-- winner2_ht: integer (nullable = true)\n",
      " |-- winner2_id: integer (nullable = true)\n",
      " |-- winner2_ioc: string (nullable = true)\n",
      " |-- winner2_name: string (nullable = true)\n",
      " |-- winner2_rank: integer (nullable = true)\n",
      " |-- winner2_rank_points: integer (nullable = true)\n",
      " |-- winner_age: double (nullable = true)\n",
      " |-- winner_entry: string (nullable = true)\n",
      " |-- winner_hand: string (nullable = true)\n",
      " |-- winner_ht: integer (nullable = true)\n",
      " |-- winner_id: integer (nullable = true)\n",
      " |-- winner_ioc: string (nullable = true)\n",
      " |-- winner_name: string (nullable = true)\n",
      " |-- winner_rank: integer (nullable = true)\n",
      " |-- winner_rank_points: integer (nullable = true)\n",
      " |-- winner_seed: integer (nullable = true)\n",
      " |-- set_1: string (nullable = true)\n",
      " |-- set_2: string (nullable = true)\n",
      " |-- set_3: string (nullable = true)\n",
      " |-- set_4: string (nullable = true)\n",
      " |-- set_5: string (nullable = true)\n",
      "\n"
     ]
    }
   ],
   "source": [
    "matches.printSchema()"
   ]
  },
  {
   "cell_type": "code",
   "execution_count": null,
   "id": "d75d96ea-d173-4502-a5f5-24e4dea55ca8",
   "metadata": {},
   "outputs": [],
   "source": []
  },
  {
   "cell_type": "code",
   "execution_count": 29,
   "id": "27ff7afb-c1cc-4837-b86c-b15137dc56ee",
   "metadata": {},
   "outputs": [],
   "source": [
    "doubles_columns = ['winner1_age', 'winner1_hand', 'winner1_ht', 'winner1_id', 'winner1_ioc', 'winner1_name', 'winner1_rank', 'winner1_rank_points', 'loser1_age', 'loser1_hand', 'loser1_ht', 'loser1_id', 'loser1_ioc', 'loser1_name', 'loser1_rank', 'loser1_rank_points']\n",
    "singles_columns = ['winner_age', 'winner_hand', 'winner_ht', 'winner_id', 'winner_ioc', 'winner_name', 'winner_rank', 'winner_rank_points', 'loser_age', 'loser_hand', 'loser_ht', 'loser_id', 'loser_ioc', 'loser_name', 'loser_rank', 'loser_rank_points']"
   ]
  },
  {
   "cell_type": "code",
   "execution_count": 30,
   "id": "6f5dbacf-1b42-48bf-9ef4-1852a1bc33c1",
   "metadata": {},
   "outputs": [],
   "source": [
    "# Transferring the records in singles-related columns to doubles-related columns\n",
    "for i in range(len(doubles_columns)):\n",
    "    matches = matches.withColumn(f\"{doubles_columns[i]}\", coalesce(matches[f\"{singles_columns[i]}\"], matches[f\"{doubles_columns[i]}\"]))"
   ]
  },
  {
   "cell_type": "code",
   "execution_count": 31,
   "id": "eb82f873-a1b1-40dc-a2ca-886128842ae7",
   "metadata": {},
   "outputs": [],
   "source": [
    "# Dropping the columns not needed\n",
    "matches = matches.drop(*singles_columns)"
   ]
  },
  {
   "cell_type": "code",
   "execution_count": 32,
   "id": "808045e1-eb62-4c90-ad59-b75703663d78",
   "metadata": {},
   "outputs": [
    {
     "data": {
      "text/plain": [
       "71"
      ]
     },
     "execution_count": 32,
     "metadata": {},
     "output_type": "execute_result"
    }
   ],
   "source": [
    "# 65 + Origin + 5 sets = 71\n",
    "len(matches.columns)"
   ]
  },
  {
   "cell_type": "code",
   "execution_count": 33,
   "id": "8667e0ac-ee1c-4ddb-86d5-5f31009c3534",
   "metadata": {},
   "outputs": [],
   "source": [
    "# BEA"
   ]
  },
  {
   "cell_type": "code",
   "execution_count": 34,
   "id": "97e73eb7-da45-4cab-9d12-e04d8e1f0811",
   "metadata": {},
   "outputs": [
    {
     "data": {
      "text/plain": [
       "DataFrame[Origin: string, best_of: int, draw_size: int, l_1stIn: int, l_1stWon: int, l_2ndWon: int, l_SvGms: int, l_ace: int, l_bpFaced: int, l_bpSaved: int, l_df: int, l_svpt: int, loser1_age: double, loser1_hand: string, loser1_ht: int, loser1_id: int, loser1_ioc: string, loser1_name: string, loser1_rank: int, loser1_rank_points: int, loser2_age: double, loser2_hand: string, loser2_ht: int, loser2_id: int, loser2_ioc: string, loser2_name: string, loser2_rank: int, loser2_rank_points: int, loser_entry: string, loser_seed: int, match_num: int, minutes: int, round: string, score: string, surface: string, tourney_date: date, tourney_id: string, tourney_level: string, tourney_name: string, w_1stIn: int, w_1stWon: int, w_2ndWon: int, w_SvGms: int, w_ace: int, w_bpFaced: int, w_bpSaved: int, w_df: int, w_svpt: int, winner1_age: double, winner1_hand: string, winner1_ht: int, winner1_id: int, winner1_ioc: string, winner1_name: string, winner1_rank: int, winner1_rank_points: int, winner2_age: double, winner2_hand: int, winner2_ht: int, winner2_id: int, winner2_ioc: string, winner2_name: string, winner2_rank: int, winner2_rank_points: int, winner_entry: string, winner_seed: int, set_1: string, set_2: string, set_3: string, set_4: string, set_5: string]"
      ]
     },
     "execution_count": 34,
     "metadata": {},
     "output_type": "execute_result"
    }
   ],
   "source": [
    "matches"
   ]
  },
  {
   "cell_type": "code",
   "execution_count": 35,
   "id": "1cd36092-d432-416f-9f90-bdd320b227f8",
   "metadata": {},
   "outputs": [
    {
     "name": "stdout",
     "output_type": "stream",
     "text": [
      "-------------------------------------------\n",
      "Total null values in 'Origin' column: 0\n",
      "Total values in 'set_1' column: 935359\n",
      "-------------------------------------------\n",
      "Column name: Origin has a total of 0 null values and percentage of nulls: 0.00%\n",
      "Column name: best_of has a total of 0 null values and percentage of nulls: 0.00%\n",
      "Column name: draw_size has a total of 2477 null values and percentage of nulls: 0.26%\n",
      "Column name: l_1stIn has a total of 730169 null values and percentage of nulls: 78.06%\n",
      "Column name: l_1stWon has a total of 730169 null values and percentage of nulls: 78.06%\n",
      "Column name: l_2ndWon has a total of 730169 null values and percentage of nulls: 78.06%\n",
      "Column name: l_SvGms has a total of 730170 null values and percentage of nulls: 78.06%\n",
      "Column name: l_ace has a total of 730169 null values and percentage of nulls: 78.06%\n",
      "Column name: l_bpFaced has a total of 730169 null values and percentage of nulls: 78.06%\n",
      "Column name: l_bpSaved has a total of 730169 null values and percentage of nulls: 78.06%\n",
      "Column name: l_df has a total of 730168 null values and percentage of nulls: 78.06%\n",
      "Column name: l_svpt has a total of 730169 null values and percentage of nulls: 78.06%\n",
      "Column name: loser1_age has a total of 28552 null values and percentage of nulls: 3.05%\n",
      "Column name: loser1_hand has a total of 21069 null values and percentage of nulls: 2.25%\n",
      "Column name: loser1_ht has a total of 471562 null values and percentage of nulls: 50.42%\n",
      "Column name: loser1_id has a total of 0 null values and percentage of nulls: 0.00%\n",
      "Column name: loser1_ioc has a total of 169 null values and percentage of nulls: 0.02%\n",
      "Column name: loser1_name has a total of 5 null values and percentage of nulls: 0.00%\n",
      "Column name: loser1_rank has a total of 174783 null values and percentage of nulls: 18.69%\n",
      "Column name: loser1_rank_points has a total of 234477 null values and percentage of nulls: 25.07%\n",
      "Column name: loser2_age has a total of 908992 null values and percentage of nulls: 97.18%\n",
      "Column name: loser2_hand has a total of 908973 null values and percentage of nulls: 97.18%\n",
      "Column name: loser2_ht has a total of 912791 null values and percentage of nulls: 97.59%\n",
      "Column name: loser2_id has a total of 908966 null values and percentage of nulls: 97.18%\n",
      "Column name: loser2_ioc has a total of 908972 null values and percentage of nulls: 97.18%\n",
      "Column name: loser2_name has a total of 908972 null values and percentage of nulls: 97.18%\n",
      "Column name: loser2_rank has a total of 909567 null values and percentage of nulls: 97.24%\n",
      "Column name: loser2_rank_points has a total of 909567 null values and percentage of nulls: 97.24%\n",
      "Column name: loser_entry has a total of 665768 null values and percentage of nulls: 71.18%\n",
      "Column name: loser_seed has a total of 732118 null values and percentage of nulls: 78.27%\n",
      "Column name: match_num has a total of 0 null values and percentage of nulls: 0.00%\n",
      "Column name: minutes has a total of 736893 null values and percentage of nulls: 78.78%\n",
      "Column name: round has a total of 0 null values and percentage of nulls: 0.00%\n",
      "Column name: score has a total of 140 null values and percentage of nulls: 0.01%\n",
      "Column name: surface has a total of 6329 null values and percentage of nulls: 0.68%\n",
      "Column name: tourney_date has a total of 0 null values and percentage of nulls: 0.00%\n",
      "Column name: tourney_id has a total of 0 null values and percentage of nulls: 0.00%\n",
      "Column name: tourney_level has a total of 0 null values and percentage of nulls: 0.00%\n",
      "Column name: tourney_name has a total of 0 null values and percentage of nulls: 0.00%\n",
      "Column name: w_1stIn has a total of 730169 null values and percentage of nulls: 78.06%\n",
      "Column name: w_1stWon has a total of 730169 null values and percentage of nulls: 78.06%\n",
      "Column name: w_2ndWon has a total of 730169 null values and percentage of nulls: 78.06%\n",
      "Column name: w_SvGms has a total of 730170 null values and percentage of nulls: 78.06%\n",
      "Column name: w_ace has a total of 730168 null values and percentage of nulls: 78.06%\n",
      "Column name: w_bpFaced has a total of 730169 null values and percentage of nulls: 78.06%\n",
      "Column name: w_bpSaved has a total of 730169 null values and percentage of nulls: 78.06%\n",
      "Column name: w_df has a total of 730169 null values and percentage of nulls: 78.06%\n",
      "Column name: w_svpt has a total of 730169 null values and percentage of nulls: 78.06%\n",
      "Column name: winner1_age has a total of 13190 null values and percentage of nulls: 1.41%\n",
      "Column name: winner1_hand has a total of 19465 null values and percentage of nulls: 2.08%\n",
      "Column name: winner1_ht has a total of 361144 null values and percentage of nulls: 38.61%\n",
      "Column name: winner1_id has a total of 0 null values and percentage of nulls: 0.00%\n",
      "Column name: winner1_ioc has a total of 98 null values and percentage of nulls: 0.01%\n",
      "Column name: winner1_name has a total of 0 null values and percentage of nulls: 0.00%\n",
      "Column name: winner1_rank has a total of 107891 null values and percentage of nulls: 11.53%\n",
      "Column name: winner1_rank_points has a total of 176189 null values and percentage of nulls: 18.84%\n",
      "Column name: winner2_age has a total of 908960 null values and percentage of nulls: 97.18%\n",
      "Column name: winner2_hand has a total of 935359 null values and percentage of nulls: 100.00%\n",
      "Column name: winner2_ht has a total of 912034 null values and percentage of nulls: 97.51%\n",
      "Column name: winner2_id has a total of 908960 null values and percentage of nulls: 97.18%\n",
      "Column name: winner2_ioc has a total of 908960 null values and percentage of nulls: 97.18%\n",
      "Column name: winner2_name has a total of 908960 null values and percentage of nulls: 97.18%\n",
      "Column name: winner2_rank has a total of 909324 null values and percentage of nulls: 97.22%\n",
      "Column name: winner2_rank_points has a total of 909324 null values and percentage of nulls: 97.22%\n",
      "Column name: winner_entry has a total of 783409 null values and percentage of nulls: 83.75%\n",
      "Column name: winner_seed has a total of 539601 null values and percentage of nulls: 57.69%\n",
      "-------------------------------------------\n",
      "Columns with null percentage superior to 75%\n",
      "Column name: l_1stIn\n",
      "Column name: l_1stWon\n",
      "Column name: l_2ndWon\n",
      "Column name: l_SvGms\n",
      "Column name: l_ace\n",
      "Column name: l_bpFaced\n",
      "Column name: l_bpSaved\n",
      "Column name: l_df\n",
      "Column name: l_svpt\n",
      "Column name: loser2_age\n",
      "Column name: loser2_hand\n",
      "Column name: loser2_ht\n",
      "Column name: loser2_id\n",
      "Column name: loser2_ioc\n",
      "Column name: loser2_name\n",
      "Column name: loser2_rank\n",
      "Column name: loser2_rank_points\n",
      "Column name: loser_seed\n",
      "Column name: minutes\n",
      "Column name: w_1stIn\n",
      "Column name: w_1stWon\n",
      "Column name: w_2ndWon\n",
      "Column name: w_SvGms\n",
      "Column name: w_ace\n",
      "Column name: w_bpFaced\n",
      "Column name: w_bpSaved\n",
      "Column name: w_df\n",
      "Column name: w_svpt\n",
      "Column name: winner2_age\n",
      "Column name: winner2_hand\n",
      "Column name: winner2_ht\n",
      "Column name: winner2_id\n",
      "Column name: winner2_ioc\n",
      "Column name: winner2_name\n",
      "Column name: winner2_rank\n",
      "Column name: winner2_rank_points\n",
      "Column name: winner_entry\n"
     ]
    }
   ],
   "source": [
    "print(\"-------------------------------------------\")\n",
    "# Count null values in 'Origin' column\n",
    "null_count = matches.select('Origin').where(col('Origin').isNull()).count()\n",
    "# Count total values set_1\n",
    "total_values = matches.select('set_1').count()\n",
    "print(f\"Total null values in 'Origin' column: {null_count}\")\n",
    "print(f\"Total values in 'set_1' column: {total_values}\")\n",
    "print(\"-------------------------------------------\")\n",
    "\n",
    "\n",
    "\n",
    "\n",
    "# Only use until winnner_seed, set_1, set_2, etc... were throwing errors\n",
    "relevant_columns = matches.columns[: matches.columns.index('winner_seed') + 1]  # Add 1 for inclusive indexing\n",
    "\n",
    "# Calculate null values counts\n",
    "null_columns = []\n",
    "for column in relevant_columns:\n",
    "    null_value_counts = matches.select(column).where(col(column).isNull()).count()\n",
    "    # Percentage of null values\n",
    "    percentage = (null_value_counts / matches.select(column).count()) * 100\n",
    "    # Print the results\n",
    "    print(f\"Column name: {column} has a total of {null_value_counts} null values and percentage of nulls: {percentage:.2f}%\")\n",
    "    \n",
    "    \n",
    "    # If percentage of nulls superior to 75% delete column?\n",
    "    if percentage >= 75:\n",
    "        null_columns.append(column)\n",
    "\n",
    "print(\"-------------------------------------------\")\n",
    "print(\"Columns with null percentage superior to 75%\")\n",
    "for column_null in null_columns:\n",
    "    print(f\"Column name: {column_null}\")"
   ]
  },
  {
   "cell_type": "code",
   "execution_count": 36,
   "id": "869fde8d-7477-4f30-af94-75850d3da174",
   "metadata": {
    "scrolled": true
   },
   "outputs": [],
   "source": [
    "matches.repartition(1).write.csv(\"matches\", mode='overwrite')"
   ]
  },
  {
   "cell_type": "code",
   "execution_count": 37,
   "id": "ef506c16-90ce-48bd-9bd7-7c7647efd865",
   "metadata": {},
   "outputs": [
    {
     "name": "stdout",
     "output_type": "stream",
     "text": [
      "root\n",
      " |-- Origin: string (nullable = false)\n",
      " |-- best_of: integer (nullable = true)\n",
      " |-- draw_size: integer (nullable = true)\n",
      " |-- l_1stIn: integer (nullable = true)\n",
      " |-- l_1stWon: integer (nullable = true)\n",
      " |-- l_2ndWon: integer (nullable = true)\n",
      " |-- l_SvGms: integer (nullable = true)\n",
      " |-- l_ace: integer (nullable = true)\n",
      " |-- l_bpFaced: integer (nullable = true)\n",
      " |-- l_bpSaved: integer (nullable = true)\n",
      " |-- l_df: integer (nullable = true)\n",
      " |-- l_svpt: integer (nullable = true)\n",
      " |-- loser1_age: double (nullable = true)\n",
      " |-- loser1_hand: string (nullable = true)\n",
      " |-- loser1_ht: integer (nullable = true)\n",
      " |-- loser1_id: integer (nullable = true)\n",
      " |-- loser1_ioc: string (nullable = true)\n",
      " |-- loser1_name: string (nullable = true)\n",
      " |-- loser1_rank: integer (nullable = true)\n",
      " |-- loser1_rank_points: integer (nullable = true)\n",
      " |-- loser2_age: double (nullable = true)\n",
      " |-- loser2_hand: string (nullable = true)\n",
      " |-- loser2_ht: integer (nullable = true)\n",
      " |-- loser2_id: integer (nullable = true)\n",
      " |-- loser2_ioc: string (nullable = true)\n",
      " |-- loser2_name: string (nullable = true)\n",
      " |-- loser2_rank: integer (nullable = true)\n",
      " |-- loser2_rank_points: integer (nullable = true)\n",
      " |-- loser_entry: string (nullable = true)\n",
      " |-- loser_seed: integer (nullable = true)\n",
      " |-- match_num: integer (nullable = true)\n",
      " |-- minutes: integer (nullable = true)\n",
      " |-- round: string (nullable = true)\n",
      " |-- score: string (nullable = true)\n",
      " |-- surface: string (nullable = true)\n",
      " |-- tourney_date: date (nullable = true)\n",
      " |-- tourney_id: string (nullable = true)\n",
      " |-- tourney_level: string (nullable = true)\n",
      " |-- tourney_name: string (nullable = true)\n",
      " |-- w_1stIn: integer (nullable = true)\n",
      " |-- w_1stWon: integer (nullable = true)\n",
      " |-- w_2ndWon: integer (nullable = true)\n",
      " |-- w_SvGms: integer (nullable = true)\n",
      " |-- w_ace: integer (nullable = true)\n",
      " |-- w_bpFaced: integer (nullable = true)\n",
      " |-- w_bpSaved: integer (nullable = true)\n",
      " |-- w_df: integer (nullable = true)\n",
      " |-- w_svpt: integer (nullable = true)\n",
      " |-- winner1_age: double (nullable = true)\n",
      " |-- winner1_hand: string (nullable = true)\n",
      " |-- winner1_ht: integer (nullable = true)\n",
      " |-- winner1_id: integer (nullable = true)\n",
      " |-- winner1_ioc: string (nullable = true)\n",
      " |-- winner1_name: string (nullable = true)\n",
      " |-- winner1_rank: integer (nullable = true)\n",
      " |-- winner1_rank_points: integer (nullable = true)\n",
      " |-- winner2_age: double (nullable = true)\n",
      " |-- winner2_hand: integer (nullable = true)\n",
      " |-- winner2_ht: integer (nullable = true)\n",
      " |-- winner2_id: integer (nullable = true)\n",
      " |-- winner2_ioc: string (nullable = true)\n",
      " |-- winner2_name: string (nullable = true)\n",
      " |-- winner2_rank: integer (nullable = true)\n",
      " |-- winner2_rank_points: integer (nullable = true)\n",
      " |-- winner_entry: string (nullable = true)\n",
      " |-- winner_seed: integer (nullable = true)\n",
      " |-- set_1: string (nullable = true)\n",
      " |-- set_2: string (nullable = true)\n",
      " |-- set_3: string (nullable = true)\n",
      " |-- set_4: string (nullable = true)\n",
      " |-- set_5: string (nullable = true)\n",
      "\n"
     ]
    }
   ],
   "source": [
    "matches.printSchema()"
   ]
  },
  {
   "cell_type": "markdown",
   "id": "fc6bfbba-0652-405b-855f-dc13d61159df",
   "metadata": {},
   "source": [
    "### Plots - Bea"
   ]
  },
  {
   "cell_type": "markdown",
   "id": "fcf0f2e4-a22a-4d25-a0d5-882cc56844eb",
   "metadata": {},
   "source": [
    "##### Distribution of player ages (Winners and Losers) "
   ]
  },
  {
   "cell_type": "code",
   "execution_count": 38,
   "id": "d1e089cb-b616-42d0-ae36-8f1e754b2f16",
   "metadata": {},
   "outputs": [
    {
     "data": {
      "image/png": "[encoded data removed]",
      "text/plain": [
       "<Figure size 1000x600 with 1 Axes>"
      ]
     },
     "metadata": {},
     "output_type": "display_data"
    }
   ],
   "source": [
    "# Drop Null values for age\n",
    "winner_age_data = matches.select('winner1_age').dropna()\n",
    "loser_age_data = matches.select('loser1_age').dropna()\n",
    "\n",
    "winner_age_pandas = winner_age_data.toPandas()\n",
    "loser_age_pandas = loser_age_data.toPandas()\n",
    "\n",
    "plt.figure(figsize=(10, 6))\n",
    "plt.hist(winner_age_pandas['winner1_age'], bins=20, color='skyblue', edgecolor='black', alpha=0.7, label='Winners')\n",
    "plt.hist(loser_age_pandas['loser1_age'], bins=20, color='salmon', edgecolor='black', alpha=0.7, label='Losers')\n",
    "plt.title('Distribution of Player Ages')\n",
    "plt.xlabel('Age')\n",
    "plt.ylabel('Quantity')\n",
    "plt.legend()\n",
    "plt.grid(True)\n",
    "plt.show()"
   ]
  },
  {
   "cell_type": "markdown",
   "id": "bb1725f1-ceb3-4869-ae4e-528c7ff79032",
   "metadata": {},
   "source": [
    "##### Distribution of tournament types (Grand Slams, ATP Tour, Challengers, Futures) - Ver se dá para fazer separação para homem e para mulher"
   ]
  },
  {
   "cell_type": "code",
   "execution_count": 39,
   "id": "24d9fae1-cd37-4c88-a51f-d83ca3d26a56",
   "metadata": {},
   "outputs": [
    {
     "data": {
      "image/png": "[encoded data removed]",
      "text/plain": [
       "<Figure size 1000x600 with 1 Axes>"
      ]
     },
     "metadata": {},
     "output_type": "display_data"
    }
   ],
   "source": [
    "tournament_level_mapping = {\n",
    "    'G': 'Grand Slams',\n",
    "    'M': 'Masters 1000s',\n",
    "    'A': 'Other Tour-level Events',\n",
    "    'C': 'Challengers',\n",
    "    'S': 'Satellites/ITFs',\n",
    "    'F': 'Tour Finals and Other Season-Ending Events',\n",
    "    'D': 'Davis Cup',\n",
    "    'P': 'Premier',\n",
    "    'PM': 'Premier Mandatory',\n",
    "    'I': 'International',\n",
    "    '15': 'ITF $15,000',\n",
    "}\n",
    "\n",
    "matches_tourney = matches.withColumn('tourney_level_desc', F.create_map([F.lit(x) for x in chain(*tournament_level_mapping.items())])[F.col('tourney_level')])\n",
    "\n",
    "# Filter out rows with missing values in 'tourney_level_desc' column\n",
    "matches_tourney = matches_tourney.filter(matches_tourney['tourney_level_desc'].isNotNull())\n",
    "\n",
    "tournament_type_counts = matches_tourney.groupby('tourney_level_desc').count().orderBy('count', ascending=False)\n",
    "tournament_type_counts_pandas = tournament_type_counts.toPandas()\n",
    "\n",
    "plt.figure(figsize=(10, 6))\n",
    "plt.bar(tournament_type_counts_pandas['tourney_level_desc'], tournament_type_counts_pandas['count'], color='skyblue')\n",
    "plt.title('Distribution of Tournament Types')\n",
    "plt.xlabel('Tournament Type')\n",
    "plt.ylabel('Frequency')\n",
    "plt.xticks(rotation=45)\n",
    "plt.grid(axis='y')\n",
    "plt.tight_layout()\n",
    "plt.show()"
   ]
  },
  {
   "cell_type": "markdown",
   "id": "c6b472cc-c337-480e-b537-b8497c4f68ed",
   "metadata": {},
   "source": [
    "##### Analysis of dominant hand (right-handed vs. left-handed) - DAR FIX NO GRÁFICO"
   ]
  },
  {
   "cell_type": "code",
   "execution_count": 40,
   "id": "a847e20a-8139-4b41-a349-0d6eff1445d6",
   "metadata": {},
   "outputs": [
    {
     "name": "stdout",
     "output_type": "stream",
     "text": [
      "Total Winners:\n",
      "  winner1_hand   count\n",
      "1            A     288\n",
      "2            L  105252\n",
      "3            R  698478\n",
      "4            U  111876\n",
      "\n",
      "Total Losers:\n",
      "  loser1_hand   count\n",
      "1           A     303\n",
      "2           L   92345\n",
      "3           R  650215\n",
      "4           U  171427\n"
     ]
    },
    {
     "data": {
      "image/png": "[encoded data removed]",
      "text/plain": [
       "<Figure size 1000x600 with 1 Axes>"
      ]
     },
     "metadata": {},
     "output_type": "display_data"
    }
   ],
   "source": [
    "# Group by the winner's hand and count occurrences\n",
    "winner_hand_counts = matches.groupBy('winner1_hand').count().orderBy('winner1_hand')\n",
    "loser_hand_counts = matches.groupBy('loser1_hand').count().orderBy('loser1_hand')\n",
    "\n",
    "# Convert to Pandas DataFrame\n",
    "winner_hand_pandas = winner_hand_counts.toPandas()\n",
    "loser_hand_pandas = loser_hand_counts.toPandas()\n",
    "\n",
    "# Filter out NaN values\n",
    "winner_hand_pandas_filtered = winner_hand_pandas.dropna(subset=['winner1_hand'])\n",
    "loser_hand_pandas_filtered = loser_hand_pandas.dropna(subset=['loser1_hand'])\n",
    "\n",
    "# Calculate the total number of winners and losers for each dominant hand\n",
    "total_winners = winner_hand_pandas_filtered['count'].sum()\n",
    "total_losers = loser_hand_pandas_filtered['count'].sum()\n",
    "\n",
    "# Print the total number of winners and losers for each dominant hand\n",
    "print(\"Total Winners:\")\n",
    "print(winner_hand_pandas_filtered)\n",
    "print(\"\\nTotal Losers:\")\n",
    "print(loser_hand_pandas_filtered)\n",
    "\n",
    "# Define colors for winners and losers\n",
    "winner_color = 'salmon'\n",
    "loser_color = 'lightgreen'\n",
    "\n",
    "# Plotting\n",
    "plt.figure(figsize=(10, 6))\n",
    "\n",
    "# Plot winners\n",
    "plt.bar(winner_hand_pandas_filtered['winner1_hand'], winner_hand_pandas_filtered['count'], color=winner_color, alpha=0.7, label='Winners')\n",
    "\n",
    "# Plot losers\n",
    "plt.bar(loser_hand_pandas_filtered['loser1_hand'], loser_hand_pandas_filtered['count'], color=loser_color, alpha=0.7, label='Losers')\n",
    "\n",
    "# Set labels and title\n",
    "plt.title('Distribution of Dominant Hand (Winners vs. Losers)')\n",
    "plt.xlabel('Dominant Hand')\n",
    "plt.ylabel('Count')\n",
    "plt.legend()\n",
    "plt.grid(True)\n",
    "plt.show()"
   ]
  },
  {
   "cell_type": "code",
   "execution_count": 40,
   "id": "d3248c9b-52e3-43db-8073-a4e9efd05707",
   "metadata": {},
   "outputs": [],
   "source": [
    "# Winning percentage on different surfaces (distributed por idade, top players)"
   ]
  },
  {
   "cell_type": "code",
   "execution_count": 41,
   "id": "1fa0a32e-1a1c-4cd9-8564-2a214fdaf265",
   "metadata": {},
   "outputs": [],
   "source": [
    "# Aces and double faults distribution. - Por surface também"
   ]
  },
  {
   "cell_type": "code",
   "execution_count": 42,
   "id": "b2445acc-ee8d-418b-a167-c141ab80c2a7",
   "metadata": {},
   "outputs": [],
   "source": [
    "# Tournament-level statistics (e.g., average match duration, average ranking points of winners)"
   ]
  },
  {
   "cell_type": "markdown",
   "id": "2ae96a48-d28a-4f04-8211-defd0c2548e2",
   "metadata": {},
   "source": [
    "### Queries - Lara"
   ]
  },
  {
   "cell_type": "code",
   "execution_count": 41,
   "id": "f9f11d41-6d25-4280-86c7-d8df54912c33",
   "metadata": {},
   "outputs": [],
   "source": [
    "#QUERIES, Lara\n",
    "from pyspark.sql.functions import sum as spark_sum\n",
    "import matplotlib.pyplot as plt"
   ]
  },
  {
   "cell_type": "markdown",
   "id": "742573e8-b36e-41d0-bd65-a7838b8dbb45",
   "metadata": {},
   "source": [
    "##### Roger Federer vs Rafael Nadal. Wins for each one / percentage on each surface."
   ]
  },
  {
   "cell_type": "code",
   "execution_count": 42,
   "id": "2b4cae33-eb30-4bba-b0f2-44d0b9c01bb2",
   "metadata": {},
   "outputs": [
    {
     "name": "stdout",
     "output_type": "stream",
     "text": [
      "Win percentage for Roger Federer by surface:\n",
      "+-------+-------------+-------------+-----------------+------------------+\n",
      "|surface|total_wins_rf|total_wins_rn|win_percentage_rf| win_percentage_rn|\n",
      "+-------+-------------+-------------+-----------------+------------------+\n",
      "|   Hard|           12|            9|57.14285714285714|42.857142857142854|\n",
      "|   Clay|            2|           14|             12.5|              87.5|\n",
      "|  Grass|            3|            1|             75.0|              25.0|\n",
      "+-------+-------------+-------------+-----------------+------------------+\n",
      "\n"
     ]
    },
    {
     "data": {
      "image/png": "[encoded data removed]",
      "text/plain": [
       "<Figure size 1000x600 with 1 Axes>"
      ]
     },
     "metadata": {},
     "output_type": "display_data"
    }
   ],
   "source": [
    "matches2 = matches.filter(\n",
    "    ((matches.winner1_name == \"Roger Federer\") & (matches.loser1_name == \"Rafael Nadal\"))\n",
    "     |\n",
    "    ((matches.winner1_name == \"Rafael Nadal\")  & (matches.loser1_name == \"Roger Federer\"))\n",
    ")\n",
    "# Calculate the total wins for each player on each surface\n",
    "total_wins_surface = matches2.groupBy(\"surface\").agg(\n",
    "    spark_sum(F.when(matches2.winner1_name == \"Roger Federer\", 1).otherwise(0)).alias(\"total_wins_rf\"),\n",
    "    spark_sum(F.when(matches2.winner1_name == \"Rafael Nadal\", 1).otherwise(0)).alias(\"total_wins_rn\")\n",
    ")\n",
    "\n",
    "# Calculate win percentages for each player on different surfaces\n",
    "surface_wins_rf = total_wins_surface.withColumn(\"win_percentage_rf\", (total_wins_surface[\"total_wins_rf\"] / (total_wins_surface[\"total_wins_rf\"] + total_wins_surface[\"total_wins_rn\"])) * 100)\n",
    "surface_wins = surface_wins_rf.withColumn(\"win_percentage_rn\", (total_wins_surface[\"total_wins_rn\"] / (total_wins_surface[\"total_wins_rf\"] + total_wins_surface[\"total_wins_rn\"])) * 100)\n",
    "\n",
    "print(\"Win percentage for Roger Federer by surface:\")\n",
    "surface_wins.show()\n",
    "# Extracting surface names and win percentages for both players\n",
    "surfaces = surface_wins.select(\"surface\").rdd.map(lambda row: row[0]).collect()\n",
    "win_percentages_rf = surface_wins.select(\"win_percentage_rf\").rdd.map(lambda row: row[0]).collect()\n",
    "win_percentages_rn = surface_wins.select(\"win_percentage_rn\").rdd.map(lambda row: row[0]).collect()\n",
    "\n",
    "plt.figure(figsize=(10, 6))\n",
    "plt.bar(surfaces, win_percentages_rf, color='blue', label='Roger Federer')\n",
    "plt.bar(surfaces, win_percentages_rn, color='green', label='Rafael Nadal', bottom=win_percentages_rf)\n",
    "plt.xlabel('Surface')\n",
    "plt.ylabel('Win Percentage')\n",
    "plt.title('Win Percentage by Surface for Roger Federer and Rafael Nadal')\n",
    "plt.legend()\n",
    "plt.xticks(rotation=45)\n",
    "plt.tight_layout()\n",
    "plt.show()"
   ]
  },
  {
   "cell_type": "code",
   "execution_count": 43,
   "id": "a4e1a0c7-5a0d-45a0-8ffa-d60bd6bc0239",
   "metadata": {},
   "outputs": [],
   "source": [
    "matches1 = matches.withColumn('surface', when(matches['surface']=='Carpet', \"Grass\").otherwise(matches['surface']))"
   ]
  },
  {
   "cell_type": "code",
   "execution_count": 44,
   "id": "55044c8a-ea78-4c05-ae52-6fc2e8042ed1",
   "metadata": {},
   "outputs": [
    {
     "name": "stdout",
     "output_type": "stream",
     "text": [
      "+-------+----------------------+--------------------+--------------------+\n",
      "|surface|win_percentage_federer|win_percentage_nadal|win_percentage_novak|\n",
      "+-------+----------------------+--------------------+--------------------+\n",
      "|   Clay|     73.45132743362832|   88.72785829307568|   78.98550724637681|\n",
      "|  Grass|     80.81395348837209|   73.68421052631578|   81.60919540229885|\n",
      "|   Hard|     82.01160541586073|   75.76974564926373|   81.03070175438597|\n",
      "+-------+----------------------+--------------------+--------------------+\n",
      "\n"
     ]
    }
   ],
   "source": [
    "#HELENA - a da Lara estava a considerar só os jogos que o cada um perdeu e o outro ganhou, o que baixava muito os números\n",
    "\n",
    "matches_federer = matches1.filter(\n",
    "    ((matches1.winner1_name == \"Roger Federer\") | (matches1.loser1_name == \"Roger Federer\"))\n",
    ")\n",
    "\n",
    "wins_federer = matches_federer.filter(\n",
    "    ((matches1.winner1_name == \"Roger Federer\") ))\n",
    "\n",
    "matches_nadal = matches1.filter(\n",
    "    ((matches1.winner1_name == \"Rafael Nadal\") | (matches1.loser1_name == \"Rafael Nadal\"))\n",
    ")\n",
    "\n",
    "wins_nadal = matches_nadal.filter(\n",
    "    ((matches1.winner1_name == \"Rafael Nadal\") ))\n",
    "\n",
    "matches_novak = matches1.filter(\n",
    "    ((matches1.winner1_name == \"Novak Djokovic\") | (matches1.loser1_name == \"Novak Djokovic\"))\n",
    ")\n",
    "\n",
    "wins_novak = matches_novak.filter(\n",
    "    ((matches1.winner1_name == \"Novak Djokovic\") ))\n",
    "    \n",
    "total_matches_surface_roger = matches_federer.groupBy(\"surface\").count().alias('matches_count')\n",
    "total_matches_surface_nadal = matches_nadal.groupBy(\"surface\").count()\n",
    "total_matches_surface_novak = matches_novak.groupBy(\"surface\").count()\n",
    "\n",
    "total_wins_surface_roger = wins_federer.groupBy(\"surface\") \\\n",
    "  .count() \\\n",
    "  .withColumnRenamed(\"count\", \"win_count\")\n",
    "\n",
    "total_wins_surface_nadal = wins_nadal.groupBy(\"surface\") \\\n",
    "  .count() \\\n",
    "  .withColumnRenamed(\"count\", \"win_count\")\n",
    "\n",
    "total_wins_surface_novak = wins_novak.groupBy(\"surface\") \\\n",
    "  .count() \\\n",
    "  .withColumnRenamed(\"count\", \"win_count\")\n",
    "\n",
    "\n",
    "# Calculate win percentages for Federer\n",
    "win_percentages_federer = total_wins_surface_roger.join(\n",
    "    total_matches_surface_roger, on=\"surface\"\n",
    ").withColumn(\n",
    "    \"win_percentage_federer\", F.col(\"win_count\") / F.col(\"count\") * 100\n",
    ")\n",
    "\n",
    "# Calculate win percentages for Nadal (similar approach)\n",
    "win_percentages_nadal = total_wins_surface_nadal.join(\n",
    "    total_matches_surface_nadal, on=\"surface\"\n",
    ").withColumn(\n",
    "    \"win_percentage_nadal\", F.col(\"win_count\") / F.col(\"count\") * 100\n",
    ")\n",
    "\n",
    "win_percentages_novak = total_wins_surface_novak.join(\n",
    "    total_matches_surface_novak, on=\"surface\"\n",
    ").withColumn(\n",
    "    \"win_percentage_novak\", F.col(\"win_count\") / F.col(\"count\") * 100\n",
    ")\n",
    "\n",
    "# Combine results into a single DataFrame (optional)\n",
    "\n",
    "# Combine win percentages with aliases\n",
    "combined_percentages = win_percentages_federer.select(\"surface\", \"win_percentage_federer\")\\\n",
    "  .join(win_percentages_nadal.select(\"surface\", \"win_percentage_nadal\"), on=\"surface\") \\\n",
    "  .join(win_percentages_novak.select(\"surface\", \"win_percentage_novak\"), on=\"surface\")\n",
    "\n",
    "# Display the DataFrame\n",
    "combined_percentages.show()"
   ]
  },
  {
   "cell_type": "code",
   "execution_count": 45,
   "id": "9917fa51-41ca-4d22-8362-1429b1eb669a",
   "metadata": {},
   "outputs": [
    {
     "data": {
      "image/png": "[encoded data removed]",
      "text/plain": [
       "<Figure size 1500x600 with 1 Axes>"
      ]
     },
     "metadata": {},
     "output_type": "display_data"
    }
   ],
   "source": [
    "import matplotlib.pyplot as plt\n",
    "\n",
    "# Assuming the combined_percentages DataFrame is available\n",
    "\n",
    "# Extract data for plotting\n",
    "surfaces = combined_percentages.select(\"surface\").distinct().rdd.flatMap(lambda x: x).collect()\n",
    "\n",
    "# Extract win percentages for each player (assuming column names)\n",
    "federer_percentages = combined_percentages.select(\"win_percentage_federer\").rdd.flatMap(lambda x: x).collect()\n",
    "nadal_percentages = combined_percentages.select(\"win_percentage_nadal\").rdd.flatMap(lambda x: x).collect()\n",
    "novak_percentages = combined_percentages.select(\"win_percentage_novak\").rdd.flatMap(lambda x: x).collect()\n",
    "\n",
    "# Create the bar chart\n",
    "plt.figure(figsize=(15, 6))  # Adjust width for three players\n",
    "bar_width = 0.25  # Adjust bar width for three players\n",
    "num_players = 3\n",
    "index = range(len(surfaces))\n",
    "\n",
    "# Create bars for each player\n",
    "plt.bar(index, federer_percentages, bar_width, label='Roger Federer', color='b')\n",
    "plt.bar([i + bar_width for i in index], nadal_percentages, bar_width, label='Rafael Nadal', color='g')\n",
    "plt.bar([i + 2 * bar_width for i in index], novak_percentages, bar_width, label='Novak Djokovic', color='r')\n",
    "\n",
    "# Customize the plot\n",
    "plt.xlabel('Surface')\n",
    "plt.ylabel('Win Percentage (%)')\n",
    "plt.title('Win Percentages by Surface (Federer, Nadal, Djokovic)')\n",
    "plt.xticks([i + bar_width * (num_players - 1) / 2 for i in index], surfaces, rotation=45)  # Adjust x-axis tick positions\n",
    "plt.grid(True)\n",
    "plt.legend()\n",
    "\n",
    "# Display the plot\n",
    "plt.tight_layout()\n",
    "plt.show()"
   ]
  },
  {
   "cell_type": "code",
   "execution_count": 46,
   "id": "03e0a84e-69e3-4c1e-a06f-9b977ec0564e",
   "metadata": {},
   "outputs": [
    {
     "name": "stdout",
     "output_type": "stream",
     "text": [
      "  surface    avg_time\n",
      "0  Carpet   91.618310\n",
      "1    Clay  101.223521\n",
      "2    Hard   97.559373\n",
      "3   Grass  104.998727\n",
      "4    None         NaN\n"
     ]
    },
    {
     "data": {
      "text/html": [
       "<div>\n",
       "<style scoped>\n",
       "    .dataframe tbody tr th:only-of-type {\n",
       "        vertical-align: middle;\n",
       "    }\n",
       "\n",
       "    .dataframe tbody tr th {\n",
       "        vertical-align: top;\n",
       "    }\n",
       "\n",
       "    .dataframe thead th {\n",
       "        text-align: right;\n",
       "    }\n",
       "</style>\n",
       "<table border=\"1\" class=\"dataframe\">\n",
       "  <thead>\n",
       "    <tr style=\"text-align: right;\">\n",
       "      <th></th>\n",
       "      <th>surface</th>\n",
       "      <th>avg_time</th>\n",
       "    </tr>\n",
       "  </thead>\n",
       "  <tbody>\n",
       "    <tr>\n",
       "      <th>0</th>\n",
       "      <td>Carpet</td>\n",
       "      <td>91.618310</td>\n",
       "    </tr>\n",
       "    <tr>\n",
       "      <th>1</th>\n",
       "      <td>Clay</td>\n",
       "      <td>101.223521</td>\n",
       "    </tr>\n",
       "    <tr>\n",
       "      <th>2</th>\n",
       "      <td>Hard</td>\n",
       "      <td>97.559373</td>\n",
       "    </tr>\n",
       "    <tr>\n",
       "      <th>3</th>\n",
       "      <td>Grass</td>\n",
       "      <td>104.998727</td>\n",
       "    </tr>\n",
       "    <tr>\n",
       "      <th>4</th>\n",
       "      <td>None</td>\n",
       "      <td>NaN</td>\n",
       "    </tr>\n",
       "  </tbody>\n",
       "</table>\n",
       "</div>"
      ],
      "text/plain": [
       "  surface    avg_time\n",
       "0  Carpet   91.618310\n",
       "1    Clay  101.223521\n",
       "2    Hard   97.559373\n",
       "3   Grass  104.998727\n",
       "4    None         NaN"
      ]
     },
     "execution_count": 46,
     "metadata": {},
     "output_type": "execute_result"
    }
   ],
   "source": [
    "from pyspark.sql.functions import avg\n",
    "import matplotlib.pyplot as plt\n",
    "import numpy as np\n",
    "\n",
    "avg_time_per_surface = matches.groupBy(\"surface\").agg(avg(\"minutes\").alias(\"avg_time\"))\n",
    "avg_time_per_surface_df = avg_time_per_surface.toPandas()\n",
    "print(avg_time_per_surface_df)\n",
    "avg_time_per_surface_df"
   ]
  },
  {
   "cell_type": "code",
   "execution_count": 47,
   "id": "da625ffc-8354-41c5-9b8a-0521b4d26193",
   "metadata": {},
   "outputs": [
    {
     "data": {
      "image/png": "[encoded data removed]",
      "text/plain": [
       "<Figure size 800x800 with 1 Axes>"
      ]
     },
     "metadata": {},
     "output_type": "display_data"
    }
   ],
   "source": [
    "surfaces = avg_time_per_surface.select(\"surface\").rdd.map(lambda row: row[0]).collect()\n",
    "time = avg_time_per_surface.select(\"avg_time\").rdd.map(lambda row: row[0]).collect()\n",
    "\n",
    "\n",
    "# Filter out NaN values from the time list\n",
    "valid_time = [t for t in time if isinstance(t, float) and not np.isnan(t)]\n",
    "\n",
    "# Define colors using hex color codes\n",
    "colors = ['#FEDE24', '#fd6326', '#c7cccf', '#d8c508']\n",
    "\n",
    "# Plotting\n",
    "plt.figure(figsize=(8, 8))\n",
    "plt.pie(valid_time, labels=surfaces[:len(valid_time)], autopct='%1.1f%%', startangle=90, colors=colors)\n",
    "plt.title('Average Playtime per Surface')\n",
    "plt.axis('equal')  # Equal aspect ratio ensures that pie is drawn as a circle.\n",
    "plt.show()"
   ]
  },
  {
   "cell_type": "code",
   "execution_count": 48,
   "id": "8ee8cf7d-9a06-4863-b3db-ccd5d2ddaab0",
   "metadata": {},
   "outputs": [
    {
     "data": {
      "image/png": "[encoded data removed]",
      "text/plain": [
       "<Figure size 800x800 with 1 Axes>"
      ]
     },
     "metadata": {},
     "output_type": "display_data"
    }
   ],
   "source": [
    "#add numerical time\n",
    "plt.figure(figsize=(8, 8))\n",
    "patches, texts, autotexts = plt.pie(valid_time, labels=surfaces[:len(valid_time)], autopct='%1.1f%%', startangle=90, colors=colors)\n",
    "plt.title('Average Playtime per Surface')\n",
    "plt.axis('equal')  # Equal aspect ratio ensures that pie is drawn as a circle.\n",
    "\n",
    "# Adding numerical values and percentage as annotations\n",
    "for i, (patch, autotext) in enumerate(zip(patches, autotexts)):\n",
    "    time_value = valid_time[i]\n",
    "    percentage = autotext.get_text()\n",
    "    autotext.set_color('black')\n",
    "    autotext.set_fontsize(10)\n",
    "    autotext.set_text(f'{time_value:.1f} minutes\\n{percentage}')\n",
    "\n",
    "plt.show()"
   ]
  },
  {
   "cell_type": "markdown",
   "id": "b8e8a1e9-2143-4713-8eb1-9714dff0738b",
   "metadata": {},
   "source": [
    "##### Top 3 players with the biggest winning percentage per surface"
   ]
  },
  {
   "cell_type": "code",
   "execution_count": 50,
   "id": "541bde0c-d03e-4d9a-a8bb-10b1bca98d00",
   "metadata": {},
   "outputs": [
    {
     "name": "stdout",
     "output_type": "stream",
     "text": [
      "+-------+--------------------+-------------+----+\n",
      "|surface|        winner1_name|total_matches|rank|\n",
      "+-------+--------------------+-------------+----+\n",
      "| Carpet|       Jimmy Connors|          355|   1|\n",
      "| Carpet|        John McEnroe|          352|   2|\n",
      "| Carpet|          Ivan Lendl|          271|   3|\n",
      "| Carpet|         Arthur Ashe|          258|   4|\n",
      "| Carpet|        Boris Becker|          258|   4|\n",
      "|   Clay|Ruben Ramirez Hid...|          682|   1|\n",
      "|   Clay|     Guillermo Vilas|          676|   2|\n",
      "|   Clay|      Carlos Berlocq|          626|   3|\n",
      "|   Clay|      Manuel Orantes|          580|   4|\n",
      "|  Grass|        Ken Rosewall|          216|   1|\n",
      "|  Grass|       John Newcombe|          211|   2|\n",
      "|  Grass|         Roy Emerson|          205|   3|\n",
      "|  Grass|       Roger Federer|          201|   4|\n",
      "|   Hard|       Roger Federer|          848|   1|\n",
      "|   Hard|           Bob Bryan|          770|   2|\n",
      "|   Hard|      Novak Djokovic|          739|   3|\n",
      "|   Hard|         Yen Hsun Lu|          623|   4|\n",
      "+-------+--------------------+-------------+----+\n",
      "\n"
     ]
    }
   ],
   "source": [
    "#Top 3 players with the biggest winning percentage per surface\n",
    "\n",
    "matches_filtered = matches.filter(col(\"surface\").isNotNull())\n",
    "player_surface_stats = matches_filtered.groupBy(\"surface\", \"winner1_name\")\n",
    "\n",
    "# Calculate the total matches for each player on each surface\n",
    "player_surface_stats = matches_filtered.groupBy(\"surface\", \"winner1_name\").agg(\n",
    "    count(\"*\").alias(\"total_matches\")\n",
    ")\n",
    "\n",
    "# Define a window specification to rank players by winning percentage within each surface\n",
    "window_spec = Window.partitionBy(\"surface\").orderBy(col(\"total_matches\").desc())\n",
    "\n",
    "# Rank the players based on total matches for each surface\n",
    "ranked_players_per_surface = player_surface_stats.withColumn(\n",
    "    \"rank\", rank().over(window_spec)\n",
    ")\n",
    "\n",
    "# Filter to get the top 3 players per surface\n",
    "top_3_players_per_surface = ranked_players_per_surface.filter(col(\"rank\") <= 4)\n",
    "\n",
    "# Show the top 3 players per surface\n",
    "top_3_players_per_surface.show()"
   ]
  },
  {
   "cell_type": "code",
   "execution_count": 51,
   "id": "0a72dfae-4c9e-45f7-af9f-a46eee43c691",
   "metadata": {},
   "outputs": [
    {
     "name": "stdout",
     "output_type": "stream",
     "text": [
      "+-------+---------------+----------+\n",
      "|surface|   winner1_name|total_wins|\n",
      "+-------+---------------+----------+\n",
      "| Carpet|Tomas Carbonell|        18|\n",
      "| Carpet|  Karel Novacek|        57|\n",
      "+-------+---------------+----------+\n",
      "only showing top 2 rows\n",
      "\n",
      "+-------+---------------+------------+\n",
      "|surface|    loser1_name|total_losses|\n",
      "+-------+---------------+------------+\n",
      "| Carpet|Tomas Carbonell|          33|\n",
      "| Carpet|  Karel Novacek|          64|\n",
      "+-------+---------------+------------+\n",
      "only showing top 2 rows\n",
      "\n"
     ]
    }
   ],
   "source": [
    "#that's not it. let's try differently\n",
    "matches_filtered = matches.filter(col(\"surface\").isNotNull())\n",
    "\n",
    "player_surface_stats = matches_filtered.groupBy(\"surface\", \"winner1_name\").agg(\n",
    "    count(\"*\").alias(\"total_wins\")\n",
    ")\n",
    "\n",
    "player_surface_stats.show(2)\n",
    "\n",
    "loser_surface_stats = matches_filtered.groupBy(\"surface\", \"loser1_name\").agg(\n",
    "    count(\"*\").alias(\"total_losses\")\n",
    ")\n",
    "\n",
    "loser_surface_stats.show(2)"
   ]
  },
  {
   "cell_type": "code",
   "execution_count": 55,
   "id": "00b88439-854a-46df-b681-62e722e0e770",
   "metadata": {},
   "outputs": [
    {
     "name": "stdout",
     "output_type": "stream",
     "text": [
      "+-------+--------------------+-----------+----------+\n",
      "|surface|         player_name|total_games|total_wins|\n",
      "+-------+--------------------+-----------+----------+\n",
      "| Carpet|       Karel Novacek|        121|        57|\n",
      "| Carpet|          Pavel Riha|         57|        31|\n",
      "| Carpet|     Tomas Carbonell|         51|        18|\n",
      "|   Clay|        Cyril Martin|         80|        35|\n",
      "|   Clay|      Daniel Courcol|         76|        48|\n",
      "|   Clay|         Ergun Zorlu|         70|        26|\n",
      "|   Clay|        Frank Condor|        167|        88|\n",
      "|   Clay|     Goncalo Pereira|         90|        25|\n",
      "|   Clay|    Henrik Sillanpaa|        151|        70|\n",
      "|   Clay|Ignacio Truyol Tu...|        116|        72|\n",
      "+-------+--------------------+-----------+----------+\n",
      "only showing top 10 rows\n",
      "\n"
     ]
    }
   ],
   "source": [
    "# Join the winner and loser statistics\n",
    "player_stats = player_surface_stats.join(\n",
    "    loser_surface_stats,\n",
    "    (player_surface_stats.surface == loser_surface_stats.surface) &\n",
    "    (player_surface_stats.winner1_name == loser_surface_stats.loser1_name),\n",
    "    \"full_outer\"\n",
    ").groupBy(player_surface_stats.surface, player_surface_stats.winner1_name.alias(\"player_name\")).agg(\n",
    "    (sum(player_surface_stats.total_wins) + sum(loser_surface_stats.total_losses)).alias(\"total_games\"),\n",
    "    sum(player_surface_stats.total_wins).alias(\"total_wins\")\n",
    ")\n",
    "\n",
    "player_stats = player_stats.filter(col('total_games') > 50)\n",
    "\n",
    "player_stats.show(10)"
   ]
  },
  {
   "cell_type": "code",
   "execution_count": 60,
   "id": "69b8ab37-b722-49cc-ab77-1314b884208e",
   "metadata": {},
   "outputs": [
    {
     "name": "stdout",
     "output_type": "stream",
     "text": [
      "+-------+-----------------+-----------+----------+------------------+----+\n",
      "|surface|      player_name|total_games|total_wins|winning_percentage|rank|\n",
      "+-------+-----------------+-----------+----------+------------------+----+\n",
      "| Carpet|     John McEnroe|        417|       352|             84.41|   1|\n",
      "| Carpet|       Ivan Lendl|        326|       271|             83.13|   2|\n",
      "| Carpet|    Jimmy Connors|        437|       355|             81.24|   3|\n",
      "|   Clay|Jean Rene Lacoste|         52|        47|             90.38|   1|\n",
      "|   Clay|Henri Jean Cochet|         65|        58|             89.23|   2|\n",
      "|   Clay|     Rafael Nadal|        621|       551|             88.73|   3|\n",
      "|  Grass|        Don Budge|         71|        64|             90.14|   1|\n",
      "|  Grass|       Fred Perry|        104|        93|             89.42|   2|\n",
      "|  Grass|   Bill Tilden Ii|        130|       116|             89.23|   3|\n",
      "|   Hard|       Ivan Lendl|        477|       394|              82.6|   1|\n",
      "|   Hard|    Roger Federer|       1034|       848|             82.01|   2|\n",
      "|   Hard|    Jimmy Connors|        622|       510|             81.99|   3|\n",
      "+-------+-----------------+-----------+----------+------------------+----+\n",
      "\n"
     ]
    }
   ],
   "source": [
    "# Calculate winning percentage\n",
    "player_stats = player_stats.withColumn(\"winning_percentage\", round((col(\"total_wins\") / col(\"total_games\")) * 100, 2))\n",
    "\n",
    "window_spec = Window.partitionBy(player_stats.surface).orderBy(player_stats.winning_percentage.desc())\n",
    "\n",
    "# Assign ranks to players within each surface based on winning_percentage\n",
    "player_stats_ranked = player_stats.withColumn(\"rank\", rank().over(window_spec))\n",
    "\n",
    "# Filter to show only the top 3 players for each surface, considering ties\n",
    "player_stats_filtered = player_stats_ranked.filter((col(\"rank\") <=3))\n",
    "\n",
    "# Show the resulting DataFrame\n",
    "player_stats_filtered.show()"
   ]
  },
  {
   "cell_type": "code",
   "execution_count": 61,
   "id": "145442f3-a06b-4bff-a923-cfe015686b2a",
   "metadata": {},
   "outputs": [
    {
     "name": "stdout",
     "output_type": "stream",
     "text": [
      "Percentage of times where a player lost the first set in a 3-set game and ended up winning the match: 20.791349809885933 %\n"
     ]
    }
   ],
   "source": [
    "#Percentage of times where a player lost the first set in a 3-set game and ended up winning the match.\n",
    "\n",
    "filtered_matches = matches.filter(\n",
    "    (col(\"set_1\").isNotNull()) &\n",
    "    (col(\"set_2\").isNotNull()) &\n",
    "    (col(\"set_3\").isNotNull()) &\n",
    "    (col(\"set_4\").isNull()) &\n",
    "    (col(\"set_5\").isNull()) &\n",
    "    col(\"set_3\").like(\"%-%\")\n",
    ")\n",
    "\n",
    "lost_first_set_and_won_match = filtered_matches.filter(\n",
    "    (col(\"set_1\").like(\"%-6\") & col(\"set_2\").like(\"6-%\") & col(\"set_3\").like(\"6-%\")) |\n",
    "    (col(\"set_1\").like(\"6-%\") & col(\"set_2\").like(\"%-6\") & col(\"set_3\").like(\"%-6\"))\n",
    ")\n",
    "\n",
    "total_matches_count = lost_first_set_and_won_match.count()\n",
    "\n",
    "win_percentage = (total_matches_count / filtered_matches.count()) * 100\n",
    "\n",
    "print(\"Percentage of times where a player lost the first set in a 3-set game and ended up winning the match:\", win_percentage, \"%\")"
   ]
  },
  {
   "cell_type": "code",
   "execution_count": 62,
   "id": "05428834-eb23-47e0-8ce7-7f3900760301",
   "metadata": {},
   "outputs": [
    {
     "name": "stdout",
     "output_type": "stream",
     "text": [
      "Percentage of times where a player lost the first set in a 3-set game and ended up winning the match: 20.79290278334205 %\n"
     ]
    }
   ],
   "source": [
    "#Percentage of times where a player lost the first set in a 3-set game and ended up winning the match.\n",
    "#variation\n",
    "filtered_matches = matches.filter(\n",
    "    (col(\"set_1\").like(\"%-%\")) &\n",
    "    (col(\"set_2\").like(\"%-%\")) &\n",
    "    (col(\"set_3\").like(\"%-%\")) &\n",
    "    (col(\"set_4\").isNull()) &\n",
    "    (col(\"set_5\").isNull())\n",
    ")\n",
    "\n",
    "lost_first_set_and_won_match = filtered_matches.filter(\n",
    "    (col(\"set_1\").like(\"%-6\") & col(\"set_2\").like(\"6-%\") & col(\"set_3\").like(\"6-%\")) |\n",
    "    (col(\"set_1\").like(\"6-%\") & col(\"set_2\").like(\"%-6\") & col(\"set_3\").like(\"%-6\"))\n",
    ")\n",
    "\n",
    "total_matches_count = lost_first_set_and_won_match.count()\n",
    "\n",
    "win_percentage = (total_matches_count / filtered_matches.count()) * 100\n",
    "\n",
    "print(\"Percentage of times where a player lost the first set in a 3-set game and ended up winning the match:\", win_percentage, \"%\")"
   ]
  },
  {
   "cell_type": "code",
   "execution_count": 63,
   "id": "6c86d276",
   "metadata": {},
   "outputs": [
    {
     "name": "stdout",
     "output_type": "stream",
     "text": [
      "% of times where a player lost the first two sets in a 5-set game and ended up winning the match: 5.786054569077523 %\n"
     ]
    }
   ],
   "source": [
    "#Percentage of times where a player lost the first two sets in a 5-set game and ended up winning the match.\n",
    "#casos com vantagens(?) não são considerados... ex: 7-6(1)\n",
    "\n",
    "filtered_matches = matches.filter(\n",
    "    (col(\"set_1\").like(\"%-%\")) &\n",
    "    (col(\"set_2\").like(\"%-%\")) &\n",
    "    (col(\"set_3\").like(\"%-%\")) &\n",
    "    (col(\"set_4\").like(\"%-%\")) &\n",
    "    (col(\"set_5\").like(\"%-%\")) \n",
    ")\n",
    "\n",
    "lost_first_set_and_won_match = filtered_matches.filter(\n",
    "    (col(\"set_1\").like(\"%-6\") & col(\"set_2\").like(\"%-6\") & col(\"set_3\").like(\"6-%\") & col(\"set_4\").like(\"6-%\")& col(\"set_5\").like(\"6-%\")) |\n",
    "    (col(\"set_1\").like(\"6-%\") & col(\"set_2\").like(\"6-%\") & col(\"set_3\").like(\"%-6\") & col(\"set_4\").like(\"%-6\")& col(\"set_5\").like(\"%-6\"))\n",
    ")\n",
    "\n",
    "total_matches_count = lost_first_set_and_won_match.count()\n",
    "\n",
    "win_percentage = (total_matches_count / filtered_matches.count()) * 100\n",
    "\n",
    "print(\"% of times where a player lost the first two sets in a 5-set game and ended up winning the match:\", win_percentage, \"%\")"
   ]
  },
  {
   "cell_type": "code",
   "execution_count": null,
   "id": "a91d8e84-ad5f-4571-a856-fe37cb490cb1",
   "metadata": {},
   "outputs": [],
   "source": []
  },
  {
   "cell_type": "code",
   "execution_count": 87,
   "id": "ac24c700-7964-46ef-a94a-8cdec3108f13",
   "metadata": {},
   "outputs": [
    {
     "name": "stdout",
     "output_type": "stream",
     "text": [
      "Percentage of times where a player lost the first set in a best-of-3 game and ended up winning the match: 16.52%\n"
     ]
    }
   ],
   "source": [
    "# Percentages of matches where a player loses the first set and wins the match (Bo3)\n",
    "\n",
    "filtered_matches = matches.filter(col('best_of') == 3)\n",
    "\n",
    "# Using regular expression to grab the 1st number of the column + the first number after the '-'\n",
    "winner_score = regexp_extract(col(\"set_1\"), r\"(\\d+)\", 1).cast(\"int\")\n",
    "loser_score = regexp_extract(col(\"set_1\"), r\"-(\\d+)\", 1).cast(\"int\")\n",
    "\n",
    "# Filtering for the rows where the player lost the first set\n",
    "lost_first_set_and_won_match = filtered_matches.filter(winner_score < loser_score)\n",
    "\n",
    "remontada_count = lost_first_set_and_won_match.count()\n",
    "total_count = filtered_matches.count()\n",
    "\n",
    "win_percentage = '%.2f' % ((remontada_count / total_count) * 100)\n",
    "\n",
    "print(f\"Percentage of times where a player lost the first set in a best-of-3 game and ended up winning the match: {win_percentage}%\")"
   ]
  },
  {
   "cell_type": "code",
   "execution_count": 88,
   "id": "892eb7b8-7af0-43a0-80e4-4d9f516b2c05",
   "metadata": {},
   "outputs": [
    {
     "name": "stdout",
     "output_type": "stream",
     "text": [
      "Percentage of times where a player lost the first two sets in a best-of-5 game and ended up winning the match: 3.68%\n"
     ]
    }
   ],
   "source": [
    "# Percentages of matches where a player loses the first set and wins the match (Bo5)\n",
    "\n",
    "filtered_matches = matches.filter(col('best_of') == 5)\n",
    "\n",
    "# Using regular expression to grab the 1st number of the column + the first number after the '-'\n",
    "winner_score_set1 = regexp_extract(col(\"set_1\"), r\"(\\d+)\", 1).cast(\"int\")\n",
    "loser_score_set1 = regexp_extract(col(\"set_1\"), r\"-(\\d+)\", 1).cast(\"int\")\n",
    "winner_score_set2 = regexp_extract(col(\"set_2\"), r\"(\\d+)\", 1).cast(\"int\")\n",
    "loser_score_set2 = regexp_extract(col(\"set_2\"), r\"-(\\d+)\", 1).cast(\"int\")\n",
    "\n",
    "# Filtering for the rows where the player lost the first set\n",
    "lost_first_set_and_won_match = filtered_matches.filter((winner_score_set1 < loser_score_set1) & (winner_score_set2 < loser_score_set2))\n",
    "\n",
    "remontada_count = lost_first_set_and_won_match.count()\n",
    "total_count = filtered_matches.count()\n",
    "\n",
    "win_percentage = '%.2f' % ((remontada_count / total_count) * 100)\n",
    "\n",
    "print(f\"Percentage of times where a player lost the first two sets in a best-of-5 game and ended up winning the match: {win_percentage}%\")"
   ]
  },
  {
   "cell_type": "markdown",
   "id": "a83b0e90-7a85-4adb-8495-f1e16ff3e5f0",
   "metadata": {},
   "source": [
    "### Queries - Bea"
   ]
  },
  {
   "cell_type": "markdown",
   "id": "b767e503-e592-49ff-bc3c-1a7f6c2f7dbe",
   "metadata": {},
   "source": [
    "#### Players with the biggest average of aces per match and their height"
   ]
  },
  {
   "cell_type": "code",
   "execution_count": 58,
   "id": "5a6c2ff9-5fa8-4f2d-a780-9ddcd79c24ea",
   "metadata": {},
   "outputs": [
    {
     "name": "stdout",
     "output_type": "stream",
     "text": [
      "+--------------------+----------+------------------+\n",
      "|        winner1_name|winner1_ht|avg_aces_per_match|\n",
      "+--------------------+----------+------------------+\n",
      "|        Ismar Gorcic|      NULL|23.333333333333332|\n",
      "|        Ivo Karlovic|       208| 20.30878859857482|\n",
      "|          Tyler Zink|      NULL|              19.0|\n",
      "|          John Isner|       206|18.901768172888016|\n",
      "|       Reilly Opelka|       211|18.550632911392405|\n",
      "|        Heath Denman|       183|              18.0|\n",
      "|Herbert Jody Magi...|      NULL|              18.0|\n",
      "|          Jay Clarke|      NULL|              18.0|\n",
      "|       Wayne Arthurs|       190|             17.35|\n",
      "|       Scott Oudsema|       190|              17.0|\n",
      "+--------------------+----------+------------------+\n",
      "\n"
     ]
    },
    {
     "data": {
      "image/png": "[encoded data removed]",
      "text/plain": [
       "<Figure size 1000x600 with 1 Axes>"
      ]
     },
     "metadata": {},
     "output_type": "display_data"
    }
   ],
   "source": [
    "# Group by winner name and calculate the average number of aces per match\n",
    "aces_per_match = matches.groupBy('winner1_name', 'winner1_ht') \\\n",
    "                        .agg(F.avg('w_ace').alias('avg_aces_per_match'))\n",
    "\n",
    "top_players = aces_per_match.orderBy(F.desc('avg_aces_per_match')).limit(10)\n",
    "top_players.show()\n",
    "\n",
    "\n",
    "# ------ Plot --------\n",
    "\n",
    "# Filter out missing values from player_height\n",
    "player_names = [row['winner1_name'] for row in top_players.collect()]\n",
    "avg_aces = [row['avg_aces_per_match'] for row in top_players.collect()]\n",
    "player_height = [row['winner1_ht'] for row in top_players.collect()]\n",
    "\n",
    "valid_indices = [i for i, height in enumerate(player_height) if height is not None]\n",
    "player_names = [player_names[i] for i in valid_indices]\n",
    "avg_aces = [avg_aces[i] for i in valid_indices]\n",
    "player_height = [player_height[i] for i in valid_indices]\n",
    "\n",
    "# Plotting\n",
    "plt.figure(figsize=(10, 6))\n",
    "plt.scatter(player_height, avg_aces, color='skyblue')\n",
    "\n",
    "# Annotating each data point with player names\n",
    "for i, txt in enumerate(player_names):\n",
    "    plt.annotate(txt, (player_height[i], avg_aces[i]), textcoords=\"offset points\", xytext=(0,10), ha='center')\n",
    "\n",
    "plt.xlabel('Height')\n",
    "plt.ylabel('Average Aces per Match')\n",
    "plt.title('Top 10 Players by Average Aces per Match and Height')\n",
    "plt.xticks(rotation=45)\n",
    "plt.grid(True)\n",
    "plt.tight_layout()\n",
    "plt.show()"
   ]
  },
  {
   "cell_type": "markdown",
   "id": "8100045c-aac9-4cff-a23a-fbf654c692d0",
   "metadata": {},
   "source": [
    "#### 5 oldest pairs (average age) winning a tournament."
   ]
  },
  {
   "cell_type": "code",
   "execution_count": 59,
   "id": "759dc6cd-366b-48c3-aa34-c997b3ba2e4a",
   "metadata": {},
   "outputs": [
    {
     "name": "stdout",
     "output_type": "stream",
     "text": [
      "+---------------+-------------+-----------------+\n",
      "|   winner1_name| winner2_name|      average_age|\n",
      "+---------------+-------------+-----------------+\n",
      "|   Ivo Karlovic|Daniel Nestor|   42.35181382615|\n",
      "|   Leander Paes|     Andre Sa|   41.77549623545|\n",
      "|  Daniel Nestor| Leander Paes|41.55762649397308|\n",
      "|James Cerretani|Daniel Nestor|   41.11293634495|\n",
      "|James Cerretani| Leander Paes|    40.8090349076|\n",
      "+---------------+-------------+-----------------+\n",
      "\n"
     ]
    },
    {
     "data": {
      "image/png": "[encoded data removed]",
      "text/plain": [
       "<Figure size 1000x600 with 1 Axes>"
      ]
     },
     "metadata": {},
     "output_type": "display_data"
    }
   ],
   "source": [
    "# Calculate the average age for each pair of winners in doubles matches\n",
    "matches_doubles = matches.filter(col(\"Origin\") == 'Doubles')\n",
    "matches_doubles = matches_doubles.withColumn(\"avg_age\", (F.col(\"winner1_age\") + F.col(\"winner2_age\")) / 2)\n",
    "\n",
    "pairs_avg_age = matches_doubles.groupBy(\"winner1_name\", \"winner2_name\").agg(F.avg(\"avg_age\").alias(\"average_age\"))\n",
    "oldest_pairs = pairs_avg_age.orderBy(F.desc(\"average_age\")).limit(5)\n",
    "oldest_pairs.show()\n",
    "\n",
    "# Convert the result to Pandas DataFrame\n",
    "oldest_pairs_df = oldest_pairs.toPandas()\n",
    "\n",
    "pairs = oldest_pairs_df[\"winner1_name\"] + \" and \" + oldest_pairs_df[\"winner2_name\"]\n",
    "average_age = oldest_pairs_df[\"average_age\"]\n",
    "\n",
    "plt.figure(figsize=(10, 6))\n",
    "plt.barh(pairs, average_age, color='skyblue')\n",
    "plt.xlabel('Average Age')\n",
    "plt.ylabel('Pair of Winners')\n",
    "plt.title('Top 5 Oldest Pairs of Winners by Average Age')\n",
    "plt.gca().invert_yaxis()  # Invert y-axis to display highest age at the top\n",
    "plt.show()"
   ]
  },
  {
   "cell_type": "markdown",
   "id": "fb724948-8da9-4c7d-ac4e-99b5c2c7570d",
   "metadata": {},
   "source": [
    "#### Percentage of matches that have 3 sets."
   ]
  },
  {
   "cell_type": "code",
   "execution_count": 60,
   "id": "dd48ed93-f9ca-4924-a65e-e2d4bdc82feb",
   "metadata": {},
   "outputs": [
    {
     "name": "stdout",
     "output_type": "stream",
     "text": [
      "Percentage of matches with 3 sets: 36.80%\n"
     ]
    }
   ],
   "source": [
    "# Calculate the total number of matches\n",
    "total_matches = matches.count()\n",
    "\n",
    "# Matches with 3 sets\n",
    "matches_with_3_sets = matches.filter(expr(\"set_3 IS NOT NULL\")).count()\n",
    "percentage_3_sets = (matches_with_3_sets / total_matches) * 100\n",
    "print(f\"Percentage of matches with 3 sets: {percentage_3_sets:.2f}%\")"
   ]
  },
  {
   "cell_type": "markdown",
   "id": "fa9e7384-159a-492b-ba09-1956e97e2fd9",
   "metadata": {},
   "source": [
    "#### How many times did Rafael Nadal lose two games in a row on Clay and how many games in total? (0 in hundreds)"
   ]
  },
  {
   "cell_type": "code",
   "execution_count": 61,
   "id": "46e41c25-b56f-4446-b8c9-cf823e30909f",
   "metadata": {},
   "outputs": [
    {
     "name": "stdout",
     "output_type": "stream",
     "text": [
      "Total games lost by Rafael Nadal: 2836\n",
      "Total instances of two consecutive losses on Clay: 0\n"
     ]
    }
   ],
   "source": [
    "rafael_matches = matches.filter((matches.loser1_name == 'Rafael Nadal'))\n",
    "total_games_lost = rafael_matches.agg(F.sum('l_SvGms')).collect()[0][0]\n",
    "\n",
    "rafael_losses_on_clay = rafael_matches.filter(rafael_matches.surface == 'Clay')\n",
    "\n",
    "# Define a window function to partition by the player's name and order by the tournament date\n",
    "windowSpec = Window.partitionBy('loser1_name').orderBy('tourney_date')\n",
    "\n",
    "# Create a column to indicate if the player lost two games in a row\n",
    "rafael_losses_on_clay = rafael_losses_on_clay.withColumn('consecutive_losses', \n",
    "                                                         F.when((F.lag('tourney_date').over(windowSpec) == F.col('tourney_date') - 1), 1).otherwise(0))\n",
    "\n",
    "# Filter the DataFrame to include only consecutive losses\n",
    "two_losses_in_row = rafael_losses_on_clay.filter(rafael_losses_on_clay.consecutive_losses == 1)\n",
    "total_two_losses_in_row = two_losses_in_row.count()\n",
    "\n",
    "\n",
    "print(\"Total games lost by Rafael Nadal:\", total_games_lost)\n",
    "print(\"Total instances of two consecutive losses on Clay:\", total_two_losses_in_row)"
   ]
  },
  {
   "cell_type": "markdown",
   "id": "ff2f0ae6-b01f-4a20-a3e7-9feccb0f4d08",
   "metadata": {},
   "source": [
    "#### Top 10 games with longest duration and their final score"
   ]
  },
  {
   "cell_type": "code",
   "execution_count": 62,
   "id": "45f947ea-91e5-4e34-abbc-ab29a35ab4b7",
   "metadata": {},
   "outputs": [
    {
     "name": "stdout",
     "output_type": "stream",
     "text": [
      "+----------+--------------------+--------------------+------------+-----------+------------+------------------+\n",
      "|tourney_id|        winner1_name|               score|winner_score|loser_score|max_duration|max_duration_hours|\n",
      "+----------+--------------------+--------------------+------------+-----------+------------+------------------+\n",
      "| 2018-7391|      Federico Coria|             6-4 6-3|           6|        4 6|        4756| 79.26666666666667|\n",
      "| 2023-9542|Camilo Ugo Carabelli|      6-3 5-7 7-6(5)|           6|        3 5|        1531|25.516666666666666|\n",
      "| 2016-7347|      Juan Pablo Paz|             6-2 6-1|           6|        2 6|        1392|              23.2|\n",
      "| 2018-7015|       Federico Gaio|      6-4 6-7(6) 7-5|           6|        4 6|        1241|20.683333333333334|\n",
      "| 2016-0447|        Dmitry Popko|             6-2 6-3|           6|        2 6|        1237|20.616666666666667|\n",
      "| 2016-M001|       Gilles Muller|          7-6(5) 6-3|           7|     6(5) 6|        1146|              19.1|\n",
      "| 2011-1797|        Benoit Paire|             6-3 6-2|           6|        3 6|         999|             16.65|\n",
      "| 2011-3463|     Stefano Galvani|      2-6 7-6(6) 6-4|           2|        6 7|         999|             16.65|\n",
      "| 2017-0308|         Hyeon Chung|         6-4 3-6 6-2|           6|        4 3|         987|             16.45|\n",
      "|  2010-540|          John Isner|6-4 3-6 6-7(7) 7-...|           6|        4 3|         665|11.083333333333334|\n",
      "+----------+--------------------+--------------------+------------+-----------+------------+------------------+\n",
      "\n"
     ]
    }
   ],
   "source": [
    "# Split the score column into winner and loser scores\n",
    "matches_filtered = matches.withColumn('winner_score', F.split('score', '-').getItem(0))\n",
    "matches_filtered = matches_filtered.withColumn('loser_score', F.split('score', '-').getItem(1))\n",
    "\n",
    "game_durations = matches_filtered.groupBy('tourney_id', 'winner1_name', 'score', 'winner_score', 'loser_score') \\\n",
    "                        .agg(F.max('minutes').alias('max_duration'))\n",
    "\n",
    "game_durations = game_durations.withColumn('max_duration_hours', game_durations['max_duration'] / 60)\n",
    "top_longest_games = game_durations.orderBy(F.desc('max_duration')).limit(10)\n",
    "\n",
    "top_longest_games.show()"
   ]
  },
  {
   "cell_type": "markdown",
   "id": "1dd02097-fc9d-4e8d-801e-cecc7b6f8851",
   "metadata": {},
   "source": [
    "#### Average ranking of winners and losers (finalists) per tournament type (tourney_level)."
   ]
  },
  {
   "cell_type": "code",
   "execution_count": 63,
   "id": "14001209-e726-4259-af18-b52f6fbef7ff",
   "metadata": {},
   "outputs": [
    {
     "name": "stdout",
     "output_type": "stream",
     "text": [
      "+-------------+------------------+------------------+\n",
      "|tourney_level|   avg_winner_rank|    avg_loser_rank|\n",
      "+-------------+------------------+------------------+\n",
      "|            F|  9.84879288437103|15.144853875476493|\n",
      "|            M|52.782369971049214| 82.53227762803235|\n",
      "|            D|262.78830718715795|387.00380476138713|\n",
      "|            A| 92.73410764046152|143.27926820391295|\n",
      "|            G| 93.89269283162413|136.63778158345409|\n",
      "|            S|  656.462971366281| 829.0578240108748|\n",
      "|           15| 810.4517775074345| 985.4744022130433|\n",
      "|           25| 645.4676482202291| 853.7859510852568|\n",
      "|            C|  262.144446733979| 336.1185596775714|\n",
      "+-------------+------------------+------------------+\n",
      "\n"
     ]
    }
   ],
   "source": [
    "# Calculate average ranking of winners and finalists per tournament type\n",
    "avg_ranking_per_type = matches.groupBy('tourney_level') \\\n",
    "    .agg(\n",
    "        F.avg('winner1_rank').alias('avg_winner_rank'),\n",
    "        F.avg('loser1_rank').alias('avg_loser_rank')\n",
    "    )\n",
    "\n",
    "avg_ranking_per_type.show()"
   ]
  },
  {
   "cell_type": "markdown",
   "id": "24033e7e-af02-42ba-a03a-43b1eb634c7d",
   "metadata": {},
   "source": [
    "##### Show the top 3 winners for each tourney_level with an Winner rank supperior from the average"
   ]
  },
  {
   "cell_type": "code",
   "execution_count": 64,
   "id": "012ced51-df60-4fa5-bf3c-6ee4c8230561",
   "metadata": {},
   "outputs": [
    {
     "name": "stdout",
     "output_type": "stream",
     "text": [
      "+-------------+--------------------+------------+\n",
      "|tourney_level|        winner1_name|winner1_rank|\n",
      "+-------------+--------------------+------------+\n",
      "|            F|    Hamad Medjedovic|         110|\n",
      "|            F|          Luca Nardi|         115|\n",
      "|            F|  Abedallah Shelbayh|         185|\n",
      "|            M|    David Nalbandian|        1403|\n",
      "|            M|         Todd Martin|        1427|\n",
      "|            D| Sharmal Dissanayake|        2018|\n",
      "|            D|Antso Rakotondram...|        2018|\n",
      "|            D|         Roberto Cid|        2091|\n",
      "|            D|     Shahin Khaledan|        2101|\n",
      "|            A|     Nino Serdarusic|        2128|\n",
      "|            A|     Sebastian Lavie|        2152|\n",
      "|            G|        Ian Flanagan|        1711|\n",
      "|            G|       Edward Winter|        1768|\n",
      "|            G|    Mitchell Krueger|        1917|\n",
      "|            S|    Davide Galoppini|        2252|\n",
      "|            S|    Santiago Maresca|        2255|\n",
      "|            S|Mostafa Mohamed H...|        2257|\n",
      "|           15|            Leo Borg|        2217|\n",
      "|           15|            Leo Borg|        2222|\n",
      "|           25|    Timur Khabibulin|        2162|\n",
      "+-------------+--------------------+------------+\n",
      "only showing top 20 rows\n",
      "\n"
     ]
    }
   ],
   "source": [
    "avg_winner_rank_per_type = matches.groupBy('tourney_level').agg(F.avg('winner1_rank').alias('avg_winner_rank'))\n",
    "\n",
    "window = Window.partitionBy('tourney_level').orderBy(F.desc('winner1_rank'))\n",
    "\n",
    "# Add a rank column based on winner1_rank in descending order\n",
    "matches_with_rank = matches.withColumn('rank', F.rank().over(window))\n",
    "matches_with_rank = matches_with_rank.join(avg_winner_rank_per_type, on='tourney_level')\n",
    "\n",
    "filtered_players = matches_with_rank.filter(matches_with_rank['winner1_rank'] > matches_with_rank['avg_winner_rank'])\n",
    "top_players_per_type = filtered_players.filter(filtered_players['rank'] <= 3)\n",
    "\n",
    "distinct_top_players = top_players_per_type.select('tourney_level', 'winner1_name', 'winner1_rank').distinct()\n",
    "distinct_top_players.show()"
   ]
  },
  {
   "cell_type": "markdown",
   "id": "e98993b0-80dc-49e2-b38c-f6422382d798",
   "metadata": {},
   "source": [
    "#### Top 5 youngest number 1 in the world and their age on that moment"
   ]
  },
  {
   "cell_type": "code",
   "execution_count": 65,
   "id": "defdd8c8-4dcd-4395-b595-b4b3c6834f06",
   "metadata": {},
   "outputs": [
    {
     "name": "stdout",
     "output_type": "stream",
     "text": [
      "+--------------+-----------------+\n",
      "|  winner1_name|age_when_number_1|\n",
      "+--------------+-----------------+\n",
      "|Carlos Alcaraz|             19.3|\n",
      "|Lleyton Hewitt|             20.7|\n",
      "|   Marat Safin|             20.8|\n",
      "|  Andy Roddick|             21.1|\n",
      "|   Jim Courier|             21.4|\n",
      "+--------------+-----------------+\n",
      "\n"
     ]
    }
   ],
   "source": [
    "number_1_players = matches.filter(matches['winner1_rank'] == 1)\n",
    "\n",
    "# Group the data by player and find the minimum age when they were ranked number 1\n",
    "youngest_number_1_players = number_1_players.groupby('winner1_name') \\\n",
    "    .agg(F.min('winner1_age').alias('age_when_number_1')) \\\n",
    "    .orderBy('age_when_number_1') \\\n",
    "    .limit(5)\n",
    "\n",
    "youngest_number_1_players.show()"
   ]
  },
  {
   "cell_type": "code",
   "execution_count": 66,
   "id": "f998957e-5d92-44ed-8b81-aa2b5f79558d",
   "metadata": {},
   "outputs": [
    {
     "data": {
      "image/png": "[encoded data removed]",
      "text/plain": [
       "<Figure size 1000x600 with 1 Axes>"
      ]
     },
     "metadata": {},
     "output_type": "display_data"
    }
   ],
   "source": [
    "youngest_number_1_players_pd = youngest_number_1_players.toPandas()\n",
    "\n",
    "plt.figure(figsize=(10, 6))\n",
    "plt.scatter(youngest_number_1_players_pd['winner1_name'], youngest_number_1_players_pd['age_when_number_1'], s=100, color='skyblue')\n",
    "plt.title('Top 5 Youngest Number 1 Players')\n",
    "plt.xlabel('Player')\n",
    "plt.ylabel('Age when Number 1')\n",
    "plt.xticks(rotation=45)\n",
    "plt.grid(True)\n",
    "plt.tight_layout()\n",
    "plt.show()"
   ]
  },
  {
   "cell_type": "markdown",
   "id": "37ef7ce3-7b45-4854-aac6-b004d8e94859",
   "metadata": {},
   "source": [
    "#### Identifying nationalities with over 100 distinct winners within year groups (every 5 years)"
   ]
  },
  {
   "cell_type": "code",
   "execution_count": 67,
   "id": "a3b45213-a9f8-4243-a2ce-6d4822abfb9b",
   "metadata": {},
   "outputs": [
    {
     "name": "stdout",
     "output_type": "stream",
     "text": [
      "+----------+------------------+-----+\n",
      "|year_group|winner_nationality|count|\n",
      "+----------+------------------+-----+\n",
      "|      1990|               USA|  375|\n",
      "|      2015|               USA|  364|\n",
      "|      1995|               USA|  350|\n",
      "|      2010|               USA|  306|\n",
      "|      2020|               USA|  289|\n",
      "|      2000|               USA|  282|\n",
      "|      2005|               USA|  268|\n",
      "|      1980|               USA|  265|\n",
      "|      1910|               USA|  259|\n",
      "|      1985|               USA|  258|\n",
      "|      2015|               FRA|  245|\n",
      "|      2015|               ITA|  242|\n",
      "|      1965|               USA|  242|\n",
      "|      2010|               FRA|  228|\n",
      "|      1905|               USA|  223|\n",
      "|      1995|               GER|  223|\n",
      "|      2020|               ITA|  219|\n",
      "|      2000|               ESP|  215|\n",
      "|      1975|               USA|  215|\n",
      "|      2020|               FRA|  207|\n",
      "+----------+------------------+-----+\n",
      "only showing top 20 rows\n",
      "\n"
     ]
    }
   ],
   "source": [
    "matches_with_year = matches.withColumn('year', year('tourney_date'))\n",
    "windowSpec = Window.partitionBy('year').orderBy('year').rowsBetween(-4, 0)\n",
    "\n",
    "nationality_counts = matches_with_year.withColumn(\"year_group\", F.floor(F.col('year') / 5) * 5).groupBy('year_group', 'winner1_ioc') \\\n",
    "    .agg(F.countDistinct('winner1_name').alias('count'))\n",
    "nationality_counts = nationality_counts.withColumnRenamed('winner1_ioc', 'winner_nationality')\n",
    "\n",
    "\n",
    "# Filter for the top 100 in each year group\n",
    "top_100_nationalities = nationality_counts.orderBy(nationality_counts['count'].desc()) \\\n",
    "  .filter(nationality_counts['count'] > 100)\n",
    "top_100_nationalities.show()"
   ]
  },
  {
   "cell_type": "code",
   "execution_count": 68,
   "id": "84629103-b54c-41cc-bb61-4fdd073d2ad7",
   "metadata": {},
   "outputs": [
    {
     "data": {
      "image/png": "[encoded data removed]",
      "text/plain": [
       "<Figure size 1200x600 with 1 Axes>"
      ]
     },
     "metadata": {},
     "output_type": "display_data"
    }
   ],
   "source": [
    "top_100_nationalities_pandas = top_100_nationalities.toPandas()\n",
    "# Drop rows with missing or invalid values in the 'winner_nationality' column\n",
    "top_100_nationalities_pandas = top_100_nationalities_pandas.dropna(subset=['winner_nationality'])\n",
    "\n",
    "color_map = {'USA': 'skyblue', 'GBR': 'salmon', 'FRA': 'lightgreen', 'GER': 'orange', 'AUS': 'yellow'}\n",
    "\n",
    "plt.figure(figsize=(12, 6))\n",
    "bars = plt.bar(top_100_nationalities_pandas['year_group'], top_100_nationalities_pandas['count'],\n",
    "               color=top_100_nationalities_pandas['winner_nationality'].map(color_map, na_action='ignore').fillna('grey'))\n",
    "plt.title('Composition of Nationalities in the Top 100 Every 5 Years')\n",
    "plt.xlabel('Year Group')\n",
    "plt.ylabel('Count')\n",
    "plt.xticks(rotation=45)\n",
    "plt.grid(axis='y')\n",
    "\n",
    "legend_labels = [plt.Rectangle((0,0),1,1, color=color) for color in color_map.values()]\n",
    "legend_labels.append(plt.Rectangle((0,0),1,1, color='grey'))\n",
    "color_map['Other'] = 'grey'\n",
    "plt.legend(legend_labels, list(color_map.keys()) + ['Other'], loc='upper left')\n",
    "\n",
    "plt.tight_layout()\n",
    "plt.show()"
   ]
  },
  {
   "cell_type": "code",
   "execution_count": null,
   "id": "318f1c50-af8e-4d42-87e8-7a808e1e3181",
   "metadata": {},
   "outputs": [],
   "source": []
  },
  {
   "cell_type": "code",
   "execution_count": null,
   "id": "1175cc17-79b0-45ce-82d3-6d7f826efa38",
   "metadata": {},
   "outputs": [],
   "source": []
  },
  {
   "cell_type": "code",
   "execution_count": null,
   "id": "9e48c225-0e5a-481c-91ac-f2074787df03",
   "metadata": {},
   "outputs": [],
   "source": []
  }
 ],
 "metadata": {
  "kernelspec": {
   "display_name": "Python 3 (ipykernel)",
   "language": "python",
   "name": "python3"
  },
  "language_info": {
   "codemirror_mode": {
    "name": "ipython",
    "version": 3
   },
   "file_extension": ".py",
   "mimetype": "text/x-python",
   "name": "python",
   "nbconvert_exporter": "python",
   "pygments_lexer": "ipython3",
   "version": "3.11.6"
  }
 },
 "nbformat": 4,
 "nbformat_minor": 5
}
