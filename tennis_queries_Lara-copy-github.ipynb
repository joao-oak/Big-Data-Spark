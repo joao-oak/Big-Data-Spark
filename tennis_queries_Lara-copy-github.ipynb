{
 "cells": [
  {
   "cell_type": "code",
   "execution_count": 208,
   "id": "9562d4f2-6c58-4836-82fa-c68388c0ad52",
   "metadata": {},
   "outputs": [],
   "source": [
    "from pyspark.sql import SparkSession\n",
    "from pyspark import SparkContext\n",
    "import os\n",
    "from pyspark.sql.functions import col, lit, to_date, split, when, coalesce, count, udf\n",
    "from pyspark.sql.types import MapType, StringType"
   ]
  },
  {
   "cell_type": "code",
   "execution_count": 209,
   "id": "139f6425-5bb5-4007-a4c0-56183f5f9b0a",
   "metadata": {},
   "outputs": [],
   "source": [
    "spark = SparkSession.builder \\\n",
    "                    .appName('tennis') \\\n",
    "                    .getOrCreate()"
   ]
  },
  {
   "cell_type": "code",
   "execution_count": 210,
   "id": "0478b08e-fc73-4388-8995-92454eb45480",
   "metadata": {},
   "outputs": [],
   "source": [
    "folders = [\"singles/\", \"doubles/\", \"futures/\", \"qual_chal/\"]\n",
    "file_columns = []\n",
    "files65 = []\n",
    "files49= []"
   ]
  },
  {
   "cell_type": "code",
   "execution_count": 211,
   "id": "37769baa-d660-4307-9711-6338cfffb026",
   "metadata": {},
   "outputs": [],
   "source": [
    "for folder in folders:\n",
    "    for filename in os.listdir(folder):\n",
    "    \n",
    "        file_path = os.path.join(folder, filename)\n",
    "        \n",
    "        df = spark.read.option(\"header\", \"true\") \\\n",
    "                       .option(\"inferSchema\", \"true\") \\\n",
    "                       .csv(file_path)\n",
    "        \n",
    "        #file_columns.append({filename:df.columns})\n",
    "        file_columns.append(df.columns)\n",
    "        if len(df.columns) == 65:\n",
    "            files65.append(filename)\n",
    "        else:\n",
    "            files49.append(filename)"
   ]
  },
  {
   "cell_type": "code",
   "execution_count": 212,
   "id": "be182335-5fc4-4fd6-a9c6-52bf4d624124",
   "metadata": {
    "scrolled": true
   },
   "outputs": [
    {
     "data": {
      "text/plain": [
       "[['tourney_id',\n",
       "  'tourney_name',\n",
       "  'surface',\n",
       "  'draw_size',\n",
       "  'tourney_level',\n",
       "  'tourney_date',\n",
       "  'match_num',\n",
       "  'winner_id',\n",
       "  'winner_seed',\n",
       "  'winner_entry',\n",
       "  'winner_name',\n",
       "  'winner_hand',\n",
       "  'winner_ht',\n",
       "  'winner_ioc',\n",
       "  'winner_age',\n",
       "  'loser_id',\n",
       "  'loser_seed',\n",
       "  'loser_entry',\n",
       "  'loser_name',\n",
       "  'loser_hand',\n",
       "  'loser_ht',\n",
       "  'loser_ioc',\n",
       "  'loser_age',\n",
       "  'score',\n",
       "  'best_of',\n",
       "  'round',\n",
       "  'minutes',\n",
       "  'w_ace',\n",
       "  'w_df',\n",
       "  'w_svpt',\n",
       "  'w_1stIn',\n",
       "  'w_1stWon',\n",
       "  'w_2ndWon',\n",
       "  'w_SvGms',\n",
       "  'w_bpSaved',\n",
       "  'w_bpFaced',\n",
       "  'l_ace',\n",
       "  'l_df',\n",
       "  'l_svpt',\n",
       "  'l_1stIn',\n",
       "  'l_1stWon',\n",
       "  'l_2ndWon',\n",
       "  'l_SvGms',\n",
       "  'l_bpSaved',\n",
       "  'l_bpFaced',\n",
       "  'winner_rank',\n",
       "  'winner_rank_points',\n",
       "  'loser_rank',\n",
       "  'loser_rank_points'],\n",
       " ['tourney_id',\n",
       "  'tourney_name',\n",
       "  'surface',\n",
       "  'draw_size',\n",
       "  'tourney_level',\n",
       "  'tourney_date',\n",
       "  'match_num',\n",
       "  'winner1_id',\n",
       "  'winner2_id',\n",
       "  'winner_seed',\n",
       "  'winner_entry',\n",
       "  'loser1_id',\n",
       "  'loser2_id',\n",
       "  'loser_seed',\n",
       "  'loser_entry',\n",
       "  'score',\n",
       "  'best_of',\n",
       "  'round',\n",
       "  'winner1_name',\n",
       "  'winner1_hand',\n",
       "  'winner1_ht',\n",
       "  'winner1_ioc',\n",
       "  'winner1_age',\n",
       "  'winner2_name',\n",
       "  'winner2_hand',\n",
       "  'winner2_ht',\n",
       "  'winner2_ioc',\n",
       "  'winner2_age',\n",
       "  'loser1_name',\n",
       "  'loser1_hand',\n",
       "  'loser1_ht',\n",
       "  'loser1_ioc',\n",
       "  'loser1_age',\n",
       "  'loser2_name',\n",
       "  'loser2_hand',\n",
       "  'loser2_ht',\n",
       "  'loser2_ioc',\n",
       "  'loser2_age',\n",
       "  'winner1_rank',\n",
       "  'winner1_rank_points',\n",
       "  'winner2_rank',\n",
       "  'winner2_rank_points',\n",
       "  'loser1_rank',\n",
       "  'loser1_rank_points',\n",
       "  'loser2_rank',\n",
       "  'loser2_rank_points',\n",
       "  'minutes',\n",
       "  'w_ace',\n",
       "  'w_df',\n",
       "  'w_svpt',\n",
       "  'w_1stIn',\n",
       "  'w_1stWon',\n",
       "  'w_2ndWon',\n",
       "  'w_SvGms',\n",
       "  'w_bpSaved',\n",
       "  'w_bpFaced',\n",
       "  'l_ace',\n",
       "  'l_df',\n",
       "  'l_svpt',\n",
       "  'l_1stIn',\n",
       "  'l_1stWon',\n",
       "  'l_2ndWon',\n",
       "  'l_SvGms',\n",
       "  'l_bpSaved',\n",
       "  'l_bpFaced']]"
      ]
     },
     "execution_count": 212,
     "metadata": {},
     "output_type": "execute_result"
    }
   ],
   "source": [
    "# Removing duplicates\n",
    "file_columns = list(set(map(tuple, file_columns)))\n",
    "file_columns = [list(item) for item in file_columns]\n",
    "file_columns"
   ]
  },
  {
   "cell_type": "code",
   "execution_count": 213,
   "id": "bbf18594-a151-4574-a9c6-72efef879e35",
   "metadata": {},
   "outputs": [
    {
     "name": "stdout",
     "output_type": "stream",
     "text": [
      "Number of different column sets: 2\n",
      "Number of columns in the first set: 49\n",
      "Number of columns in the second set: 65\n"
     ]
    }
   ],
   "source": [
    "print(f\"Number of different column sets: {len(file_columns)}\")\n",
    "print(f\"Number of columns in the first set: {len(file_columns[0])}\")\n",
    "print(f\"Number of columns in the second set: {len(file_columns[1])}\")"
   ]
  },
  {
   "cell_type": "code",
   "execution_count": 214,
   "id": "a37ec9b8-a590-4d3a-a68c-f176591090c4",
   "metadata": {},
   "outputs": [],
   "source": [
    "col1 = set(file_columns[0])\n",
    "col2 = set(file_columns[1])\n",
    "diff1 = col1 - col2 # Columns in Doubles files that are not in Singles files\n",
    "diff2 = col2 - col1 # Columns in Singles files that are not in Doubles files\n",
    "# ^ to get both"
   ]
  },
  {
   "cell_type": "code",
   "execution_count": 215,
   "id": "bb36de00-65f8-4912-8e69-dc43d9258c98",
   "metadata": {},
   "outputs": [
    {
     "data": {
      "text/plain": [
       "{'loser_age',\n",
       " 'loser_hand',\n",
       " 'loser_ht',\n",
       " 'loser_id',\n",
       " 'loser_ioc',\n",
       " 'loser_name',\n",
       " 'loser_rank',\n",
       " 'loser_rank_points',\n",
       " 'winner_age',\n",
       " 'winner_hand',\n",
       " 'winner_ht',\n",
       " 'winner_id',\n",
       " 'winner_ioc',\n",
       " 'winner_name',\n",
       " 'winner_rank',\n",
       " 'winner_rank_points'}"
      ]
     },
     "execution_count": 215,
     "metadata": {},
     "output_type": "execute_result"
    }
   ],
   "source": [
    "diff1"
   ]
  },
  {
   "cell_type": "code",
   "execution_count": 216,
   "id": "474e98ef-8e47-4ea0-b95d-cc1c65a36723",
   "metadata": {},
   "outputs": [
    {
     "data": {
      "text/plain": [
       "{'loser1_age',\n",
       " 'loser1_hand',\n",
       " 'loser1_ht',\n",
       " 'loser1_id',\n",
       " 'loser1_ioc',\n",
       " 'loser1_name',\n",
       " 'loser1_rank',\n",
       " 'loser1_rank_points',\n",
       " 'loser2_age',\n",
       " 'loser2_hand',\n",
       " 'loser2_ht',\n",
       " 'loser2_id',\n",
       " 'loser2_ioc',\n",
       " 'loser2_name',\n",
       " 'loser2_rank',\n",
       " 'loser2_rank_points',\n",
       " 'winner1_age',\n",
       " 'winner1_hand',\n",
       " 'winner1_ht',\n",
       " 'winner1_id',\n",
       " 'winner1_ioc',\n",
       " 'winner1_name',\n",
       " 'winner1_rank',\n",
       " 'winner1_rank_points',\n",
       " 'winner2_age',\n",
       " 'winner2_hand',\n",
       " 'winner2_ht',\n",
       " 'winner2_id',\n",
       " 'winner2_ioc',\n",
       " 'winner2_name',\n",
       " 'winner2_rank',\n",
       " 'winner2_rank_points'}"
      ]
     },
     "execution_count": 216,
     "metadata": {},
     "output_type": "execute_result"
    }
   ],
   "source": [
    "diff2"
   ]
  },
  {
   "cell_type": "code",
   "execution_count": 217,
   "id": "a5193b4a-2932-4a42-90c0-ace8e24fa1a7",
   "metadata": {
    "scrolled": true
   },
   "outputs": [
    {
     "data": {
      "text/plain": [
       "['atp_matches_doubles_2010.csv',\n",
       " 'atp_matches_doubles_2012.csv',\n",
       " 'atp_matches_doubles_2016.csv',\n",
       " 'atp_matches_doubles_2003.csv',\n",
       " 'atp_matches_doubles_2000.csv',\n",
       " 'atp_matches_doubles_2008.csv',\n",
       " 'atp_matches_doubles_2018.csv',\n",
       " 'atp_matches_doubles_2004.csv',\n",
       " 'atp_matches_doubles_2002.csv',\n",
       " 'atp_matches_doubles_2001.csv',\n",
       " 'atp_matches_doubles_2005.csv',\n",
       " 'atp_matches_doubles_2006.csv',\n",
       " 'atp_matches_doubles_2007.csv',\n",
       " 'atp_matches_doubles_2020.csv',\n",
       " 'atp_matches_doubles_2013.csv',\n",
       " 'atp_matches_doubles_2019.csv',\n",
       " 'atp_matches_doubles_2017.csv',\n",
       " 'atp_matches_doubles_2014.csv',\n",
       " 'atp_matches_doubles_2015.csv',\n",
       " 'atp_matches_doubles_2011.csv',\n",
       " 'atp_matches_doubles_2009.csv']"
      ]
     },
     "execution_count": 217,
     "metadata": {},
     "output_type": "execute_result"
    }
   ],
   "source": [
    "# Files with 65 columns\n",
    "files65"
   ]
  },
  {
   "cell_type": "code",
   "execution_count": 218,
   "id": "a9d786cc-822a-4da0-87a3-f4f847f6cea0",
   "metadata": {
    "scrolled": true
   },
   "outputs": [
    {
     "data": {
      "text/plain": [
       "['atp_matches_1978.csv',\n",
       " 'atp_matches_1998.csv',\n",
       " 'atp_matches_1980.csv',\n",
       " 'atp_matches_1996.csv',\n",
       " 'atp_matches_2022.csv',\n",
       " 'atp_matches_1997.csv',\n",
       " 'atp_matches_1989.csv',\n",
       " 'atp_matches_2007.csv',\n",
       " 'atp_matches_2003.csv',\n",
       " 'atp_matches_1972.csv',\n",
       " 'atp_matches_2005.csv',\n",
       " 'atp_matches_1971.csv',\n",
       " 'atp_matches_1976.csv',\n",
       " 'atp_matches_1992.csv',\n",
       " 'atp_matches_2021.csv',\n",
       " 'atp_matches_1968.csv',\n",
       " 'atp_matches_1979.csv',\n",
       " 'atp_matches_2009.csv',\n",
       " 'atp_matches_1983.csv',\n",
       " 'atp_matches_1995.csv',\n",
       " 'atp_matches_1977.csv',\n",
       " 'atp_matches_2002.csv',\n",
       " 'atp_matches_2016.csv',\n",
       " 'atp_matches_1981.csv',\n",
       " 'atp_matches_2011.csv',\n",
       " 'atp_matches_2018.csv',\n",
       " 'atp_matches_2020.csv',\n",
       " 'atp_matches_1994.csv',\n",
       " 'atp_matches_1970.csv',\n",
       " 'atp_matches_2019.csv',\n",
       " 'atp_matches_2013.csv',\n",
       " 'atp_matches_1973.csv',\n",
       " 'atp_matches_1988.csv',\n",
       " 'atp_matches_2010.csv',\n",
       " 'atp_matches_1982.csv',\n",
       " 'atp_matches_2012.csv',\n",
       " 'atp_matches_2008.csv',\n",
       " 'atp_matches_2017.csv',\n",
       " 'atp_matches_1984.csv',\n",
       " 'atp_matches_1999.csv',\n",
       " 'atp_matches_1985.csv',\n",
       " 'atp_matches_1986.csv',\n",
       " 'atp_matches_1974.csv',\n",
       " 'atp_matches_2001.csv',\n",
       " 'atp_matches_1969.csv',\n",
       " 'atp_matches_1993.csv',\n",
       " 'atp_matches_1975.csv',\n",
       " 'atp_matches_2015.csv',\n",
       " 'atp_matches_1987.csv',\n",
       " 'atp_matches_1990.csv',\n",
       " 'atp_matches_2014.csv',\n",
       " 'atp_matches_2004.csv',\n",
       " 'atp_matches_2006.csv',\n",
       " 'atp_matches_2000.csv',\n",
       " 'atp_matches_2023.csv',\n",
       " 'atp_matches_1991.csv',\n",
       " 'atp_matches_futures_1996.csv',\n",
       " 'atp_matches_futures_1998.csv',\n",
       " 'atp_matches_futures_1992.csv',\n",
       " 'atp_matches_futures_2013.csv',\n",
       " 'atp_matches_futures_2012.csv',\n",
       " 'atp_matches_futures_2016.csv',\n",
       " 'atp_matches_futures_2017.csv',\n",
       " 'atp_matches_futures_2014.csv',\n",
       " 'atp_matches_futures_2015.csv',\n",
       " 'atp_matches_futures_2005.csv',\n",
       " 'atp_matches_futures_2020.csv',\n",
       " 'atp_matches_futures_2010.csv',\n",
       " 'atp_matches_futures_2023.csv',\n",
       " 'atp_matches_futures_2007.csv',\n",
       " 'atp_matches_futures_2021.csv',\n",
       " 'atp_matches_futures_2006.csv',\n",
       " 'atp_matches_futures_1993.csv',\n",
       " 'atp_matches_futures_2003.csv',\n",
       " 'atp_matches_futures_1999.csv',\n",
       " 'atp_matches_futures_1991.csv',\n",
       " 'atp_matches_futures_2022.csv',\n",
       " 'atp_matches_futures_2002.csv',\n",
       " 'atp_matches_futures_2008.csv',\n",
       " 'atp_matches_futures_2018.csv',\n",
       " 'atp_matches_futures_1997.csv',\n",
       " 'atp_matches_futures_1994.csv',\n",
       " 'atp_matches_futures_2004.csv',\n",
       " 'atp_matches_futures_1995.csv',\n",
       " 'atp_matches_futures_2000.csv',\n",
       " 'atp_matches_futures_2011.csv',\n",
       " 'atp_matches_futures_2019.csv',\n",
       " 'atp_matches_futures_2001.csv',\n",
       " 'atp_matches_futures_2009.csv',\n",
       " 'atp_matches_qual_chall_2010.csv',\n",
       " 'atp_matches_qual_chall_1988.csv',\n",
       " 'atp_matches_qual_chall_1989.csv',\n",
       " 'atp_matches_qual_chall_2020.csv',\n",
       " 'atp_matches_qual_chall_2011.csv',\n",
       " 'atp_matches_qual_chall_2019.csv',\n",
       " 'atp_matches_qual_chall_1995.csv',\n",
       " 'atp_matches_qual_chall_2015.csv',\n",
       " 'atp_matches_qual_chall_1996.csv',\n",
       " 'atp_matches_qual_chall_2017.csv',\n",
       " 'atp_matches_qual_chall_2021.csv',\n",
       " 'atp_matches_qual_chall_1990.csv',\n",
       " 'atp_matches_qual_chall_1979.csv',\n",
       " 'atp_matches_qual_chall_1987.csv',\n",
       " 'atp_matches_qual_chall_1981.csv',\n",
       " 'atp_matches_qual_chall_1985.csv',\n",
       " 'atp_matches_qual_chall_2005.csv',\n",
       " 'atp_matches_qual_chall_2012.csv',\n",
       " 'atp_matches_qual_chall_1984.csv',\n",
       " 'atp_matches_qual_chall_1991.csv',\n",
       " 'atp_matches_qual_chall_1994.csv',\n",
       " 'atp_matches_qual_chall_2018.csv',\n",
       " 'atp_matches_qual_chall_2001.csv',\n",
       " 'atp_matches_qual_chall_1997.csv',\n",
       " 'atp_matches_qual_chall_2008.csv',\n",
       " 'atp_matches_qual_chall_2000.csv',\n",
       " 'atp_matches_qual_chall_1986.csv',\n",
       " 'atp_matches_qual_chall_2003.csv',\n",
       " 'atp_matches_qual_chall_1980.csv',\n",
       " 'atp_matches_qual_chall_1992.csv',\n",
       " 'atp_matches_qual_chall_1983.csv',\n",
       " 'atp_matches_qual_chall_1998.csv',\n",
       " 'atp_matches_qual_chall_2007.csv',\n",
       " 'atp_matches_qual_chall_2022.csv',\n",
       " 'atp_matches_qual_chall_2004.csv',\n",
       " 'atp_matches_qual_chall_1978.csv',\n",
       " 'atp_matches_qual_chall_2023.csv',\n",
       " 'atp_matches_qual_chall_2014.csv',\n",
       " 'atp_matches_qual_chall_1993.csv',\n",
       " 'atp_matches_qual_chall_2002.csv',\n",
       " 'atp_matches_qual_chall_2016.csv',\n",
       " 'atp_matches_qual_chall_2006.csv',\n",
       " 'atp_matches_qual_chall_2009.csv',\n",
       " 'atp_matches_qual_chall_1982.csv',\n",
       " 'atp_matches_qual_chall_2013.csv',\n",
       " 'atp_matches_qual_chall_1999.csv']"
      ]
     },
     "execution_count": 218,
     "metadata": {},
     "output_type": "execute_result"
    }
   ],
   "source": [
    "# Files with 49 columns\n",
    "files49"
   ]
  },
  {
   "cell_type": "code",
   "execution_count": 219,
   "id": "f25fcb8d-4189-46a1-b482-bf46d2fc9d99",
   "metadata": {},
   "outputs": [],
   "source": [
    "#HELENA"
   ]
  },
  {
   "cell_type": "code",
   "execution_count": 220,
   "id": "89b0ae24-e488-4832-a462-7375249dea00",
   "metadata": {},
   "outputs": [],
   "source": [
    "singles=spark.read.option(\"header\",\"true\").option(\"inferSchema\",\"true\") \\\n",
    ".csv('singles')\n",
    "\n",
    "singles = singles.withColumn(\n",
    "    \"Origin\",\n",
    "    lit('Singles')\n",
    ")\n",
    "\n",
    "doubles=spark.read.option(\"header\",\"true\").option(\"inferSchema\",\"true\") \\\n",
    ".csv('doubles')\n",
    "\n",
    "doubles = doubles.withColumn(\n",
    "    \"Origin\",\n",
    "    lit('Doubles')\n",
    ")\n",
    "\n",
    "futures=spark.read.option(\"header\",\"true\").option(\"inferSchema\",\"true\") \\\n",
    ".csv('futures')\n",
    "\n",
    "futures = futures.withColumn(\n",
    "    \"Origin\",\n",
    "    lit('Futures')\n",
    ")\n",
    "\n",
    "qual_chal = spark.read.option(\"header\",\"true\").option(\"inferSchema\",\"true\") \\\n",
    ".csv('qual_chal')\n",
    "\n",
    "qual_chal = qual_chal.withColumn(\n",
    "    \"Origin\",\n",
    "    lit('Qualificacao_Challenger')\n",
    ")\n",
    "\n",
    "amat = spark.read.option(\"header\",\"true\").option(\"inferSchema\",\"true\") \\\n",
    ".csv('atp_matches_amateur.csv')\n",
    "\n",
    "amat = amat.withColumn(\n",
    "    \"Origin\",\n",
    "    lit('Amateur')\n",
    ")"
   ]
  },
  {
   "cell_type": "code",
   "execution_count": 221,
   "id": "96676bf3-0654-4cc5-bb07-b130b8c5420a",
   "metadata": {},
   "outputs": [],
   "source": [
    "matches_completos = singles.unionAll(futures)\n",
    "matches_completos = matches_completos.unionAll(qual_chal)\n",
    "matches_completos=matches_completos.unionAll(amat)"
   ]
  },
  {
   "cell_type": "code",
   "execution_count": 222,
   "id": "7b8a8446-8449-4619-b378-a45758d831f9",
   "metadata": {},
   "outputs": [],
   "source": [
    "colunas_unicas_doubles = list(set(doubles.columns) - set(matches_completos.columns))\n",
    "\n",
    "for a in colunas_unicas_doubles:\n",
    "    matches_completos = matches_completos.withColumn(\n",
    "    a,\n",
    "    lit(None)\n",
    ")\n",
    "\n",
    "sorted_columns = sorted(matches_completos.columns)\n",
    "matches_completos = matches_completos.select(*sorted_columns)"
   ]
  },
  {
   "cell_type": "code",
   "execution_count": 223,
   "id": "f20495fe-1060-49d8-a35f-d3ce9061b861",
   "metadata": {},
   "outputs": [],
   "source": [
    "colunas_unicas_matches_completos = list(set(matches_completos.columns) - set(doubles.columns))\n",
    "\n",
    "for a in colunas_unicas_matches_completos:\n",
    "    doubles = doubles.withColumn(\n",
    "    a,\n",
    "    lit(None)\n",
    ")"
   ]
  },
  {
   "cell_type": "code",
   "execution_count": 224,
   "id": "a73622bd-2319-4f1c-b34d-52a2918368b4",
   "metadata": {},
   "outputs": [],
   "source": [
    "sorted_columns = sorted(doubles.columns)\n",
    "doubles = doubles.select(*sorted_columns)\n",
    "matches_completos=matches_completos.unionAll(doubles)"
   ]
  },
  {
   "cell_type": "code",
   "execution_count": 225,
   "id": "bb1f1cef-e1a6-425a-a750-f108cb8169d5",
   "metadata": {},
   "outputs": [
    {
     "data": {
      "text/plain": [
       "82"
      ]
     },
     "execution_count": 225,
     "metadata": {},
     "output_type": "execute_result"
    }
   ],
   "source": [
    "len(matches_completos.columns)"
   ]
  },
  {
   "cell_type": "code",
   "execution_count": 226,
   "id": "1f72459f-e25f-48da-8a89-b6ee3d64641e",
   "metadata": {},
   "outputs": [
    {
     "name": "stdout",
     "output_type": "stream",
     "text": [
      "+----------+\n",
      "|tourney_id|\n",
      "+----------+\n",
      "|  1994-339|\n",
      "|  1994-339|\n",
      "|  1994-339|\n",
      "|  1994-339|\n",
      "|  1994-339|\n",
      "|  1994-339|\n",
      "|  1994-339|\n",
      "|  1994-339|\n",
      "|  1994-339|\n",
      "|  1994-339|\n",
      "|  1994-339|\n",
      "|  1994-339|\n",
      "|  1994-339|\n",
      "|  1994-339|\n",
      "|  1994-339|\n",
      "|  1994-339|\n",
      "|  1994-339|\n",
      "|  1994-339|\n",
      "|  1994-339|\n",
      "|  1994-339|\n",
      "+----------+\n",
      "only showing top 20 rows\n",
      "\n"
     ]
    }
   ],
   "source": [
    "matches_completos.select('tourney_id').show()\n",
    "matches=matches_completos"
   ]
  },
  {
   "cell_type": "code",
   "execution_count": 227,
   "id": "5a73989f-311f-46e1-8c8e-18545e1c9865",
   "metadata": {},
   "outputs": [],
   "source": [
    "#LARA"
   ]
  },
  {
   "cell_type": "code",
   "execution_count": 73,
   "id": "b3393aee-41fe-4d7b-b10a-ac56859324f6",
   "metadata": {},
   "outputs": [],
   "source": [
    "# Listing all columns with the type 'void' and converting to int\n",
    "void_columns = [col_name for col_name, data_type in matches.dtypes if data_type == 'void']\n",
    "for col_name in void_columns:\n",
    "    matches = matches.withColumn(col_name, matches[col_name].cast(\"int\"))"
   ]
  },
  {
   "cell_type": "code",
   "execution_count": 74,
   "id": "0fecb2f2-1ade-4200-94cf-6c3b9393c7e5",
   "metadata": {},
   "outputs": [],
   "source": [
    "# Converting to int\n",
    "columns_to_convert = [\"draw_size\", \"loser_id\",\"loser_seed\", \"best_of\", \"minutes\", \"winner_seed\",\n",
    "    \"w_ace\", \"w_df\", \"w_svpt\", \"w_1stIn\", \"w_1stWon\", \"w_2ndWon\", \"w_SvGms\", \"w_bpSaved\", \"w_bpFaced\",\n",
    "    \"l_ace\", \"l_df\", \"l_svpt\", \"l_1stIn\", \"l_1stWon\", \"l_2ndWon\", \"l_SvGms\", \"l_bpSaved\", \"l_bpFaced\",\n",
    "    \"winner_rank\", \"loser_rank\", \"winner_rank_points\", \"loser_rank_points\", \"winner2_hand\"\n",
    "]\n",
    "for column in columns_to_convert:\n",
    "    matches = matches.withColumn(column, col(column).cast(\"integer\"))"
   ]
  },
  {
   "cell_type": "code",
   "execution_count": 75,
   "id": "6ebc5ab1-2978-4df8-9344-94d7ecf8e197",
   "metadata": {},
   "outputs": [],
   "source": [
    "matches = matches.withColumn(\"tourney_date\", to_date(matches[\"tourney_date\"].cast(\"string\"), \"yyyyMMdd\"))\n",
    "matches = matches.withColumn(\"winner_age\", matches[\"winner_age\"].cast(\"double\"))"
   ]
  },
  {
   "cell_type": "code",
   "execution_count": 76,
   "id": "ff5dc3c7-12ff-4b5c-beec-9d6b3f73a480",
   "metadata": {},
   "outputs": [],
   "source": [
    "# Function to get scores for each set\n",
    "def extrair_sets(scores):\n",
    "    if scores:\n",
    "        sets = scores.split(' ')\n",
    "    else:\n",
    "        sets = []\n",
    "    set_values = {}\n",
    "\n",
    "    if sets:\n",
    "        for i, set_score in enumerate(sets):\n",
    "            try:\n",
    "                set_values[f\"set_{i+1}\"] = int(set_score)\n",
    "            except ValueError:\n",
    "                set_values[f\"set_{i+1}\"] = set_score\n",
    "\n",
    "    return set_values\n",
    "\n",
    "extrair_sets_udf = udf(extrair_sets, MapType(StringType(), StringType()))\n",
    "\n",
    "# New column with the scores for each set\n",
    "matches = matches.withColumn(\"sets\", extrair_sets_udf(col(\"score\")))\n",
    "for i in range(1, 6):  \n",
    "    matches = matches.withColumn(f\"set_{i}\", when(col(\"sets\").getItem(f\"set_{i}\").isNull(), None).otherwise(col(\"sets\").getItem(f\"set_{i}\")))\n",
    "\n",
    "matches = matches.drop(\"sets\")"
   ]
  },
  {
   "cell_type": "code",
   "execution_count": null,
   "id": "d75d96ea-d173-4502-a5f5-24e4dea55ca8",
   "metadata": {},
   "outputs": [],
   "source": []
  },
  {
   "cell_type": "code",
   "execution_count": 80,
   "id": "27ff7afb-c1cc-4837-b86c-b15137dc56ee",
   "metadata": {},
   "outputs": [],
   "source": [
    "doubles_columns = ['winner1_age', 'winner1_hand', 'winner1_ht', 'winner1_id', 'winner1_ioc', 'winner1_name', 'winner1_rank', 'winner1_rank_points', 'loser1_age', 'loser1_hand', 'loser1_ht', 'loser1_id', 'loser1_ioc', 'loser1_name', 'loser1_rank', 'loser1_rank_points']\n",
    "singles_columns = ['winner_age', 'winner_hand', 'winner_ht', 'winner_id', 'winner_ioc', 'winner_name', 'winner_rank', 'winner_rank_points', 'loser_age', 'loser_hand', 'loser_ht', 'loser_id', 'loser_ioc', 'loser_name', 'loser_rank', 'loser_rank_points']"
   ]
  },
  {
   "cell_type": "code",
   "execution_count": 81,
   "id": "6f5dbacf-1b42-48bf-9ef4-1852a1bc33c1",
   "metadata": {},
   "outputs": [],
   "source": [
    "# Transferring the records in singles-related columns to doubles-related columns\n",
    "for i in range(len(doubles_columns)):\n",
    "    matches = matches.withColumn(f\"{doubles_columns[i]}\", coalesce(matches[f\"{singles_columns[i]}\"], matches[f\"{doubles_columns[i]}\"]))"
   ]
  },
  {
   "cell_type": "code",
   "execution_count": 82,
   "id": "eb82f873-a1b1-40dc-a2ca-886128842ae7",
   "metadata": {},
   "outputs": [],
   "source": [
    "# Dropping the columns not needed\n",
    "matches = matches.drop(*singles_columns)"
   ]
  },
  {
   "cell_type": "code",
   "execution_count": 83,
   "id": "808045e1-eb62-4c90-ad59-b75703663d78",
   "metadata": {},
   "outputs": [
    {
     "data": {
      "text/plain": [
       "71"
      ]
     },
     "execution_count": 83,
     "metadata": {},
     "output_type": "execute_result"
    }
   ],
   "source": [
    "# 65 + Origin + 5 sets = 71\n",
    "len(matches.columns)"
   ]
  },
  {
   "cell_type": "code",
   "execution_count": 88,
   "id": "869fde8d-7477-4f30-af94-75850d3da174",
   "metadata": {
    "scrolled": true
   },
   "outputs": [],
   "source": [
    "matches.repartition(1).write.csv(\"matches\", mode='overwrite')"
   ]
  },
  {
   "cell_type": "code",
   "execution_count": null,
   "id": "44cba2a0-cb34-43c7-9f7e-db7c625c8fe5",
   "metadata": {},
   "outputs": [],
   "source": []
  },
  {
   "cell_type": "code",
   "execution_count": null,
   "id": "93cee1ea-0d7d-40d7-860e-dd14b172cd2a",
   "metadata": {},
   "outputs": [],
   "source": [
    "#ADAPTATION FROM OTHER DOC IN GITHUB"
   ]
  },
  {
   "cell_type": "code",
   "execution_count": 253,
   "id": "f180a939-fd31-479c-8c24-2aafed4f55da",
   "metadata": {},
   "outputs": [
    {
     "name": "stdout",
     "output_type": "stream",
     "text": [
      "+---------------+-----+\n",
      "|    winner_name|count|\n",
      "+---------------+-----+\n",
      "|   Rafael Nadal|   69|\n",
      "|Guillermo Vilas|   49|\n",
      "|  Thomas Muster|   45|\n",
      "| Manuel Orantes|   35|\n",
      "|  Lamine Ouahab|   35|\n",
      "+---------------+-----+\n",
      "\n"
     ]
    }
   ],
   "source": [
    "matches_filtered = matches.filter(col(\"winner_name\").isNotNull())\n",
    "#analyzing final matches only, as suggested by the doc with dataset similar to ours\n",
    "\n",
    "clay_winners = matches_filtered.filter((col(\"round\").like(\"F%\")) & (col(\"surface\").like(\"Cl%\"))) \\\n",
    "                      .select(\"winner_name\") \\\n",
    "                      .groupBy(\"winner_name\") \\\n",
    "                      .count() \\\n",
    "                      .orderBy(col(\"count\").desc()) \\\n",
    "                      .limit(5)\n",
    "\n",
    "# Show the frequent clay court winners\n",
    "clay_winners.show()\n"
   ]
  },
  {
   "cell_type": "code",
   "execution_count": 254,
   "id": "1423d428-2f8c-494d-99de-e1160910da83",
   "metadata": {},
   "outputs": [
    {
     "name": "stdout",
     "output_type": "stream",
     "text": [
      "+--------------+-----+\n",
      "|   winner_name|count|\n",
      "+--------------+-----+\n",
      "|Novak Djokovic|   72|\n",
      "| Roger Federer|   72|\n",
      "|  Andre Agassi|   47|\n",
      "| Jimmy Connors|   43|\n",
      "|   Andy Murray|   38|\n",
      "+--------------+-----+\n",
      "\n"
     ]
    }
   ],
   "source": [
    "\n",
    "hard_winners = matches_filtered.filter((col(\"round\").like(\"F%\")) & (col(\"surface\").like(\"Hard\"))) \\\n",
    "                      .select(\"winner_name\") \\\n",
    "                      .groupBy(\"winner_name\") \\\n",
    "                      .count() \\\n",
    "                      .orderBy(col(\"count\").desc()) \\\n",
    "                      .limit(5)\n",
    "\n",
    "# Show the frequent clay court winners\n",
    "hard_winners.show()"
   ]
  },
  {
   "cell_type": "code",
   "execution_count": 255,
   "id": "b27f1140-2e67-4413-9202-ffeb47ab41fb",
   "metadata": {},
   "outputs": [
    {
     "name": "stdout",
     "output_type": "stream",
     "text": [
      "+-------------+-----+\n",
      "|  winner_name|count|\n",
      "+-------------+-----+\n",
      "|Roger Federer|   19|\n",
      "|    Rod Laver|   13|\n",
      "| Pete Sampras|   10|\n",
      "|  Andy Murray|   10|\n",
      "| Ken Rosewall|   10|\n",
      "+-------------+-----+\n",
      "\n"
     ]
    }
   ],
   "source": [
    "grass_winners = matches_filtered.filter((col(\"round\").like(\"F%\")) & (col(\"surface\").like(\"Gr%\"))) \\\n",
    "                      .select(\"winner_name\") \\\n",
    "                      .groupBy(\"winner_name\") \\\n",
    "                      .count() \\\n",
    "                      .orderBy(col(\"count\").desc()) \\\n",
    "                      .limit(5)\n",
    "grass_winners.show()"
   ]
  },
  {
   "cell_type": "code",
   "execution_count": 257,
   "id": "d5ff7010-3652-41bd-b583-643186324195",
   "metadata": {},
   "outputs": [
    {
     "name": "stdout",
     "output_type": "stream",
     "text": [
      "+--------------------+---------+----------+-----------------+\n",
      "|         winner_name|win_count|lose_count|     winning_rate|\n",
      "+--------------------+---------+----------+-----------------+\n",
      "|      Bill Tilden Ii|      140|        19| 88.0503144654088|\n",
      "|          Fred Perry|      132|        19|87.41721854304636|\n",
      "|   Henri Jean Cochet|      133|        22|85.80645161290323|\n",
      "|   Jean Rene Lacoste|      110|        19|85.27131782945736|\n",
      "|      Novak Djokovic|     1165|       231|83.45272206303724|\n",
      "|        Rafael Nadal|     1160|       251|82.21119773210489|\n",
      "|Gottfried Alexand...|      113|        25| 81.8840579710145|\n",
      "|          Bjorn Borg|      654|       146|            81.75|\n",
      "|          Ivan Lendl|     1075|       242|81.62490508731966|\n",
      "|        John McEnroe|      886|       201|81.50873965041399|\n",
      "+--------------------+---------+----------+-----------------+\n",
      "\n"
     ]
    }
   ],
   "source": [
    "from pyspark.sql.functions import col\n",
    "\n",
    "# Calculation of Match Winning Rate of players in the ATP matches\n",
    "players_win = matches.select(\"winner_name\")\n",
    "players_win_res = players_win.groupBy(\"winner_name\").count()\n",
    "\n",
    "players_lose = matches.select(\"loser_name\")\n",
    "players_lose_res = players_lose.groupBy(\"loser_name\").count()\n",
    "\n",
    "win_lose_join = players_win_res.join(players_lose_res, players_win_res[\"winner_name\"] == players_lose_res[\"loser_name\"], \"left_outer\")\n",
    "\n",
    "win_perc_res = win_lose_join.select(players_win_res[\"winner_name\"],\n",
    "                                     players_win_res[\"count\"].alias(\"win_count\"),\n",
    "                                     players_lose_res[\"count\"].alias(\"lose_count\")) \\\n",
    "                            .withColumn(\"winning_rate\", (col(\"win_count\") * 100) / (col(\"win_count\") + col(\"lose_count\"))) \\\n",
    "                            .filter(col(\"win_count\") > 100) \\\n",
    "                            .orderBy(col(\"winning_rate\").desc()) \\\n",
    "                            .limit(10)\n",
    "\n",
    "win_perc_res.show()\n"
   ]
  },
  {
   "cell_type": "code",
   "execution_count": 258,
   "id": "58c06c5d-7207-437f-a168-5f6bc88a0cdf",
   "metadata": {},
   "outputs": [
    {
     "name": "stdout",
     "output_type": "stream",
     "text": [
      "General Winners:\n",
      "Row(avg_w_ace=1.2364471823118182, avg_w_df=0.5784549034114175, avg_w_svpt=16.053590118874144, avg_w_SvGms=2.5412071728609016, avg_w_bpSaved=0.7451556033565722, avg_w_1stWon=7.376047057867621)\n",
      "\n",
      "General Losers:\n",
      "Row(avg_l_ace=0.9160290327029514, avg_l_df=0.7456912265771751, avg_l_svpt=16.630151631619515, avg_l_SvGms=2.501646961220237, avg_l_bpSaved=1.0100709994772061, avg_l_1stWon=6.51568435221129)\n",
      "\n",
      "Tournament Winners:\n",
      "Row(avg_w_ace=1.0546710723941124, avg_w_df=0.41337488735355965, avg_w_svpt=13.043443977170321, avg_w_SvGms=2.0762991889456295, avg_w_bpSaved=0.6050991288675278, avg_w_1stWon=6.112195854610994)\n"
     ]
    }
   ],
   "source": [
    "from pyspark.sql.functions import avg, when\n",
    "\n",
    "# Comparison of Tournament Winners, General Winners, General Losers\n",
    "win_prm = matches.select(avg(when(col(\"w_ace\").isNotNull(), col(\"w_ace\")).otherwise(0)).alias(\"avg_w_ace\"),\n",
    "                         avg(when(col(\"w_df\").isNotNull(), col(\"w_df\")).otherwise(0)).alias(\"avg_w_df\"),\n",
    "                         avg(when(col(\"w_svpt\").isNotNull(), col(\"w_svpt\")).otherwise(0)).alias(\"avg_w_svpt\"),\n",
    "                         avg(when(col(\"w_SvGms\").isNotNull(), col(\"w_SvGms\")).otherwise(0)).alias(\"avg_w_SvGms\"),\n",
    "                         avg(when(col(\"w_bpSaved\").isNotNull(), col(\"w_bpSaved\")).otherwise(0)).alias(\"avg_w_bpSaved\"),\n",
    "                         avg(when(col(\"w_1stWon\").isNotNull(), col(\"w_1stWon\")).otherwise(0)).alias(\"avg_w_1stWon\"))\n",
    "\n",
    "los_prm = matches.select(avg(when(col(\"l_ace\").isNotNull(), col(\"l_ace\")).otherwise(0)).alias(\"avg_l_ace\"),\n",
    "                         avg(when(col(\"l_df\").isNotNull(), col(\"l_df\")).otherwise(0)).alias(\"avg_l_df\"),\n",
    "                         avg(when(col(\"l_svpt\").isNotNull(), col(\"l_svpt\")).otherwise(0)).alias(\"avg_l_svpt\"),\n",
    "                         avg(when(col(\"l_SvGms\").isNotNull(), col(\"l_SvGms\")).otherwise(0)).alias(\"avg_l_SvGms\"),\n",
    "                         avg(when(col(\"l_bpSaved\").isNotNull(), col(\"l_bpSaved\")).otherwise(0)).alias(\"avg_l_bpSaved\"),\n",
    "                         avg(when(col(\"l_1stWon\").isNotNull(), col(\"l_1stWon\")).otherwise(0)).alias(\"avg_l_1stWon\"))\n",
    "\n",
    "tourney_win_prm = matches.filter(col(\"round\").like(\"F%\")).select(avg(when(col(\"w_ace\").isNotNull(), col(\"w_ace\")).otherwise(0)).alias(\"avg_w_ace\"),\n",
    "                                                                avg(when(col(\"w_df\").isNotNull(), col(\"w_df\")).otherwise(0)).alias(\"avg_w_df\"),\n",
    "                                                                avg(when(col(\"w_svpt\").isNotNull(), col(\"w_svpt\")).otherwise(0)).alias(\"avg_w_svpt\"),\n",
    "                                                                avg(when(col(\"w_SvGms\").isNotNull(), col(\"w_SvGms\")).otherwise(0)).alias(\"avg_w_SvGms\"),\n",
    "                                                                avg(when(col(\"w_bpSaved\").isNotNull(), col(\"w_bpSaved\")).otherwise(0)).alias(\"avg_w_bpSaved\"),\n",
    "                                                                avg(when(col(\"w_1stWon\").isNotNull(), col(\"w_1stWon\")).otherwise(0)).alias(\"avg_w_1stWon\"))\n",
    "\n",
    "win_prm_op = win_prm.collect()\n",
    "los_prm_op = los_prm.collect()\n",
    "tourney_win_prm_op = tourney_win_prm.collect()\n",
    "\n",
    "print(\"General Winners:\")\n",
    "for row in win_prm_op:\n",
    "    print(row)\n",
    "\n",
    "print(\"\\nGeneral Losers:\")\n",
    "for row in los_prm_op:\n",
    "    print(row)\n",
    "\n",
    "print(\"\\nTournament Winners:\")\n",
    "for row in tourney_win_prm_op:\n",
    "    print(row)\n"
   ]
  },
  {
   "cell_type": "code",
   "execution_count": 260,
   "id": "cc885587-9dde-4e77-96aa-87423b806b71",
   "metadata": {},
   "outputs": [
    {
     "data": {
      "image/png": "[encoded data removed]",
      "text/plain": [
       "<Figure size 1200x600 with 1 Axes>"
      ]
     },
     "metadata": {},
     "output_type": "display_data"
    }
   ],
   "source": [
    "import matplotlib.pyplot as plt\n",
    "\n",
    "# Metrics for winners\n",
    "win_metrics = win_prm_op[0]\n",
    "\n",
    "# Metrics for losers\n",
    "los_metrics = los_prm_op[0]\n",
    "\n",
    "# Metrics for tournament winners\n",
    "tourney_win_metrics = tourney_win_prm_op[0]\n",
    "\n",
    "# Labels for the metrics\n",
    "metrics_labels = [\"Ace\", \"Double Fault\", \"Service Points\", \"Service Games\", \"Break Points Saved\", \"1st Serve Won\"]\n",
    "\n",
    "# Plotting\n",
    "plt.figure(figsize=(12, 6))\n",
    "bar_width = 0.25\n",
    "index = range(len(metrics_labels))\n",
    "\n",
    "plt.bar(index, win_metrics, bar_width, label=\"General Winners\")\n",
    "plt.bar([i + bar_width for i in index], los_metrics, bar_width, label=\"General Losers\")\n",
    "plt.bar([i + 2 * bar_width for i in index], tourney_win_metrics, bar_width, label=\"Tournament Winners\")\n",
    "\n",
    "plt.xlabel(\"Metrics\")\n",
    "plt.ylabel(\"Average Value\")\n",
    "plt.title(\"Comparison of Performance Metrics\")\n",
    "plt.xticks([i + bar_width for i in index], metrics_labels)\n",
    "plt.legend()\n",
    "plt.tight_layout()\n",
    "plt.show()\n"
   ]
  },
  {
   "cell_type": "code",
   "execution_count": 261,
   "id": "70480566-b5b9-4683-8d57-51f9fcbebc41",
   "metadata": {},
   "outputs": [
    {
     "name": "stdout",
     "output_type": "stream",
     "text": [
      "Roger Federer Metrics:\n",
      "[Row(avg_w_ace=7.248275862068965, avg_w_df=1.5218390804597701, avg_w_svpt=67.89348659003831, avg_w_SvGms=11.456704980842911, avg_w_bpSaved=2.3302681992337164, avg_w_1stWon=33.600766283524905)]\n",
      "Rafael Nadal Metrics:\n",
      "[Row(avg_w_ace=2.907758620689655, avg_w_df=1.4474137931034483, avg_w_svpt=64.28017241379311, avg_w_SvGms=10.669827586206896, avg_w_bpSaved=2.739655172413793, avg_w_1stWon=32.33448275862069)]\n",
      "Novak Djokovic Metrics:\n",
      "[Row(avg_w_ace=5.250643776824035, avg_w_df=1.9828326180257512, avg_w_svpt=68.47467811158798, avg_w_SvGms=11.306437768240343, avg_w_bpSaved=2.730472103004292, avg_w_1stWon=33.75021459227468)]\n",
      "Andre Agassi Metrics:\n",
      "[Row(avg_w_ace=3.6031567080045095, avg_w_df=1.585118376550169, avg_w_svpt=54.37542277339346, avg_w_SvGms=8.798196166854567, avg_w_bpSaved=2.2795941375422775, avg_w_1stWon=25.942502818489288)]\n",
      "Pete Sampras Metrics:\n",
      "[Row(avg_w_ace=9.35593220338983, avg_w_df=2.8696219035202084, avg_w_svpt=67.625814863103, avg_w_SvGms=10.694915254237289, avg_w_bpSaved=2.279009126466754, avg_w_1stWon=33.478487614080834)]\n"
     ]
    }
   ],
   "source": [
    "from pyspark.sql.functions import avg\n",
    "\n",
    "# Define the list of top players\n",
    "top_players = [\"Roger Federer\", \"Rafael Nadal\", \"Novak Djokovic\", \"Andre Agassi\", \"Pete Sampras\"]\n",
    "\n",
    "# Initialize empty lists to store the collected results\n",
    "top_players_ops = []\n",
    "\n",
    "# Loop through each top player and collect the results\n",
    "for player in top_players:\n",
    "    player_query = matches.filter(col(\"winner_name\") == player) \\\n",
    "                         .select(avg(when(col(\"w_ace\").isNotNull(), col(\"w_ace\")).otherwise(0)).alias(\"avg_w_ace\"),\n",
    "                                 avg(when(col(\"w_df\").isNotNull(), col(\"w_df\")).otherwise(0)).alias(\"avg_w_df\"),\n",
    "                                 avg(when(col(\"w_svpt\").isNotNull(), col(\"w_svpt\")).otherwise(0)).alias(\"avg_w_svpt\"),\n",
    "                                 avg(when(col(\"w_SvGms\").isNotNull(), col(\"w_SvGms\")).otherwise(0)).alias(\"avg_w_SvGms\"),\n",
    "                                 avg(when(col(\"w_bpSaved\").isNotNull(), col(\"w_bpSaved\")).otherwise(0)).alias(\"avg_w_bpSaved\"),\n",
    "                                 avg(when(col(\"w_1stWon\").isNotNull(), col(\"w_1stWon\")).otherwise(0)).alias(\"avg_w_1stWon\")) \\\n",
    "                         .collect()\n",
    "    top_players_ops.append(player_query)\n",
    "\n",
    "# Print the collected results\n",
    "for i, player in enumerate(top_players):\n",
    "    print(player + \" Metrics:\")\n",
    "    print(top_players_ops[i])\n"
   ]
  },
  {
   "cell_type": "code",
   "execution_count": 270,
   "id": "72989777-3eae-4c1d-930f-adaf79addff3",
   "metadata": {},
   "outputs": [
    {
     "data": {
      "image/png": "[encoded data removed]",
      "text/plain": [
       "<Figure size 800x1800 with 6 Axes>"
      ]
     },
     "metadata": {},
     "output_type": "display_data"
    }
   ],
   "source": [
    "import matplotlib.pyplot as plt\n",
    "import numpy as np\n",
    "\n",
    "# Define the list of metrics\n",
    "metrics = ['avg_w_ace', 'avg_w_df', 'avg_w_svpt', 'avg_w_SvGms', 'avg_w_bpSaved', 'avg_w_1stWon']\n",
    "\n",
    "# Initialize subplots\n",
    "fig, axs = plt.subplots(len(metrics), 1, figsize=(8, 18), sharex=True)\n",
    "\n",
    "# Loop through each metric and plot bar chart for each player\n",
    "for i, metric in enumerate(metrics):\n",
    "    metric_values = [result[0][metric] for result in top_players_ops]\n",
    "    x = np.arange(len(top_players))\n",
    "    axs[i].bar(x, metric_values, color='skyblue')\n",
    "    axs[i].set_ylabel(metric)\n",
    "    axs[i].set_title(f'{metric} by Player')\n",
    "    axs[i].set_xticks(x)\n",
    "    axs[i].set_xticklabels(top_players, rotation=45, ha='right')\n",
    "\n",
    "plt.tight_layout()\n",
    "plt.show()\n",
    "\n"
   ]
  },
  {
   "cell_type": "code",
   "execution_count": null,
   "id": "d2f2b6e1-f161-4e03-8ec8-575da365379c",
   "metadata": {},
   "outputs": [],
   "source": []
  }
 ],
 "metadata": {
  "kernelspec": {
   "display_name": "Python 3 (ipykernel)",
   "language": "python",
   "name": "python3"
  },
  "language_info": {
   "codemirror_mode": {
    "name": "ipython",
    "version": 3
   },
   "file_extension": ".py",
   "mimetype": "text/x-python",
   "name": "python",
   "nbconvert_exporter": "python",
   "pygments_lexer": "ipython3",
   "version": "3.11.6"
  }
 },
 "nbformat": 4,
 "nbformat_minor": 5
}
