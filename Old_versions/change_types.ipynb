{
 "cells": [
  {
   "cell_type": "code",
   "execution_count": 13,
   "id": "37e764fd-4f77-4246-97d0-e0f72fc1d378",
   "metadata": {},
   "outputs": [],
   "source": [
    "from pyspark.sql import SparkSession\n",
    "spark = SparkSession.builder.appName('egd').getOrCreate()"
   ]
  },
  {
   "cell_type": "code",
   "execution_count": 14,
   "id": "436a70e8-ce1d-4c9d-8d20-8f1b4d939712",
   "metadata": {},
   "outputs": [],
   "source": [
    "import pyspark.sql.functions as F\n",
    "import os\n",
    "from pyspark.sql.functions import col, lit\n",
    "\n",
    "singles=spark.read.option(\"header\",\"true\").option(\"inferSchema\",\"true\") \\\n",
    ".csv('singles')\n",
    "\n",
    "singles = singles.withColumn(\n",
    "    \"Origem\",  # Replace with your desired column name\n",
    "    lit('Singles')  # Use lit() to create a literal value expression\n",
    ")\n",
    "\n",
    "doubles=spark.read.option(\"header\",\"true\").option(\"inferSchema\",\"true\") \\\n",
    ".csv('doubles')\n",
    "\n",
    "doubles = doubles.withColumn(\n",
    "    \"Origem\",  # Replace with your desired column name\n",
    "    lit('Doubles')  # Use lit() to create a literal value expression\n",
    ")\n",
    "\n",
    "futures=spark.read.option(\"header\",\"true\").option(\"inferSchema\",\"true\") \\\n",
    ".csv('futures')\n",
    "\n",
    "futures = futures.withColumn(\n",
    "    \"Origem\",  # Replace with your desired column name\n",
    "    lit('Futures')  # Use lit() to create a literal value expression\n",
    ")\n",
    "\n",
    "qual_chal = spark.read.option(\"header\",\"true\").option(\"inferSchema\",\"true\") \\\n",
    ".csv('qual_chal')\n",
    "\n",
    "qual_chal = qual_chal.withColumn(\n",
    "    \"Origem\",  # Replace with your desired column name\n",
    "    lit('Qualificacao_Challenger')  # Use lit() to create a literal value expression\n",
    ")\n",
    "\n",
    "amat = spark.read.option(\"header\",\"true\").option(\"inferSchema\",\"true\") \\\n",
    ".csv('atp_matches_amateur.csv')\n",
    "\n",
    "amat = amat.withColumn(\n",
    "    \"Origem\",  # Replace with your desired column name\n",
    "    lit('Amateur')  # Use lit() to create a literal value expression\n",
    ")"
   ]
  },
  {
   "cell_type": "code",
   "execution_count": 15,
   "id": "36f9c4e0-d422-4b6c-92e5-eb151e0b1fd9",
   "metadata": {},
   "outputs": [],
   "source": [
    "matches_completos = singles.unionAll(futures)\n",
    "matches_completos = matches_completos.unionAll(qual_chal)\n",
    "matches_completos=matches_completos.unionAll(amat)"
   ]
  },
  {
   "cell_type": "code",
   "execution_count": 16,
   "id": "47b5f7a5-64d8-4eed-a4cc-db5cd9b3c629",
   "metadata": {},
   "outputs": [],
   "source": [
    "colunas_unicas_doubles = list(set(doubles.columns) - set(matches_completos.columns))\n",
    "\n",
    "for a in colunas_unicas_doubles:\n",
    "    matches_completos = matches_completos.withColumn(\n",
    "    a,  # Replace with your desired column name\n",
    "    lit(None)  # Use lit() to create a literal value expression\n",
    ")"
   ]
  },
  {
   "cell_type": "code",
   "execution_count": 17,
   "id": "1709cea1-d15a-4477-9f09-8161120c15f8",
   "metadata": {},
   "outputs": [],
   "source": [
    "colunas_unicas_matches_completos = list(set(matches_completos.columns) - set(doubles.columns))\n",
    "\n",
    "for a in colunas_unicas_matches_completos:\n",
    "    doubles = doubles.withColumn(\n",
    "    a,  # Replace with your desired column name\n",
    "    lit(None)  # Use lit() to create a literal value expression\n",
    ")"
   ]
  },
  {
   "cell_type": "code",
   "execution_count": 18,
   "id": "14d3958a-0054-4fe9-b690-a3dc438fe952",
   "metadata": {},
   "outputs": [],
   "source": [
    "matches_completos=matches_completos.unionAll(doubles)"
   ]
  },
  {
   "cell_type": "code",
   "execution_count": 19,
   "id": "d19dcc0a-1fe5-4bf0-a831-530c0f634a99",
   "metadata": {},
   "outputs": [
    {
     "data": {
      "text/plain": [
       "82"
      ]
     },
     "execution_count": 19,
     "metadata": {},
     "output_type": "execute_result"
    }
   ],
   "source": [
    "len(matches_completos.columns)"
   ]
  },
  {
   "cell_type": "code",
   "execution_count": 20,
   "id": "4c54cb66-2f6f-418a-8521-2aca171ab817",
   "metadata": {},
   "outputs": [
    {
     "name": "stdout",
     "output_type": "stream",
     "text": [
      "+----------+\n",
      "|tourney_id|\n",
      "+----------+\n",
      "|  1994-339|\n",
      "|  1994-339|\n",
      "|  1994-339|\n",
      "|  1994-339|\n",
      "|  1994-339|\n",
      "|  1994-339|\n",
      "|  1994-339|\n",
      "|  1994-339|\n",
      "|  1994-339|\n",
      "|  1994-339|\n",
      "|  1994-339|\n",
      "|  1994-339|\n",
      "|  1994-339|\n",
      "|  1994-339|\n",
      "|  1994-339|\n",
      "|  1994-339|\n",
      "|  1994-339|\n",
      "|  1994-339|\n",
      "|  1994-339|\n",
      "|  1994-339|\n",
      "+----------+\n",
      "only showing top 20 rows\n",
      "\n"
     ]
    }
   ],
   "source": [
    "matches_completos.select('tourney_id').show()\n",
    "matches=matches_completos"
   ]
  },
  {
   "cell_type": "code",
   "execution_count": 21,
   "id": "2bafaed2-b60f-496d-a36f-920723642a9f",
   "metadata": {},
   "outputs": [],
   "source": [
    "#END HELENA,START LARA"
   ]
  },
  {
   "cell_type": "code",
   "execution_count": 22,
   "id": "1f9b44a0-5197-49c6-878a-13191ce7011b",
   "metadata": {},
   "outputs": [],
   "source": [
    "from pyspark.sql.functions import col\n",
    "# List all columns with the type 'void' and Convert to integer\n",
    "void_columns = [col_name for col_name, data_type in matches.dtypes if data_type == 'void']\n",
    "for col_name in void_columns:\n",
    "    matches = matches.withColumn(col_name, matches[col_name].cast(\"int\"))"
   ]
  },
  {
   "cell_type": "code",
   "execution_count": 23,
   "id": "18b316ad-b9e9-42f2-8b35-833c06fda675",
   "metadata": {},
   "outputs": [],
   "source": [
    "# Convert to integers\n",
    "columns_to_convert = [\"draw_size\", \"loser_id\",\"loser_seed\", \"best_of\", \"minutes\", \"winner_seed\",\n",
    "    \"w_ace\", \"w_df\", \"w_svpt\", \"w_1stIn\", \"w_1stWon\", \"w_2ndWon\", \"w_SvGms\", \"w_bpSaved\", \"w_bpFaced\",\n",
    "    \"l_ace\", \"l_df\", \"l_svpt\", \"l_1stIn\", \"l_1stWon\", \"l_2ndWon\", \"l_SvGms\", \"l_bpSaved\", \"l_bpFaced\",\n",
    "    \"winner_rank\", \"loser_rank\", \"winner_rank_points\", \"loser_rank_points\", \"winner2_hand\"\n",
    "]\n",
    "for column in columns_to_convert:\n",
    "    matches = matches.withColumn(column, col(column).cast(\"integer\"))"
   ]
  },
  {
   "cell_type": "code",
   "execution_count": 24,
   "id": "3e97d4cb-7c12-444c-b9d7-cb8e5ecc7834",
   "metadata": {},
   "outputs": [],
   "source": [
    "from pyspark.sql.functions import to_date\n",
    "matches = matches.withColumn(\"tourney_date\", to_date(matches[\"tourney_date\"].cast(\"string\"), \"yyyyMMdd\"))\n",
    "matches = matches.withColumn(\"winner_age\", matches[\"winner_age\"].cast(\"double\"))"
   ]
  },
  {
   "cell_type": "code",
   "execution_count": null,
   "id": "0a70ee8f-78aa-43a0-bd1b-81f9a7e479ca",
   "metadata": {},
   "outputs": [],
   "source": []
  },
  {
   "cell_type": "code",
   "execution_count": 38,
   "id": "541262d0-7dea-41fe-a1a2-90bdf2ba0bf5",
   "metadata": {
    "scrolled": true
   },
   "outputs": [],
   "source": [
    "from pyspark.sql.functions import split, when, col\n",
    "from pyspark.sql.types import MapType, StringType\n",
    "\n",
    "# Define a função para extrair os valores dos sets\n",
    "def extrair_sets(scores):\n",
    "    sets = scores.split(' ')  \n",
    "    set_values = {}  # Dicionário para armazenar os valores de cada set\n",
    "\n",
    "    for i, set_score in enumerate(sets):\n",
    "        try:\n",
    "            set_values[f\"set_{i+1}\"] = int(set_score)\n",
    "        except ValueError:\n",
    "            set_values[f\"set_{i+1}\"] = set_score\n",
    "\n",
    "    return set_values\n",
    "\n",
    "extrair_sets_udf = F.udf(extrair_sets, MapType(StringType(), StringType()))\n",
    "\n",
    "# nova coluna com os valores dos sets \n",
    "matches = matches.withColumn(\"sets\", extrair_sets_udf(col(\"score\")))\n",
    "for i in range(1, 6):  \n",
    "    matches = matches.withColumn(f\"set_{i}\", when(col(\"sets\").getItem(f\"set_{i}\").isNull(), None).otherwise(col(\"sets\").getItem(f\"set_{i}\")))\n",
    "# Remove a coluna temporária \"sets\"\n",
    "matches = matches.drop(\"sets\")"
   ]
  },
  {
   "cell_type": "code",
   "execution_count": 39,
   "id": "630b1e04-23d5-4dd0-aeef-229c8cedcb92",
   "metadata": {},
   "outputs": [
    {
     "name": "stdout",
     "output_type": "stream",
     "text": [
      "+-----+-----+-----+-----+-----+\n",
      "|set_1|set_2|set_3|set_4|set_5|\n",
      "+-----+-----+-----+-----+-----+\n",
      "|  6-2|  6-2| NULL| NULL| NULL|\n",
      "+-----+-----+-----+-----+-----+\n",
      "only showing top 1 row\n",
      "\n"
     ]
    }
   ],
   "source": [
    "# Selecionar as colunas set_1 até set_5 e exibir as primeiras 5 linhas\n",
    "matches.select(\"set_1\", \"set_2\", \"set_3\", \"set_4\", \"set_5\").show(1)\n"
   ]
  },
  {
   "cell_type": "code",
   "execution_count": 40,
   "id": "0b3274c7-b602-456d-b8f2-7451f4784165",
   "metadata": {},
   "outputs": [
    {
     "name": "stdout",
     "output_type": "stream",
     "text": [
      "+-----+\n",
      "|set_5|\n",
      "+-----+\n",
      "|  6-1|\n",
      "|  8-6|\n",
      "|  6-2|\n",
      "|  6-4|\n",
      "|  6-2|\n",
      "|  8-6|\n",
      "|  6-3|\n",
      "|  RET|\n",
      "|  6-2|\n",
      "|  6-4|\n",
      "+-----+\n",
      "only showing top 10 rows\n",
      "\n"
     ]
    }
   ],
   "source": [
    "# Filtrar as linhas onde o valor da coluna \"set_5\" não é nulo e exibir os valores dessa coluna\n",
    "matches.filter(matches[\"set_5\"].isNotNull()).select(\"set_5\").show(10)"
   ]
  },
  {
   "cell_type": "code",
   "execution_count": null,
   "id": "a611cae3-a294-4a9b-b7eb-378f9d600e0f",
   "metadata": {},
   "outputs": [],
   "source": []
  },
  {
   "cell_type": "code",
   "execution_count": 26,
   "id": "38aa5915-cb14-4b7b-a95a-83ff675ea1a2",
   "metadata": {},
   "outputs": [],
   "source": [
    "matches.write.csv('all.csv', header=True)\n"
   ]
  },
  {
   "cell_type": "code",
   "execution_count": 35,
   "id": "9f0aad58-849e-4d63-acc0-c5d908c81b33",
   "metadata": {},
   "outputs": [
    {
     "name": "stdout",
     "output_type": "stream",
     "text": [
      "root\n",
      " |-- tourney_id: string (nullable = true)\n",
      " |-- tourney_name: string (nullable = true)\n",
      " |-- surface: string (nullable = true)\n",
      " |-- draw_size: integer (nullable = true)\n",
      " |-- tourney_level: string (nullable = true)\n",
      " |-- tourney_date: date (nullable = true)\n",
      " |-- match_num: integer (nullable = true)\n",
      " |-- winner_id: integer (nullable = true)\n",
      " |-- winner_seed: integer (nullable = true)\n",
      " |-- winner_entry: string (nullable = true)\n",
      " |-- winner_name: string (nullable = true)\n",
      " |-- winner_hand: string (nullable = true)\n",
      " |-- winner_ht: integer (nullable = true)\n",
      " |-- winner_ioc: string (nullable = true)\n",
      " |-- winner_age: double (nullable = true)\n",
      " |-- loser_id: integer (nullable = true)\n",
      " |-- loser_seed: integer (nullable = true)\n",
      " |-- loser_entry: string (nullable = true)\n",
      " |-- loser_name: string (nullable = true)\n",
      " |-- loser_hand: string (nullable = true)\n",
      " |-- loser_ht: integer (nullable = true)\n",
      " |-- loser_ioc: string (nullable = true)\n",
      " |-- loser_age: double (nullable = true)\n",
      " |-- score: string (nullable = true)\n",
      " |-- best_of: integer (nullable = true)\n",
      " |-- round: string (nullable = true)\n",
      " |-- minutes: integer (nullable = true)\n",
      " |-- w_ace: integer (nullable = true)\n",
      " |-- w_df: integer (nullable = true)\n",
      " |-- w_svpt: integer (nullable = true)\n",
      " |-- w_1stIn: integer (nullable = true)\n",
      " |-- w_1stWon: integer (nullable = true)\n",
      " |-- w_2ndWon: integer (nullable = true)\n",
      " |-- w_SvGms: integer (nullable = true)\n",
      " |-- w_bpSaved: integer (nullable = true)\n",
      " |-- w_bpFaced: integer (nullable = true)\n",
      " |-- l_ace: integer (nullable = true)\n",
      " |-- l_df: integer (nullable = true)\n",
      " |-- l_svpt: integer (nullable = true)\n",
      " |-- l_1stIn: integer (nullable = true)\n",
      " |-- l_1stWon: integer (nullable = true)\n",
      " |-- l_2ndWon: integer (nullable = true)\n",
      " |-- l_SvGms: integer (nullable = true)\n",
      " |-- l_bpSaved: integer (nullable = true)\n",
      " |-- l_bpFaced: integer (nullable = true)\n",
      " |-- winner_rank: integer (nullable = true)\n",
      " |-- winner_rank_points: integer (nullable = true)\n",
      " |-- loser_rank: integer (nullable = true)\n",
      " |-- loser_rank_points: integer (nullable = true)\n",
      " |-- Origem: string (nullable = true)\n",
      " |-- loser1_id: integer (nullable = true)\n",
      " |-- winner1_hand: integer (nullable = true)\n",
      " |-- winner2_rank: integer (nullable = true)\n",
      " |-- winner2_hand: integer (nullable = true)\n",
      " |-- loser1_rank_points: integer (nullable = true)\n",
      " |-- loser2_id: integer (nullable = true)\n",
      " |-- winner2_age: integer (nullable = true)\n",
      " |-- loser1_hand: integer (nullable = true)\n",
      " |-- winner2_ht: integer (nullable = true)\n",
      " |-- loser2_hand: integer (nullable = true)\n",
      " |-- loser1_ht: integer (nullable = true)\n",
      " |-- winner1_ioc: integer (nullable = true)\n",
      " |-- winner2_rank_points: integer (nullable = true)\n",
      " |-- winner1_name: integer (nullable = true)\n",
      " |-- loser2_rank_points: integer (nullable = true)\n",
      " |-- loser2_name: string (nullable = true)\n",
      " |-- loser2_ioc: integer (nullable = true)\n",
      " |-- winner1_rank: integer (nullable = true)\n",
      " |-- winner2_id: integer (nullable = true)\n",
      " |-- winner1_rank_points: integer (nullable = true)\n",
      " |-- winner2_ioc: integer (nullable = true)\n",
      " |-- loser2_age: integer (nullable = true)\n",
      " |-- loser1_age: integer (nullable = true)\n",
      " |-- loser2_ht: integer (nullable = true)\n",
      " |-- winner1_id: integer (nullable = true)\n",
      " |-- winner1_age: integer (nullable = true)\n",
      " |-- winner1_ht: integer (nullable = true)\n",
      " |-- loser2_rank: integer (nullable = true)\n",
      " |-- loser1_ioc: integer (nullable = true)\n",
      " |-- loser1_rank: integer (nullable = true)\n",
      " |-- loser1_name: integer (nullable = true)\n",
      " |-- winner2_name: integer (nullable = true)\n",
      " |-- set_1: string (nullable = true)\n",
      " |-- set_2: string (nullable = true)\n",
      " |-- set_3: string (nullable = true)\n",
      " |-- set_4: string (nullable = true)\n",
      " |-- set_5: string (nullable = true)\n",
      "\n"
     ]
    }
   ],
   "source": [
    "matches.printSchema()"
   ]
  },
  {
   "cell_type": "code",
   "execution_count": null,
   "id": "80e39753-2ac8-4365-8956-41a47c334242",
   "metadata": {},
   "outputs": [],
   "source": []
  },
  {
   "cell_type": "code",
   "execution_count": 41,
   "id": "c8002eaa-0aa2-4f4c-b4d4-056f43183195",
   "metadata": {},
   "outputs": [
    {
     "name": "stdout",
     "output_type": "stream",
     "text": [
      "+-----------+\n",
      "|loser1_name|\n",
      "+-----------+\n",
      "+-----------+\n",
      "\n"
     ]
    }
   ],
   "source": [
    "#DÙVIDAS:\n",
    "#VERIFICAR PROBLEMA AO CONTAR OS NULLS\n",
    "matches.filter(matches[\"loser1_name\"].isNotNull()).select(\"loser1_name\").show(10)\n",
    "#Não há nada nesta coluna, nunca? tb não deverã haver noutras do mesmo género"
   ]
  },
  {
   "cell_type": "code",
   "execution_count": 43,
   "id": "9d89787f-cb49-477a-80fb-260262d393b2",
   "metadata": {},
   "outputs": [
    {
     "name": "stdout",
     "output_type": "stream",
     "text": [
      "+-----------+\n",
      "|winner1_age|\n",
      "+-----------+\n",
      "+-----------+\n",
      "\n"
     ]
    }
   ],
   "source": [
    "matches.filter(matches[\"winner1_age\"].isNotNull()).select(\"winner1_age\").show(10)"
   ]
  },
  {
   "cell_type": "code",
   "execution_count": null,
   "id": "fc4b8469-79dc-4863-81f5-d93fe4039f44",
   "metadata": {},
   "outputs": [],
   "source": []
  }
 ],
 "metadata": {
  "kernelspec": {
   "display_name": "Python 3 (ipykernel)",
   "language": "python",
   "name": "python3"
  },
  "language_info": {
   "codemirror_mode": {
    "name": "ipython",
    "version": 3
   },
   "file_extension": ".py",
   "mimetype": "text/x-python",
   "name": "python",
   "nbconvert_exporter": "python",
   "pygments_lexer": "ipython3",
   "version": "3.11.6"
  }
 },
 "nbformat": 4,
 "nbformat_minor": 5
}
