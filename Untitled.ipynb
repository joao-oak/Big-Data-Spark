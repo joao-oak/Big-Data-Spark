{
 "cells": [
  {
   "cell_type": "code",
   "execution_count": 1,
   "id": "37e764fd-4f77-4246-97d0-e0f72fc1d378",
   "metadata": {},
   "outputs": [],
   "source": [
    "from pyspark.sql import SparkSession\n",
    "spark = SparkSession.builder.appName('egd').getOrCreate()\n",
    "\n",
    "# read dataset\n",
    "\n",
    "matches_1968 = spark.read.option(\"header\",\"true\").option(\"inferSchema\",\"true\") \\\n",
    ".csv(\"atp_matches_1968.csv\")"
   ]
  },
  {
   "cell_type": "code",
   "execution_count": null,
   "id": "0e7f97ad-0a2e-47bb-b2bf-e54e4c6ec5c0",
   "metadata": {},
   "outputs": [],
   "source": []
  }
 ],
 "metadata": {
  "kernelspec": {
   "display_name": "Python 3 (ipykernel)",
   "language": "python",
   "name": "python3"
  },
  "language_info": {
   "codemirror_mode": {
    "name": "ipython",
    "version": 3
   },
   "file_extension": ".py",
   "mimetype": "text/x-python",
   "name": "python",
   "nbconvert_exporter": "python",
   "pygments_lexer": "ipython3",
   "version": "3.11.6"
  }
 },
 "nbformat": 4,
 "nbformat_minor": 5
}
