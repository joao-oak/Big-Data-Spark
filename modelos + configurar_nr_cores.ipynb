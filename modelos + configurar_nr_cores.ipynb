{
 "cells": [
  {
   "cell_type": "code",
   "execution_count": null,
   "id": "a2e52373-0fbb-428d-99ce-133d55c16427",
   "metadata": {},
   "outputs": [],
   "source": [
    "from pyspark.ml.regression import LogisticRegression\n",
    "from pyspark.ml.evaluation import BinaryClassificationEvaluator\n",
    "from pyspark.ml.classification import DecisionTreeClassifier\n",
    "from pyspark.ml.classification import RandomForestClassifier\n"
   ]
  },
  {
   "cell_type": "code",
   "execution_count": null,
   "id": "1ad6dc36-4460-4cc6-afc2-bee995872898",
   "metadata": {},
   "outputs": [],
   "source": [
    "treino, teste = dataset.randomSplit([0.8, 0.2])\n",
    "\n",
    "#hashing e tokenizer??"
   ]
  },
  {
   "cell_type": "code",
   "execution_count": null,
   "id": "312e2265-47ea-468b-9c51-4eae18fd0f80",
   "metadata": {},
   "outputs": [],
   "source": [
    "#regressão logistica\n",
    "lr = LogisticRegression(maxIter = 10, regParam = 0.001)\n",
    "model = lr.fit(treino)\n",
    "\n",
    "#decision trees\n",
    "dtc = DecisionTreeClassifier(labelCol=\"label\", maxDepth=5)\n",
    "model = dtc.fit(treino)\n",
    "\n",
    "#random forests\n",
    "rf = RandomForestClassifier(labelCol=\"label\", numTrees=100, maxDepth=5)\n",
    "model = rf.fit(treino)\n",
    "\n",
    "prediction = model.transform(teste)\n",
    "result = predicition.collect()\n"
   ]
  },
  {
   "cell_type": "code",
   "execution_count": null,
   "id": "3b6d464c-bf37-46ec-963a-678fd08b77f5",
   "metadata": {},
   "outputs": [],
   "source": [
    "# Evaluate model using BinaryClassificationEvaluator (assuming classification task)\n",
    "evaluator = BinaryClassificationEvaluator(labelCol=\"label\")  # Replace \"label\" with your actual label column name\n",
    "accuracy = evaluator.evaluate(prediction)[\"accuracy\"]\n",
    "print(\"Accuracy:\", accuracy)"
   ]
  },
  {
   "cell_type": "code",
   "execution_count": null,
   "id": "ea8b7cd8-f1be-4e3c-b139-801ccaaabebf",
   "metadata": {},
   "outputs": [],
   "source": [
    "#configurar cores\n",
    "\n",
    "from pyspark.sql import SparkSession\n",
    "\n",
    "conf = SparkConf()\n",
    "conf.set(\"spark.executor.cores\", 4)  # Set executor cores to 4\n",
    "spark = SparkSession.builder \\\n",
    "                    .config(conf=conf) \\\n",
    "                    .appName('tennis') \\\n",
    "                    .getOrCreate()"
   ]
  }
 ],
 "metadata": {
  "kernelspec": {
   "display_name": "Python 3 (ipykernel)",
   "language": "python",
   "name": "python3"
  },
  "language_info": {
   "codemirror_mode": {
    "name": "ipython",
    "version": 3
   },
   "file_extension": ".py",
   "mimetype": "text/x-python",
   "name": "python",
   "nbconvert_exporter": "python",
   "pygments_lexer": "ipython3",
   "version": "3.11.6"
  }
 },
 "nbformat": 4,
 "nbformat_minor": 5
}
