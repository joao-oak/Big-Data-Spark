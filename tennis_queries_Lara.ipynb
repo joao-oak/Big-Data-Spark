{
 "cells": [
  {
   "cell_type": "code",
   "execution_count": 1,
   "id": "9562d4f2-6c58-4836-82fa-c68388c0ad52",
   "metadata": {},
   "outputs": [],
   "source": [
    "from pyspark.sql import SparkSession\n",
    "from pyspark import SparkContext\n",
    "import os\n",
    "from pyspark.sql.functions import col, lit, to_date, split, when, coalesce, count, udf\n",
    "from pyspark.sql.types import MapType, StringType"
   ]
  },
  {
   "cell_type": "code",
   "execution_count": 2,
   "id": "139f6425-5bb5-4007-a4c0-56183f5f9b0a",
   "metadata": {},
   "outputs": [],
   "source": [
    "spark = SparkSession.builder \\\n",
    "                    .appName('tennis') \\\n",
    "                    .getOrCreate()"
   ]
  },
  {
   "cell_type": "code",
   "execution_count": 3,
   "id": "0478b08e-fc73-4388-8995-92454eb45480",
   "metadata": {},
   "outputs": [],
   "source": [
    "folders = [\"singles/\", \"doubles/\", \"futures/\", \"qual_chal/\"]\n",
    "file_columns = []\n",
    "files65 = []\n",
    "files49= []"
   ]
  },
  {
   "cell_type": "code",
   "execution_count": 4,
   "id": "37769baa-d660-4307-9711-6338cfffb026",
   "metadata": {},
   "outputs": [],
   "source": [
    "for folder in folders:\n",
    "    for filename in os.listdir(folder):\n",
    "    \n",
    "        file_path = os.path.join(folder, filename)\n",
    "        \n",
    "        df = spark.read.option(\"header\", \"true\") \\\n",
    "                       .option(\"inferSchema\", \"true\") \\\n",
    "                       .csv(file_path)\n",
    "        \n",
    "        #file_columns.append({filename:df.columns})\n",
    "        file_columns.append(df.columns)\n",
    "        if len(df.columns) == 65:\n",
    "            files65.append(filename)\n",
    "        else:\n",
    "            files49.append(filename)"
   ]
  },
  {
   "cell_type": "code",
   "execution_count": 5,
   "id": "be182335-5fc4-4fd6-a9c6-52bf4d624124",
   "metadata": {
    "scrolled": true
   },
   "outputs": [
    {
     "data": {
      "text/plain": [
       "[['tourney_id',\n",
       "  'tourney_name',\n",
       "  'surface',\n",
       "  'draw_size',\n",
       "  'tourney_level',\n",
       "  'tourney_date',\n",
       "  'match_num',\n",
       "  'winner_id',\n",
       "  'winner_seed',\n",
       "  'winner_entry',\n",
       "  'winner_name',\n",
       "  'winner_hand',\n",
       "  'winner_ht',\n",
       "  'winner_ioc',\n",
       "  'winner_age',\n",
       "  'loser_id',\n",
       "  'loser_seed',\n",
       "  'loser_entry',\n",
       "  'loser_name',\n",
       "  'loser_hand',\n",
       "  'loser_ht',\n",
       "  'loser_ioc',\n",
       "  'loser_age',\n",
       "  'score',\n",
       "  'best_of',\n",
       "  'round',\n",
       "  'minutes',\n",
       "  'w_ace',\n",
       "  'w_df',\n",
       "  'w_svpt',\n",
       "  'w_1stIn',\n",
       "  'w_1stWon',\n",
       "  'w_2ndWon',\n",
       "  'w_SvGms',\n",
       "  'w_bpSaved',\n",
       "  'w_bpFaced',\n",
       "  'l_ace',\n",
       "  'l_df',\n",
       "  'l_svpt',\n",
       "  'l_1stIn',\n",
       "  'l_1stWon',\n",
       "  'l_2ndWon',\n",
       "  'l_SvGms',\n",
       "  'l_bpSaved',\n",
       "  'l_bpFaced',\n",
       "  'winner_rank',\n",
       "  'winner_rank_points',\n",
       "  'loser_rank',\n",
       "  'loser_rank_points'],\n",
       " ['tourney_id',\n",
       "  'tourney_name',\n",
       "  'surface',\n",
       "  'draw_size',\n",
       "  'tourney_level',\n",
       "  'tourney_date',\n",
       "  'match_num',\n",
       "  'winner1_id',\n",
       "  'winner2_id',\n",
       "  'winner_seed',\n",
       "  'winner_entry',\n",
       "  'loser1_id',\n",
       "  'loser2_id',\n",
       "  'loser_seed',\n",
       "  'loser_entry',\n",
       "  'score',\n",
       "  'best_of',\n",
       "  'round',\n",
       "  'winner1_name',\n",
       "  'winner1_hand',\n",
       "  'winner1_ht',\n",
       "  'winner1_ioc',\n",
       "  'winner1_age',\n",
       "  'winner2_name',\n",
       "  'winner2_hand',\n",
       "  'winner2_ht',\n",
       "  'winner2_ioc',\n",
       "  'winner2_age',\n",
       "  'loser1_name',\n",
       "  'loser1_hand',\n",
       "  'loser1_ht',\n",
       "  'loser1_ioc',\n",
       "  'loser1_age',\n",
       "  'loser2_name',\n",
       "  'loser2_hand',\n",
       "  'loser2_ht',\n",
       "  'loser2_ioc',\n",
       "  'loser2_age',\n",
       "  'winner1_rank',\n",
       "  'winner1_rank_points',\n",
       "  'winner2_rank',\n",
       "  'winner2_rank_points',\n",
       "  'loser1_rank',\n",
       "  'loser1_rank_points',\n",
       "  'loser2_rank',\n",
       "  'loser2_rank_points',\n",
       "  'minutes',\n",
       "  'w_ace',\n",
       "  'w_df',\n",
       "  'w_svpt',\n",
       "  'w_1stIn',\n",
       "  'w_1stWon',\n",
       "  'w_2ndWon',\n",
       "  'w_SvGms',\n",
       "  'w_bpSaved',\n",
       "  'w_bpFaced',\n",
       "  'l_ace',\n",
       "  'l_df',\n",
       "  'l_svpt',\n",
       "  'l_1stIn',\n",
       "  'l_1stWon',\n",
       "  'l_2ndWon',\n",
       "  'l_SvGms',\n",
       "  'l_bpSaved',\n",
       "  'l_bpFaced']]"
      ]
     },
     "execution_count": 5,
     "metadata": {},
     "output_type": "execute_result"
    }
   ],
   "source": [
    "# Removing duplicates\n",
    "file_columns = list(set(map(tuple, file_columns)))\n",
    "file_columns = [list(item) for item in file_columns]\n",
    "file_columns"
   ]
  },
  {
   "cell_type": "code",
   "execution_count": 6,
   "id": "bbf18594-a151-4574-a9c6-72efef879e35",
   "metadata": {},
   "outputs": [
    {
     "name": "stdout",
     "output_type": "stream",
     "text": [
      "Number of different column sets: 2\n",
      "Number of columns in the first set: 49\n",
      "Number of columns in the second set: 65\n"
     ]
    }
   ],
   "source": [
    "print(f\"Number of different column sets: {len(file_columns)}\")\n",
    "print(f\"Number of columns in the first set: {len(file_columns[0])}\")\n",
    "print(f\"Number of columns in the second set: {len(file_columns[1])}\")"
   ]
  },
  {
   "cell_type": "code",
   "execution_count": 7,
   "id": "a37ec9b8-a590-4d3a-a68c-f176591090c4",
   "metadata": {},
   "outputs": [],
   "source": [
    "col1 = set(file_columns[0])\n",
    "col2 = set(file_columns[1])\n",
    "diff1 = col1 - col2 # Columns in Doubles files that are not in Singles files\n",
    "diff2 = col2 - col1 # Columns in Singles files that are not in Doubles files\n",
    "# ^ to get both"
   ]
  },
  {
   "cell_type": "code",
   "execution_count": 8,
   "id": "bb36de00-65f8-4912-8e69-dc43d9258c98",
   "metadata": {},
   "outputs": [
    {
     "data": {
      "text/plain": [
       "{'loser_age',\n",
       " 'loser_hand',\n",
       " 'loser_ht',\n",
       " 'loser_id',\n",
       " 'loser_ioc',\n",
       " 'loser_name',\n",
       " 'loser_rank',\n",
       " 'loser_rank_points',\n",
       " 'winner_age',\n",
       " 'winner_hand',\n",
       " 'winner_ht',\n",
       " 'winner_id',\n",
       " 'winner_ioc',\n",
       " 'winner_name',\n",
       " 'winner_rank',\n",
       " 'winner_rank_points'}"
      ]
     },
     "execution_count": 8,
     "metadata": {},
     "output_type": "execute_result"
    }
   ],
   "source": [
    "diff1"
   ]
  },
  {
   "cell_type": "code",
   "execution_count": 9,
   "id": "474e98ef-8e47-4ea0-b95d-cc1c65a36723",
   "metadata": {},
   "outputs": [
    {
     "data": {
      "text/plain": [
       "{'loser1_age',\n",
       " 'loser1_hand',\n",
       " 'loser1_ht',\n",
       " 'loser1_id',\n",
       " 'loser1_ioc',\n",
       " 'loser1_name',\n",
       " 'loser1_rank',\n",
       " 'loser1_rank_points',\n",
       " 'loser2_age',\n",
       " 'loser2_hand',\n",
       " 'loser2_ht',\n",
       " 'loser2_id',\n",
       " 'loser2_ioc',\n",
       " 'loser2_name',\n",
       " 'loser2_rank',\n",
       " 'loser2_rank_points',\n",
       " 'winner1_age',\n",
       " 'winner1_hand',\n",
       " 'winner1_ht',\n",
       " 'winner1_id',\n",
       " 'winner1_ioc',\n",
       " 'winner1_name',\n",
       " 'winner1_rank',\n",
       " 'winner1_rank_points',\n",
       " 'winner2_age',\n",
       " 'winner2_hand',\n",
       " 'winner2_ht',\n",
       " 'winner2_id',\n",
       " 'winner2_ioc',\n",
       " 'winner2_name',\n",
       " 'winner2_rank',\n",
       " 'winner2_rank_points'}"
      ]
     },
     "execution_count": 9,
     "metadata": {},
     "output_type": "execute_result"
    }
   ],
   "source": [
    "diff2"
   ]
  },
  {
   "cell_type": "code",
   "execution_count": 10,
   "id": "a5193b4a-2932-4a42-90c0-ace8e24fa1a7",
   "metadata": {
    "scrolled": true
   },
   "outputs": [
    {
     "data": {
      "text/plain": [
       "['atp_matches_doubles_2010.csv',\n",
       " 'atp_matches_doubles_2012.csv',\n",
       " 'atp_matches_doubles_2016.csv',\n",
       " 'atp_matches_doubles_2003.csv',\n",
       " 'atp_matches_doubles_2000.csv',\n",
       " 'atp_matches_doubles_2008.csv',\n",
       " 'atp_matches_doubles_2018.csv',\n",
       " 'atp_matches_doubles_2004.csv',\n",
       " 'atp_matches_doubles_2002.csv',\n",
       " 'atp_matches_doubles_2001.csv',\n",
       " 'atp_matches_doubles_2005.csv',\n",
       " 'atp_matches_doubles_2006.csv',\n",
       " 'atp_matches_doubles_2007.csv',\n",
       " 'atp_matches_doubles_2020.csv',\n",
       " 'atp_matches_doubles_2013.csv',\n",
       " 'atp_matches_doubles_2019.csv',\n",
       " 'atp_matches_doubles_2017.csv',\n",
       " 'atp_matches_doubles_2014.csv',\n",
       " 'atp_matches_doubles_2015.csv',\n",
       " 'atp_matches_doubles_2011.csv',\n",
       " 'atp_matches_doubles_2009.csv']"
      ]
     },
     "execution_count": 10,
     "metadata": {},
     "output_type": "execute_result"
    }
   ],
   "source": [
    "# Files with 65 columns\n",
    "files65"
   ]
  },
  {
   "cell_type": "code",
   "execution_count": 11,
   "id": "a9d786cc-822a-4da0-87a3-f4f847f6cea0",
   "metadata": {
    "scrolled": true
   },
   "outputs": [
    {
     "data": {
      "text/plain": [
       "['atp_matches_1978.csv',\n",
       " 'atp_matches_1998.csv',\n",
       " 'atp_matches_1980.csv',\n",
       " 'atp_matches_1996.csv',\n",
       " 'atp_matches_2022.csv',\n",
       " 'atp_matches_1997.csv',\n",
       " 'atp_matches_1989.csv',\n",
       " 'atp_matches_2007.csv',\n",
       " 'atp_matches_2003.csv',\n",
       " 'atp_matches_1972.csv',\n",
       " 'atp_matches_2005.csv',\n",
       " 'atp_matches_1971.csv',\n",
       " 'atp_matches_1976.csv',\n",
       " 'atp_matches_1992.csv',\n",
       " 'atp_matches_2021.csv',\n",
       " 'atp_matches_1968.csv',\n",
       " 'atp_matches_1979.csv',\n",
       " 'atp_matches_2009.csv',\n",
       " 'atp_matches_1983.csv',\n",
       " 'atp_matches_1995.csv',\n",
       " 'atp_matches_1977.csv',\n",
       " 'atp_matches_2002.csv',\n",
       " 'atp_matches_2016.csv',\n",
       " 'atp_matches_1981.csv',\n",
       " 'atp_matches_2011.csv',\n",
       " 'atp_matches_2018.csv',\n",
       " 'atp_matches_2020.csv',\n",
       " 'atp_matches_1994.csv',\n",
       " 'atp_matches_1970.csv',\n",
       " 'atp_matches_2019.csv',\n",
       " 'atp_matches_2013.csv',\n",
       " 'atp_matches_1973.csv',\n",
       " 'atp_matches_1988.csv',\n",
       " 'atp_matches_2010.csv',\n",
       " 'atp_matches_1982.csv',\n",
       " 'atp_matches_2012.csv',\n",
       " 'atp_matches_2008.csv',\n",
       " 'atp_matches_2017.csv',\n",
       " 'atp_matches_1984.csv',\n",
       " 'atp_matches_1999.csv',\n",
       " 'atp_matches_1985.csv',\n",
       " 'atp_matches_1986.csv',\n",
       " 'atp_matches_1974.csv',\n",
       " 'atp_matches_2001.csv',\n",
       " 'atp_matches_1969.csv',\n",
       " 'atp_matches_1993.csv',\n",
       " 'atp_matches_1975.csv',\n",
       " 'atp_matches_2015.csv',\n",
       " 'atp_matches_1987.csv',\n",
       " 'atp_matches_1990.csv',\n",
       " 'atp_matches_2014.csv',\n",
       " 'atp_matches_2004.csv',\n",
       " 'atp_matches_2006.csv',\n",
       " 'atp_matches_2000.csv',\n",
       " 'atp_matches_2023.csv',\n",
       " 'atp_matches_1991.csv',\n",
       " 'atp_matches_futures_1996.csv',\n",
       " 'atp_matches_futures_1998.csv',\n",
       " 'atp_matches_futures_1992.csv',\n",
       " 'atp_matches_futures_2013.csv',\n",
       " 'atp_matches_futures_2012.csv',\n",
       " 'atp_matches_futures_2016.csv',\n",
       " 'atp_matches_futures_2017.csv',\n",
       " 'atp_matches_futures_2014.csv',\n",
       " 'atp_matches_futures_2015.csv',\n",
       " 'atp_matches_futures_2005.csv',\n",
       " 'atp_matches_futures_2020.csv',\n",
       " 'atp_matches_futures_2010.csv',\n",
       " 'atp_matches_futures_2023.csv',\n",
       " 'atp_matches_futures_2007.csv',\n",
       " 'atp_matches_futures_2021.csv',\n",
       " 'atp_matches_futures_2006.csv',\n",
       " 'atp_matches_futures_1993.csv',\n",
       " 'atp_matches_futures_2003.csv',\n",
       " 'atp_matches_futures_1999.csv',\n",
       " 'atp_matches_futures_1991.csv',\n",
       " 'atp_matches_futures_2022.csv',\n",
       " 'atp_matches_futures_2002.csv',\n",
       " 'atp_matches_futures_2008.csv',\n",
       " 'atp_matches_futures_2018.csv',\n",
       " 'atp_matches_futures_1997.csv',\n",
       " 'atp_matches_futures_1994.csv',\n",
       " 'atp_matches_futures_2004.csv',\n",
       " 'atp_matches_futures_1995.csv',\n",
       " 'atp_matches_futures_2000.csv',\n",
       " 'atp_matches_futures_2011.csv',\n",
       " 'atp_matches_futures_2019.csv',\n",
       " 'atp_matches_futures_2001.csv',\n",
       " 'atp_matches_futures_2009.csv',\n",
       " 'atp_matches_qual_chall_2010.csv',\n",
       " 'atp_matches_qual_chall_1988.csv',\n",
       " 'atp_matches_qual_chall_1989.csv',\n",
       " 'atp_matches_qual_chall_2020.csv',\n",
       " 'atp_matches_qual_chall_2011.csv',\n",
       " 'atp_matches_qual_chall_2019.csv',\n",
       " 'atp_matches_qual_chall_1995.csv',\n",
       " 'atp_matches_qual_chall_2015.csv',\n",
       " 'atp_matches_qual_chall_1996.csv',\n",
       " 'atp_matches_qual_chall_2017.csv',\n",
       " 'atp_matches_qual_chall_2021.csv',\n",
       " 'atp_matches_qual_chall_1990.csv',\n",
       " 'atp_matches_qual_chall_1979.csv',\n",
       " 'atp_matches_qual_chall_1987.csv',\n",
       " 'atp_matches_qual_chall_1981.csv',\n",
       " 'atp_matches_qual_chall_1985.csv',\n",
       " 'atp_matches_qual_chall_2005.csv',\n",
       " 'atp_matches_qual_chall_2012.csv',\n",
       " 'atp_matches_qual_chall_1984.csv',\n",
       " 'atp_matches_qual_chall_1991.csv',\n",
       " 'atp_matches_qual_chall_1994.csv',\n",
       " 'atp_matches_qual_chall_2018.csv',\n",
       " 'atp_matches_qual_chall_2001.csv',\n",
       " 'atp_matches_qual_chall_1997.csv',\n",
       " 'atp_matches_qual_chall_2008.csv',\n",
       " 'atp_matches_qual_chall_2000.csv',\n",
       " 'atp_matches_qual_chall_1986.csv',\n",
       " 'atp_matches_qual_chall_2003.csv',\n",
       " 'atp_matches_qual_chall_1980.csv',\n",
       " 'atp_matches_qual_chall_1992.csv',\n",
       " 'atp_matches_qual_chall_1983.csv',\n",
       " 'atp_matches_qual_chall_1998.csv',\n",
       " 'atp_matches_qual_chall_2007.csv',\n",
       " 'atp_matches_qual_chall_2022.csv',\n",
       " 'atp_matches_qual_chall_2004.csv',\n",
       " 'atp_matches_qual_chall_1978.csv',\n",
       " 'atp_matches_qual_chall_2023.csv',\n",
       " 'atp_matches_qual_chall_2014.csv',\n",
       " 'atp_matches_qual_chall_1993.csv',\n",
       " 'atp_matches_qual_chall_2002.csv',\n",
       " 'atp_matches_qual_chall_2016.csv',\n",
       " 'atp_matches_qual_chall_2006.csv',\n",
       " 'atp_matches_qual_chall_2009.csv',\n",
       " 'atp_matches_qual_chall_1982.csv',\n",
       " 'atp_matches_qual_chall_2013.csv',\n",
       " 'atp_matches_qual_chall_1999.csv']"
      ]
     },
     "execution_count": 11,
     "metadata": {},
     "output_type": "execute_result"
    }
   ],
   "source": [
    "# Files with 49 columns\n",
    "files49"
   ]
  },
  {
   "cell_type": "code",
   "execution_count": 12,
   "id": "f25fcb8d-4189-46a1-b482-bf46d2fc9d99",
   "metadata": {},
   "outputs": [],
   "source": [
    "#HELENA"
   ]
  },
  {
   "cell_type": "code",
   "execution_count": 13,
   "id": "89b0ae24-e488-4832-a462-7375249dea00",
   "metadata": {},
   "outputs": [],
   "source": [
    "singles=spark.read.option(\"header\",\"true\").option(\"inferSchema\",\"true\") \\\n",
    ".csv('singles')\n",
    "\n",
    "singles = singles.withColumn(\n",
    "    \"Origin\",\n",
    "    lit('Singles')\n",
    ")\n",
    "\n",
    "doubles=spark.read.option(\"header\",\"true\").option(\"inferSchema\",\"true\") \\\n",
    ".csv('doubles')\n",
    "\n",
    "doubles = doubles.withColumn(\n",
    "    \"Origin\",\n",
    "    lit('Doubles')\n",
    ")\n",
    "\n",
    "futures=spark.read.option(\"header\",\"true\").option(\"inferSchema\",\"true\") \\\n",
    ".csv('futures')\n",
    "\n",
    "futures = futures.withColumn(\n",
    "    \"Origin\",\n",
    "    lit('Futures')\n",
    ")\n",
    "\n",
    "qual_chal = spark.read.option(\"header\",\"true\").option(\"inferSchema\",\"true\") \\\n",
    ".csv('qual_chal')\n",
    "\n",
    "qual_chal = qual_chal.withColumn(\n",
    "    \"Origin\",\n",
    "    lit('Qualificacao_Challenger')\n",
    ")\n",
    "\n",
    "amat = spark.read.option(\"header\",\"true\").option(\"inferSchema\",\"true\") \\\n",
    ".csv('atp_matches_amateur.csv')\n",
    "\n",
    "amat = amat.withColumn(\n",
    "    \"Origin\",\n",
    "    lit('Amateur')\n",
    ")"
   ]
  },
  {
   "cell_type": "code",
   "execution_count": 66,
   "id": "96676bf3-0654-4cc5-bb07-b130b8c5420a",
   "metadata": {},
   "outputs": [],
   "source": [
    "matches_completos = singles.unionAll(futures)\n",
    "matches_completos = matches_completos.unionAll(qual_chal)\n",
    "matches_completos=matches_completos.unionAll(amat)"
   ]
  },
  {
   "cell_type": "code",
   "execution_count": 67,
   "id": "7b8a8446-8449-4619-b378-a45758d831f9",
   "metadata": {},
   "outputs": [],
   "source": [
    "colunas_unicas_doubles = list(set(doubles.columns) - set(matches_completos.columns))\n",
    "\n",
    "for a in colunas_unicas_doubles:\n",
    "    matches_completos = matches_completos.withColumn(\n",
    "    a,\n",
    "    lit(None)\n",
    ")\n",
    "\n",
    "sorted_columns = sorted(matches_completos.columns)\n",
    "matches_completos = matches_completos.select(*sorted_columns)"
   ]
  },
  {
   "cell_type": "code",
   "execution_count": 68,
   "id": "f20495fe-1060-49d8-a35f-d3ce9061b861",
   "metadata": {},
   "outputs": [],
   "source": [
    "colunas_unicas_matches_completos = list(set(matches_completos.columns) - set(doubles.columns))\n",
    "\n",
    "for a in colunas_unicas_matches_completos:\n",
    "    doubles = doubles.withColumn(\n",
    "    a,\n",
    "    lit(None)\n",
    ")"
   ]
  },
  {
   "cell_type": "code",
   "execution_count": 69,
   "id": "a73622bd-2319-4f1c-b34d-52a2918368b4",
   "metadata": {},
   "outputs": [],
   "source": [
    "sorted_columns = sorted(doubles.columns)\n",
    "doubles = doubles.select(*sorted_columns)\n",
    "matches_completos=matches_completos.unionAll(doubles)"
   ]
  },
  {
   "cell_type": "code",
   "execution_count": 70,
   "id": "bb1f1cef-e1a6-425a-a750-f108cb8169d5",
   "metadata": {},
   "outputs": [
    {
     "data": {
      "text/plain": [
       "82"
      ]
     },
     "execution_count": 70,
     "metadata": {},
     "output_type": "execute_result"
    }
   ],
   "source": [
    "len(matches_completos.columns)"
   ]
  },
  {
   "cell_type": "code",
   "execution_count": 71,
   "id": "1f72459f-e25f-48da-8a89-b6ee3d64641e",
   "metadata": {},
   "outputs": [
    {
     "name": "stdout",
     "output_type": "stream",
     "text": [
      "+----------+\n",
      "|tourney_id|\n",
      "+----------+\n",
      "|  1994-339|\n",
      "|  1994-339|\n",
      "|  1994-339|\n",
      "|  1994-339|\n",
      "|  1994-339|\n",
      "|  1994-339|\n",
      "|  1994-339|\n",
      "|  1994-339|\n",
      "|  1994-339|\n",
      "|  1994-339|\n",
      "|  1994-339|\n",
      "|  1994-339|\n",
      "|  1994-339|\n",
      "|  1994-339|\n",
      "|  1994-339|\n",
      "|  1994-339|\n",
      "|  1994-339|\n",
      "|  1994-339|\n",
      "|  1994-339|\n",
      "|  1994-339|\n",
      "+----------+\n",
      "only showing top 20 rows\n",
      "\n"
     ]
    }
   ],
   "source": [
    "matches_completos.select('tourney_id').show()\n",
    "matches=matches_completos"
   ]
  },
  {
   "cell_type": "code",
   "execution_count": 72,
   "id": "5a73989f-311f-46e1-8c8e-18545e1c9865",
   "metadata": {},
   "outputs": [],
   "source": [
    "#LARA"
   ]
  },
  {
   "cell_type": "code",
   "execution_count": 73,
   "id": "b3393aee-41fe-4d7b-b10a-ac56859324f6",
   "metadata": {},
   "outputs": [],
   "source": [
    "# Listing all columns with the type 'void' and converting to int\n",
    "void_columns = [col_name for col_name, data_type in matches.dtypes if data_type == 'void']\n",
    "for col_name in void_columns:\n",
    "    matches = matches.withColumn(col_name, matches[col_name].cast(\"int\"))"
   ]
  },
  {
   "cell_type": "code",
   "execution_count": 74,
   "id": "0fecb2f2-1ade-4200-94cf-6c3b9393c7e5",
   "metadata": {},
   "outputs": [],
   "source": [
    "# Converting to int\n",
    "columns_to_convert = [\"draw_size\", \"loser_id\",\"loser_seed\", \"best_of\", \"minutes\", \"winner_seed\",\n",
    "    \"w_ace\", \"w_df\", \"w_svpt\", \"w_1stIn\", \"w_1stWon\", \"w_2ndWon\", \"w_SvGms\", \"w_bpSaved\", \"w_bpFaced\",\n",
    "    \"l_ace\", \"l_df\", \"l_svpt\", \"l_1stIn\", \"l_1stWon\", \"l_2ndWon\", \"l_SvGms\", \"l_bpSaved\", \"l_bpFaced\",\n",
    "    \"winner_rank\", \"loser_rank\", \"winner_rank_points\", \"loser_rank_points\", \"winner2_hand\"\n",
    "]\n",
    "for column in columns_to_convert:\n",
    "    matches = matches.withColumn(column, col(column).cast(\"integer\"))"
   ]
  },
  {
   "cell_type": "code",
   "execution_count": 75,
   "id": "6ebc5ab1-2978-4df8-9344-94d7ecf8e197",
   "metadata": {},
   "outputs": [],
   "source": [
    "matches = matches.withColumn(\"tourney_date\", to_date(matches[\"tourney_date\"].cast(\"string\"), \"yyyyMMdd\"))\n",
    "matches = matches.withColumn(\"winner_age\", matches[\"winner_age\"].cast(\"double\"))"
   ]
  },
  {
   "cell_type": "code",
   "execution_count": 76,
   "id": "ff5dc3c7-12ff-4b5c-beec-9d6b3f73a480",
   "metadata": {},
   "outputs": [],
   "source": [
    "# Function to get scores for each set\n",
    "def extrair_sets(scores):\n",
    "    if scores:\n",
    "        sets = scores.split(' ')\n",
    "    else:\n",
    "        sets = []\n",
    "    set_values = {}\n",
    "\n",
    "    if sets:\n",
    "        for i, set_score in enumerate(sets):\n",
    "            try:\n",
    "                set_values[f\"set_{i+1}\"] = int(set_score)\n",
    "            except ValueError:\n",
    "                set_values[f\"set_{i+1}\"] = set_score\n",
    "\n",
    "    return set_values\n",
    "\n",
    "extrair_sets_udf = udf(extrair_sets, MapType(StringType(), StringType()))\n",
    "\n",
    "# New column with the scores for each set\n",
    "matches = matches.withColumn(\"sets\", extrair_sets_udf(col(\"score\")))\n",
    "for i in range(1, 6):  \n",
    "    matches = matches.withColumn(f\"set_{i}\", when(col(\"sets\").getItem(f\"set_{i}\").isNull(), None).otherwise(col(\"sets\").getItem(f\"set_{i}\")))\n",
    "\n",
    "matches = matches.drop(\"sets\")"
   ]
  },
  {
   "cell_type": "code",
   "execution_count": 197,
   "id": "674d9c93-9a5b-4199-a17a-7c478fd9a3b3",
   "metadata": {},
   "outputs": [
    {
     "name": "stdout",
     "output_type": "stream",
     "text": [
      "+------+------+------+-----+-----+\n",
      "| set_1| set_2| set_3|set_4|set_5|\n",
      "+------+------+------+-----+-----+\n",
      "|   6-2|   6-2|  NULL| NULL| NULL|\n",
      "|   6-3|   4-6|   6-2| NULL| NULL|\n",
      "|   6-4|   6-3|  NULL| NULL| NULL|\n",
      "|   6-3|   6-2|  NULL| NULL| NULL|\n",
      "|   6-4|   6-2|  NULL| NULL| NULL|\n",
      "|   4-6|   6-1|   6-3| NULL| NULL|\n",
      "|6-7(3)|   6-3|   6-4| NULL| NULL|\n",
      "|   6-4|   6-4|  NULL| NULL| NULL|\n",
      "|   6-2|   7-5|  NULL| NULL| NULL|\n",
      "|   6-2|7-6(2)|  NULL| NULL| NULL|\n",
      "|   6-1|   6-4|  NULL| NULL| NULL|\n",
      "|   6-4|   6-2|  NULL| NULL| NULL|\n",
      "|   6-3|   4-6|   6-2| NULL| NULL|\n",
      "|   6-3|7-6(6)|  NULL| NULL| NULL|\n",
      "|   6-4|   6-4|  NULL| NULL| NULL|\n",
      "|7-6(4)|   6-3|  NULL| NULL| NULL|\n",
      "|7-6(3)|   4-6|   6-4| NULL| NULL|\n",
      "|   4-6|   6-2|7-6(2)| NULL| NULL|\n",
      "|   6-4|   6-1|  NULL| NULL| NULL|\n",
      "|   6-4|   6-2|  NULL| NULL| NULL|\n",
      "|   6-3|   3-6|   6-3| NULL| NULL|\n",
      "|   6-3|   3-6|   6-4| NULL| NULL|\n",
      "|6-7(5)|   6-3|   6-4| NULL| NULL|\n",
      "|7-6(2)|   6-3|  NULL| NULL| NULL|\n",
      "|   3-6|   6-3|7-6(5)| NULL| NULL|\n",
      "|   5-7|   6-3|   7-5| NULL| NULL|\n",
      "|   7-5|   6-0|  NULL| NULL| NULL|\n",
      "|7-6(5)|   6-3|  NULL| NULL| NULL|\n",
      "|   6-1|   7-5|  NULL| NULL| NULL|\n",
      "|   4-6|   6-3|   6-3| NULL| NULL|\n",
      "|   6-4|   6-3|  NULL| NULL| NULL|\n",
      "|   3-6|   6-2|   6-4| NULL| NULL|\n",
      "|7-6(6)|   4-6|   6-1| NULL| NULL|\n",
      "|   6-4|   7-5|  NULL| NULL| NULL|\n",
      "|7-6(6)|   5-7|   6-2| NULL| NULL|\n",
      "|   6-4|   0-6|   6-4| NULL| NULL|\n",
      "|   3-6|   6-3|   6-3| NULL| NULL|\n",
      "|7-6(2)|   6-2|  NULL| NULL| NULL|\n",
      "|   6-4|   6-2|  NULL| NULL| NULL|\n",
      "|   6-3|7-6(3)|  NULL| NULL| NULL|\n",
      "|   6-3|   6-2|  NULL| NULL| NULL|\n",
      "|   6-4|7-6(5)|  NULL| NULL| NULL|\n",
      "|   6-1|   6-4|  NULL| NULL| NULL|\n",
      "|   6-1|   3-6|   6-4| NULL| NULL|\n",
      "|7-6(4)|   6-1|  NULL| NULL| NULL|\n",
      "|   6-2|   6-4|  NULL| NULL| NULL|\n",
      "|   6-2|   6-1|  NULL| NULL| NULL|\n",
      "|   6-4|6-7(5)|   6-3| NULL| NULL|\n",
      "|   7-5|   6-2|  NULL| NULL| NULL|\n",
      "|7-6(1)|6-7(9)|   6-2| NULL| NULL|\n",
      "+------+------+------+-----+-----+\n",
      "only showing top 50 rows\n",
      "\n"
     ]
    }
   ],
   "source": [
    "matches.select(\"set_1\", \"set_2\", \"set_3\", \"set_4\", \"set_5\").show(50)"
   ]
  },
  {
   "cell_type": "code",
   "execution_count": 78,
   "id": "4fb1d000-c06d-4918-b9d3-68b467d84e01",
   "metadata": {},
   "outputs": [
    {
     "name": "stdout",
     "output_type": "stream",
     "text": [
      "+-----+\n",
      "|set_5|\n",
      "+-----+\n",
      "|  6-1|\n",
      "|  8-6|\n",
      "|  6-2|\n",
      "|  6-4|\n",
      "|  6-2|\n",
      "|  8-6|\n",
      "|  6-3|\n",
      "|  RET|\n",
      "|  6-2|\n",
      "|  6-4|\n",
      "+-----+\n",
      "only showing top 10 rows\n",
      "\n"
     ]
    }
   ],
   "source": [
    "matches.filter(matches[\"set_5\"].isNotNull()).select(\"set_5\").show(10)"
   ]
  },
  {
   "cell_type": "code",
   "execution_count": 79,
   "id": "4e41cf85-4441-4c6a-9c30-9b8665045bea",
   "metadata": {
    "scrolled": true
   },
   "outputs": [
    {
     "name": "stdout",
     "output_type": "stream",
     "text": [
      "root\n",
      " |-- Origin: string (nullable = false)\n",
      " |-- best_of: integer (nullable = true)\n",
      " |-- draw_size: integer (nullable = true)\n",
      " |-- l_1stIn: integer (nullable = true)\n",
      " |-- l_1stWon: integer (nullable = true)\n",
      " |-- l_2ndWon: integer (nullable = true)\n",
      " |-- l_SvGms: integer (nullable = true)\n",
      " |-- l_ace: integer (nullable = true)\n",
      " |-- l_bpFaced: integer (nullable = true)\n",
      " |-- l_bpSaved: integer (nullable = true)\n",
      " |-- l_df: integer (nullable = true)\n",
      " |-- l_svpt: integer (nullable = true)\n",
      " |-- loser1_age: double (nullable = true)\n",
      " |-- loser1_hand: string (nullable = true)\n",
      " |-- loser1_ht: integer (nullable = true)\n",
      " |-- loser1_id: integer (nullable = true)\n",
      " |-- loser1_ioc: string (nullable = true)\n",
      " |-- loser1_name: string (nullable = true)\n",
      " |-- loser1_rank: integer (nullable = true)\n",
      " |-- loser1_rank_points: integer (nullable = true)\n",
      " |-- loser2_age: double (nullable = true)\n",
      " |-- loser2_hand: string (nullable = true)\n",
      " |-- loser2_ht: integer (nullable = true)\n",
      " |-- loser2_id: integer (nullable = true)\n",
      " |-- loser2_ioc: string (nullable = true)\n",
      " |-- loser2_name: string (nullable = true)\n",
      " |-- loser2_rank: integer (nullable = true)\n",
      " |-- loser2_rank_points: integer (nullable = true)\n",
      " |-- loser_age: double (nullable = true)\n",
      " |-- loser_entry: string (nullable = true)\n",
      " |-- loser_hand: string (nullable = true)\n",
      " |-- loser_ht: integer (nullable = true)\n",
      " |-- loser_id: integer (nullable = true)\n",
      " |-- loser_ioc: string (nullable = true)\n",
      " |-- loser_name: string (nullable = true)\n",
      " |-- loser_rank: integer (nullable = true)\n",
      " |-- loser_rank_points: integer (nullable = true)\n",
      " |-- loser_seed: integer (nullable = true)\n",
      " |-- match_num: integer (nullable = true)\n",
      " |-- minutes: integer (nullable = true)\n",
      " |-- round: string (nullable = true)\n",
      " |-- score: string (nullable = true)\n",
      " |-- surface: string (nullable = true)\n",
      " |-- tourney_date: date (nullable = true)\n",
      " |-- tourney_id: string (nullable = true)\n",
      " |-- tourney_level: string (nullable = true)\n",
      " |-- tourney_name: string (nullable = true)\n",
      " |-- w_1stIn: integer (nullable = true)\n",
      " |-- w_1stWon: integer (nullable = true)\n",
      " |-- w_2ndWon: integer (nullable = true)\n",
      " |-- w_SvGms: integer (nullable = true)\n",
      " |-- w_ace: integer (nullable = true)\n",
      " |-- w_bpFaced: integer (nullable = true)\n",
      " |-- w_bpSaved: integer (nullable = true)\n",
      " |-- w_df: integer (nullable = true)\n",
      " |-- w_svpt: integer (nullable = true)\n",
      " |-- winner1_age: double (nullable = true)\n",
      " |-- winner1_hand: string (nullable = true)\n",
      " |-- winner1_ht: integer (nullable = true)\n",
      " |-- winner1_id: integer (nullable = true)\n",
      " |-- winner1_ioc: string (nullable = true)\n",
      " |-- winner1_name: string (nullable = true)\n",
      " |-- winner1_rank: integer (nullable = true)\n",
      " |-- winner1_rank_points: integer (nullable = true)\n",
      " |-- winner2_age: double (nullable = true)\n",
      " |-- winner2_hand: integer (nullable = true)\n",
      " |-- winner2_ht: integer (nullable = true)\n",
      " |-- winner2_id: integer (nullable = true)\n",
      " |-- winner2_ioc: string (nullable = true)\n",
      " |-- winner2_name: string (nullable = true)\n",
      " |-- winner2_rank: integer (nullable = true)\n",
      " |-- winner2_rank_points: integer (nullable = true)\n",
      " |-- winner_age: double (nullable = true)\n",
      " |-- winner_entry: string (nullable = true)\n",
      " |-- winner_hand: string (nullable = true)\n",
      " |-- winner_ht: integer (nullable = true)\n",
      " |-- winner_id: integer (nullable = true)\n",
      " |-- winner_ioc: string (nullable = true)\n",
      " |-- winner_name: string (nullable = true)\n",
      " |-- winner_rank: integer (nullable = true)\n",
      " |-- winner_rank_points: integer (nullable = true)\n",
      " |-- winner_seed: integer (nullable = true)\n",
      " |-- set_1: string (nullable = true)\n",
      " |-- set_2: string (nullable = true)\n",
      " |-- set_3: string (nullable = true)\n",
      " |-- set_4: string (nullable = true)\n",
      " |-- set_5: string (nullable = true)\n",
      "\n"
     ]
    }
   ],
   "source": [
    "matches.printSchema()"
   ]
  },
  {
   "cell_type": "code",
   "execution_count": null,
   "id": "d75d96ea-d173-4502-a5f5-24e4dea55ca8",
   "metadata": {},
   "outputs": [],
   "source": []
  },
  {
   "cell_type": "code",
   "execution_count": 80,
   "id": "27ff7afb-c1cc-4837-b86c-b15137dc56ee",
   "metadata": {},
   "outputs": [],
   "source": [
    "doubles_columns = ['winner1_age', 'winner1_hand', 'winner1_ht', 'winner1_id', 'winner1_ioc', 'winner1_name', 'winner1_rank', 'winner1_rank_points', 'loser1_age', 'loser1_hand', 'loser1_ht', 'loser1_id', 'loser1_ioc', 'loser1_name', 'loser1_rank', 'loser1_rank_points']\n",
    "singles_columns = ['winner_age', 'winner_hand', 'winner_ht', 'winner_id', 'winner_ioc', 'winner_name', 'winner_rank', 'winner_rank_points', 'loser_age', 'loser_hand', 'loser_ht', 'loser_id', 'loser_ioc', 'loser_name', 'loser_rank', 'loser_rank_points']"
   ]
  },
  {
   "cell_type": "code",
   "execution_count": 81,
   "id": "6f5dbacf-1b42-48bf-9ef4-1852a1bc33c1",
   "metadata": {},
   "outputs": [],
   "source": [
    "# Transferring the records in singles-related columns to doubles-related columns\n",
    "for i in range(len(doubles_columns)):\n",
    "    matches = matches.withColumn(f\"{doubles_columns[i]}\", coalesce(matches[f\"{singles_columns[i]}\"], matches[f\"{doubles_columns[i]}\"]))"
   ]
  },
  {
   "cell_type": "code",
   "execution_count": 82,
   "id": "eb82f873-a1b1-40dc-a2ca-886128842ae7",
   "metadata": {},
   "outputs": [],
   "source": [
    "# Dropping the columns not needed\n",
    "matches = matches.drop(*singles_columns)"
   ]
  },
  {
   "cell_type": "code",
   "execution_count": 83,
   "id": "808045e1-eb62-4c90-ad59-b75703663d78",
   "metadata": {},
   "outputs": [
    {
     "data": {
      "text/plain": [
       "71"
      ]
     },
     "execution_count": 83,
     "metadata": {},
     "output_type": "execute_result"
    }
   ],
   "source": [
    "# 65 + Origin + 5 sets = 71\n",
    "len(matches.columns)"
   ]
  },
  {
   "cell_type": "code",
   "execution_count": 84,
   "id": "8667e0ac-ee1c-4ddb-86d5-5f31009c3534",
   "metadata": {},
   "outputs": [],
   "source": [
    "# BEA"
   ]
  },
  {
   "cell_type": "code",
   "execution_count": 85,
   "id": "97e73eb7-da45-4cab-9d12-e04d8e1f0811",
   "metadata": {},
   "outputs": [
    {
     "data": {
      "text/plain": [
       "DataFrame[Origin: string, best_of: int, draw_size: int, l_1stIn: int, l_1stWon: int, l_2ndWon: int, l_SvGms: int, l_ace: int, l_bpFaced: int, l_bpSaved: int, l_df: int, l_svpt: int, loser1_age: double, loser1_hand: string, loser1_ht: int, loser1_id: int, loser1_ioc: string, loser1_name: string, loser1_rank: int, loser1_rank_points: int, loser2_age: double, loser2_hand: string, loser2_ht: int, loser2_id: int, loser2_ioc: string, loser2_name: string, loser2_rank: int, loser2_rank_points: int, loser_entry: string, loser_seed: int, match_num: int, minutes: int, round: string, score: string, surface: string, tourney_date: date, tourney_id: string, tourney_level: string, tourney_name: string, w_1stIn: int, w_1stWon: int, w_2ndWon: int, w_SvGms: int, w_ace: int, w_bpFaced: int, w_bpSaved: int, w_df: int, w_svpt: int, winner1_age: double, winner1_hand: string, winner1_ht: int, winner1_id: int, winner1_ioc: string, winner1_name: string, winner1_rank: int, winner1_rank_points: int, winner2_age: double, winner2_hand: int, winner2_ht: int, winner2_id: int, winner2_ioc: string, winner2_name: string, winner2_rank: int, winner2_rank_points: int, winner_entry: string, winner_seed: int, set_1: string, set_2: string, set_3: string, set_4: string, set_5: string]"
      ]
     },
     "execution_count": 85,
     "metadata": {},
     "output_type": "execute_result"
    }
   ],
   "source": [
    "matches"
   ]
  },
  {
   "cell_type": "code",
   "execution_count": 87,
   "id": "1cd36092-d432-416f-9f90-bdd320b227f8",
   "metadata": {},
   "outputs": [
    {
     "name": "stdout",
     "output_type": "stream",
     "text": [
      "-------------------------------------------\n",
      "Total null values in 'Origin' column: 0\n",
      "Total values in 'set_1' column: 935359\n",
      "-------------------------------------------\n",
      "Column name: Origin has a total of 0 null values and percentage of nulls: 0.00%\n",
      "Column name: best_of has a total of 0 null values and percentage of nulls: 0.00%\n",
      "Column name: draw_size has a total of 2477 null values and percentage of nulls: 0.26%\n",
      "Column name: l_1stIn has a total of 730169 null values and percentage of nulls: 78.06%\n",
      "Column name: l_1stWon has a total of 730169 null values and percentage of nulls: 78.06%\n",
      "Column name: l_2ndWon has a total of 730169 null values and percentage of nulls: 78.06%\n",
      "Column name: l_SvGms has a total of 730170 null values and percentage of nulls: 78.06%\n",
      "Column name: l_ace has a total of 730169 null values and percentage of nulls: 78.06%\n",
      "Column name: l_bpFaced has a total of 730169 null values and percentage of nulls: 78.06%\n",
      "Column name: l_bpSaved has a total of 730169 null values and percentage of nulls: 78.06%\n",
      "Column name: l_df has a total of 730168 null values and percentage of nulls: 78.06%\n",
      "Column name: l_svpt has a total of 730169 null values and percentage of nulls: 78.06%\n",
      "Column name: loser1_age has a total of 28552 null values and percentage of nulls: 3.05%\n",
      "Column name: loser1_hand has a total of 21069 null values and percentage of nulls: 2.25%\n",
      "Column name: loser1_ht has a total of 471562 null values and percentage of nulls: 50.42%\n",
      "Column name: loser1_id has a total of 0 null values and percentage of nulls: 0.00%\n",
      "Column name: loser1_ioc has a total of 169 null values and percentage of nulls: 0.02%\n",
      "Column name: loser1_name has a total of 5 null values and percentage of nulls: 0.00%\n",
      "Column name: loser1_rank has a total of 174783 null values and percentage of nulls: 18.69%\n",
      "Column name: loser1_rank_points has a total of 234477 null values and percentage of nulls: 25.07%\n",
      "Column name: loser2_age has a total of 908992 null values and percentage of nulls: 97.18%\n",
      "Column name: loser2_hand has a total of 908973 null values and percentage of nulls: 97.18%\n",
      "Column name: loser2_ht has a total of 912791 null values and percentage of nulls: 97.59%\n",
      "Column name: loser2_id has a total of 908966 null values and percentage of nulls: 97.18%\n",
      "Column name: loser2_ioc has a total of 908972 null values and percentage of nulls: 97.18%\n",
      "Column name: loser2_name has a total of 908972 null values and percentage of nulls: 97.18%\n",
      "Column name: loser2_rank has a total of 909567 null values and percentage of nulls: 97.24%\n",
      "Column name: loser2_rank_points has a total of 909567 null values and percentage of nulls: 97.24%\n",
      "Column name: loser_entry has a total of 665768 null values and percentage of nulls: 71.18%\n",
      "Column name: loser_seed has a total of 732118 null values and percentage of nulls: 78.27%\n",
      "Column name: match_num has a total of 0 null values and percentage of nulls: 0.00%\n",
      "Column name: minutes has a total of 736893 null values and percentage of nulls: 78.78%\n",
      "Column name: round has a total of 0 null values and percentage of nulls: 0.00%\n",
      "Column name: score has a total of 140 null values and percentage of nulls: 0.01%\n",
      "Column name: surface has a total of 6329 null values and percentage of nulls: 0.68%\n",
      "Column name: tourney_date has a total of 0 null values and percentage of nulls: 0.00%\n",
      "Column name: tourney_id has a total of 0 null values and percentage of nulls: 0.00%\n",
      "Column name: tourney_level has a total of 0 null values and percentage of nulls: 0.00%\n",
      "Column name: tourney_name has a total of 0 null values and percentage of nulls: 0.00%\n",
      "Column name: w_1stIn has a total of 730169 null values and percentage of nulls: 78.06%\n",
      "Column name: w_1stWon has a total of 730169 null values and percentage of nulls: 78.06%\n",
      "Column name: w_2ndWon has a total of 730169 null values and percentage of nulls: 78.06%\n",
      "Column name: w_SvGms has a total of 730170 null values and percentage of nulls: 78.06%\n",
      "Column name: w_ace has a total of 730168 null values and percentage of nulls: 78.06%\n",
      "Column name: w_bpFaced has a total of 730169 null values and percentage of nulls: 78.06%\n",
      "Column name: w_bpSaved has a total of 730169 null values and percentage of nulls: 78.06%\n",
      "Column name: w_df has a total of 730169 null values and percentage of nulls: 78.06%\n",
      "Column name: w_svpt has a total of 730169 null values and percentage of nulls: 78.06%\n",
      "Column name: winner1_age has a total of 13190 null values and percentage of nulls: 1.41%\n",
      "Column name: winner1_hand has a total of 19465 null values and percentage of nulls: 2.08%\n",
      "Column name: winner1_ht has a total of 361144 null values and percentage of nulls: 38.61%\n",
      "Column name: winner1_id has a total of 0 null values and percentage of nulls: 0.00%\n",
      "Column name: winner1_ioc has a total of 98 null values and percentage of nulls: 0.01%\n",
      "Column name: winner1_name has a total of 0 null values and percentage of nulls: 0.00%\n",
      "Column name: winner1_rank has a total of 107891 null values and percentage of nulls: 11.53%\n",
      "Column name: winner1_rank_points has a total of 176189 null values and percentage of nulls: 18.84%\n",
      "Column name: winner2_age has a total of 908960 null values and percentage of nulls: 97.18%\n",
      "Column name: winner2_hand has a total of 935359 null values and percentage of nulls: 100.00%\n",
      "Column name: winner2_ht has a total of 912034 null values and percentage of nulls: 97.51%\n",
      "Column name: winner2_id has a total of 908960 null values and percentage of nulls: 97.18%\n",
      "Column name: winner2_ioc has a total of 908960 null values and percentage of nulls: 97.18%\n",
      "Column name: winner2_name has a total of 908960 null values and percentage of nulls: 97.18%\n",
      "Column name: winner2_rank has a total of 909324 null values and percentage of nulls: 97.22%\n",
      "Column name: winner2_rank_points has a total of 909324 null values and percentage of nulls: 97.22%\n",
      "Column name: winner_entry has a total of 783409 null values and percentage of nulls: 83.75%\n",
      "Column name: winner_seed has a total of 539601 null values and percentage of nulls: 57.69%\n",
      "-------------------------------------------\n",
      "Columns with null percentage superior to 75%\n",
      "Column name: l_1stIn\n",
      "Column name: l_1stWon\n",
      "Column name: l_2ndWon\n",
      "Column name: l_SvGms\n",
      "Column name: l_ace\n",
      "Column name: l_bpFaced\n",
      "Column name: l_bpSaved\n",
      "Column name: l_df\n",
      "Column name: l_svpt\n",
      "Column name: loser2_age\n",
      "Column name: loser2_hand\n",
      "Column name: loser2_ht\n",
      "Column name: loser2_id\n",
      "Column name: loser2_ioc\n",
      "Column name: loser2_name\n",
      "Column name: loser2_rank\n",
      "Column name: loser2_rank_points\n",
      "Column name: loser_seed\n",
      "Column name: minutes\n",
      "Column name: w_1stIn\n",
      "Column name: w_1stWon\n",
      "Column name: w_2ndWon\n",
      "Column name: w_SvGms\n",
      "Column name: w_ace\n",
      "Column name: w_bpFaced\n",
      "Column name: w_bpSaved\n",
      "Column name: w_df\n",
      "Column name: w_svpt\n",
      "Column name: winner2_age\n",
      "Column name: winner2_hand\n",
      "Column name: winner2_ht\n",
      "Column name: winner2_id\n",
      "Column name: winner2_ioc\n",
      "Column name: winner2_name\n",
      "Column name: winner2_rank\n",
      "Column name: winner2_rank_points\n",
      "Column name: winner_entry\n"
     ]
    }
   ],
   "source": [
    "print(\"-------------------------------------------\")\n",
    "# Count null values in 'Origin' column\n",
    "null_count = matches.select('Origin').where(col('Origin').isNull()).count()\n",
    "# Count total values set_1\n",
    "total_values = matches.select('set_1').count()\n",
    "print(f\"Total null values in 'Origin' column: {null_count}\")\n",
    "print(f\"Total values in 'set_1' column: {total_values}\")\n",
    "print(\"-------------------------------------------\")\n",
    "\n",
    "\n",
    "\n",
    "\n",
    "# Only use until winnner_seed, set_1, set_2, etc... were throwing errors\n",
    "relevant_columns = matches.columns[: matches.columns.index('winner_seed') + 1]  # Add 1 for inclusive indexing\n",
    "\n",
    "# Calculate null values counts\n",
    "null_columns = []\n",
    "for column in relevant_columns:\n",
    "    null_value_counts = matches.select(column).where(col(column).isNull()).count()\n",
    "    # Percentage of null values\n",
    "    percentage = (null_value_counts / matches.select(column).count()) * 100\n",
    "    # Print the results\n",
    "    print(f\"Column name: {column} has a total of {null_value_counts} null values and percentage of nulls: {percentage:.2f}%\")\n",
    "    \n",
    "    \n",
    "    # If percentage of nulls superior to 75% delete column?\n",
    "    if percentage >= 75:\n",
    "        null_columns.append(column)\n",
    "\n",
    "print(\"-------------------------------------------\")\n",
    "print(\"Columns with null percentage superior to 75%\")\n",
    "for column_null in null_columns:\n",
    "    print(f\"Column name: {column_null}\")"
   ]
  },
  {
   "cell_type": "code",
   "execution_count": 88,
   "id": "869fde8d-7477-4f30-af94-75850d3da174",
   "metadata": {
    "scrolled": true
   },
   "outputs": [],
   "source": [
    "matches.repartition(1).write.csv(\"matches\", mode='overwrite')"
   ]
  },
  {
   "cell_type": "code",
   "execution_count": 89,
   "id": "ef506c16-90ce-48bd-9bd7-7c7647efd865",
   "metadata": {},
   "outputs": [
    {
     "name": "stdout",
     "output_type": "stream",
     "text": [
      "root\n",
      " |-- Origin: string (nullable = false)\n",
      " |-- best_of: integer (nullable = true)\n",
      " |-- draw_size: integer (nullable = true)\n",
      " |-- l_1stIn: integer (nullable = true)\n",
      " |-- l_1stWon: integer (nullable = true)\n",
      " |-- l_2ndWon: integer (nullable = true)\n",
      " |-- l_SvGms: integer (nullable = true)\n",
      " |-- l_ace: integer (nullable = true)\n",
      " |-- l_bpFaced: integer (nullable = true)\n",
      " |-- l_bpSaved: integer (nullable = true)\n",
      " |-- l_df: integer (nullable = true)\n",
      " |-- l_svpt: integer (nullable = true)\n",
      " |-- loser1_age: double (nullable = true)\n",
      " |-- loser1_hand: string (nullable = true)\n",
      " |-- loser1_ht: integer (nullable = true)\n",
      " |-- loser1_id: integer (nullable = true)\n",
      " |-- loser1_ioc: string (nullable = true)\n",
      " |-- loser1_name: string (nullable = true)\n",
      " |-- loser1_rank: integer (nullable = true)\n",
      " |-- loser1_rank_points: integer (nullable = true)\n",
      " |-- loser2_age: double (nullable = true)\n",
      " |-- loser2_hand: string (nullable = true)\n",
      " |-- loser2_ht: integer (nullable = true)\n",
      " |-- loser2_id: integer (nullable = true)\n",
      " |-- loser2_ioc: string (nullable = true)\n",
      " |-- loser2_name: string (nullable = true)\n",
      " |-- loser2_rank: integer (nullable = true)\n",
      " |-- loser2_rank_points: integer (nullable = true)\n",
      " |-- loser_entry: string (nullable = true)\n",
      " |-- loser_seed: integer (nullable = true)\n",
      " |-- match_num: integer (nullable = true)\n",
      " |-- minutes: integer (nullable = true)\n",
      " |-- round: string (nullable = true)\n",
      " |-- score: string (nullable = true)\n",
      " |-- surface: string (nullable = true)\n",
      " |-- tourney_date: date (nullable = true)\n",
      " |-- tourney_id: string (nullable = true)\n",
      " |-- tourney_level: string (nullable = true)\n",
      " |-- tourney_name: string (nullable = true)\n",
      " |-- w_1stIn: integer (nullable = true)\n",
      " |-- w_1stWon: integer (nullable = true)\n",
      " |-- w_2ndWon: integer (nullable = true)\n",
      " |-- w_SvGms: integer (nullable = true)\n",
      " |-- w_ace: integer (nullable = true)\n",
      " |-- w_bpFaced: integer (nullable = true)\n",
      " |-- w_bpSaved: integer (nullable = true)\n",
      " |-- w_df: integer (nullable = true)\n",
      " |-- w_svpt: integer (nullable = true)\n",
      " |-- winner1_age: double (nullable = true)\n",
      " |-- winner1_hand: string (nullable = true)\n",
      " |-- winner1_ht: integer (nullable = true)\n",
      " |-- winner1_id: integer (nullable = true)\n",
      " |-- winner1_ioc: string (nullable = true)\n",
      " |-- winner1_name: string (nullable = true)\n",
      " |-- winner1_rank: integer (nullable = true)\n",
      " |-- winner1_rank_points: integer (nullable = true)\n",
      " |-- winner2_age: double (nullable = true)\n",
      " |-- winner2_hand: integer (nullable = true)\n",
      " |-- winner2_ht: integer (nullable = true)\n",
      " |-- winner2_id: integer (nullable = true)\n",
      " |-- winner2_ioc: string (nullable = true)\n",
      " |-- winner2_name: string (nullable = true)\n",
      " |-- winner2_rank: integer (nullable = true)\n",
      " |-- winner2_rank_points: integer (nullable = true)\n",
      " |-- winner_entry: string (nullable = true)\n",
      " |-- winner_seed: integer (nullable = true)\n",
      " |-- set_1: string (nullable = true)\n",
      " |-- set_2: string (nullable = true)\n",
      " |-- set_3: string (nullable = true)\n",
      " |-- set_4: string (nullable = true)\n",
      " |-- set_5: string (nullable = true)\n",
      "\n"
     ]
    }
   ],
   "source": [
    "matches.printSchema()"
   ]
  },
  {
   "cell_type": "code",
   "execution_count": null,
   "id": "f9f11d41-6d25-4280-86c7-d8df54912c33",
   "metadata": {},
   "outputs": [],
   "source": [
    "#QUERIES, Lara\n",
    "from pyspark.sql.functions import sum as spark_sum\n",
    "import matplotlib.pyplot as plt\n"
   ]
  },
  {
   "cell_type": "code",
   "execution_count": 105,
   "id": "2b4cae33-eb30-4bba-b0f2-44d0b9c01bb2",
   "metadata": {},
   "outputs": [
    {
     "name": "stdout",
     "output_type": "stream",
     "text": [
      "Win percentage for Roger Federer by surface:\n",
      "+-------+-------------+-------------+-----------------+------------------+\n",
      "|surface|total_wins_rf|total_wins_rn|win_percentage_rf| win_percentage_rn|\n",
      "+-------+-------------+-------------+-----------------+------------------+\n",
      "|   Clay|            2|           14|             12.5|              87.5|\n",
      "|   Hard|           12|            9|57.14285714285714|42.857142857142854|\n",
      "|  Grass|            3|            1|             75.0|              25.0|\n",
      "+-------+-------------+-------------+-----------------+------------------+\n",
      "\n"
     ]
    },
    {
     "data": {
      "image/png": "[encoded data removed]",
      "text/plain": [
       "<Figure size 1000x600 with 1 Axes>"
      ]
     },
     "metadata": {},
     "output_type": "display_data"
    }
   ],
   "source": [
    "#Roger Federer vs Rafael Nadal. Wins for each one / percentage on each surface.\n",
    "\n",
    "matches2 = matches.filter(\n",
    "    ((matches.winner1_name == \"Roger Federer\") & (matches.loser1_name == \"Rafael Nadal\")) |\n",
    "    ((matches.winner1_name == \"Rafael Nadal\") & (matches.loser1_name == \"Roger Federer\"))\n",
    ")\n",
    "# Calculate the total wins for each player on each surface\n",
    "total_wins_surface = matches2.groupBy(\"surface\").agg(\n",
    "    spark_sum(F.when(matches2.winner1_name == \"Roger Federer\", 1).otherwise(0)).alias(\"total_wins_rf\"),\n",
    "    spark_sum(F.when(matches2.winner1_name == \"Rafael Nadal\", 1).otherwise(0)).alias(\"total_wins_rn\")\n",
    ")\n",
    "\n",
    "# Calculate win percentages for each player on different surfaces\n",
    "surface_wins_rf = total_wins_surface.withColumn(\"win_percentage_rf\", (total_wins_surface[\"total_wins_rf\"] / (total_wins_surface[\"total_wins_rf\"] + total_wins_surface[\"total_wins_rn\"])) * 100)\n",
    "surface_wins = surface_wins_rf.withColumn(\"win_percentage_rn\", (total_wins_surface[\"total_wins_rn\"] / (total_wins_surface[\"total_wins_rf\"] + total_wins_surface[\"total_wins_rn\"])) * 100)\n",
    "\n",
    "print(\"Win percentage for Roger Federer by surface:\")\n",
    "surface_wins.show()\n",
    "# Extracting surface names and win percentages for both players\n",
    "surfaces = surface_wins.select(\"surface\").rdd.map(lambda row: row[0]).collect()\n",
    "win_percentages_rf = surface_wins.select(\"win_percentage_rf\").rdd.map(lambda row: row[0]).collect()\n",
    "win_percentages_rn = surface_wins.select(\"win_percentage_rn\").rdd.map(lambda row: row[0]).collect()\n",
    "\n",
    "plt.figure(figsize=(10, 6))\n",
    "plt.bar(surfaces, win_percentages_rf, color='blue', label='Roger Federer')\n",
    "plt.bar(surfaces, win_percentages_rn, color='green', label='Rafael Nadal', bottom=win_percentages_rf)\n",
    "plt.xlabel('Surface')\n",
    "plt.ylabel('Win Percentage')\n",
    "plt.title('Win Percentage by Surface for Roger Federer and Rafael Nadal')\n",
    "plt.legend()\n",
    "plt.xticks(rotation=45)\n",
    "plt.tight_layout()\n",
    "plt.show()\n"
   ]
  },
  {
   "cell_type": "code",
   "execution_count": 177,
   "id": "03e0a84e-69e3-4c1e-a06f-9b977ec0564e",
   "metadata": {},
   "outputs": [
    {
     "name": "stdout",
     "output_type": "stream",
     "text": [
      "  surface    avg_time\n",
      "0  Carpet   91.618310\n",
      "1    Clay  101.223521\n",
      "2    Hard   97.559373\n",
      "3   Grass  104.998727\n",
      "4    None         NaN\n"
     ]
    },
    {
     "data": {
      "text/html": [
       "<div>\n",
       "<style scoped>\n",
       "    .dataframe tbody tr th:only-of-type {\n",
       "        vertical-align: middle;\n",
       "    }\n",
       "\n",
       "    .dataframe tbody tr th {\n",
       "        vertical-align: top;\n",
       "    }\n",
       "\n",
       "    .dataframe thead th {\n",
       "        text-align: right;\n",
       "    }\n",
       "</style>\n",
       "<table border=\"1\" class=\"dataframe\">\n",
       "  <thead>\n",
       "    <tr style=\"text-align: right;\">\n",
       "      <th></th>\n",
       "      <th>surface</th>\n",
       "      <th>avg_time</th>\n",
       "    </tr>\n",
       "  </thead>\n",
       "  <tbody>\n",
       "    <tr>\n",
       "      <th>0</th>\n",
       "      <td>Carpet</td>\n",
       "      <td>91.618310</td>\n",
       "    </tr>\n",
       "    <tr>\n",
       "      <th>1</th>\n",
       "      <td>Clay</td>\n",
       "      <td>101.223521</td>\n",
       "    </tr>\n",
       "    <tr>\n",
       "      <th>2</th>\n",
       "      <td>Hard</td>\n",
       "      <td>97.559373</td>\n",
       "    </tr>\n",
       "    <tr>\n",
       "      <th>3</th>\n",
       "      <td>Grass</td>\n",
       "      <td>104.998727</td>\n",
       "    </tr>\n",
       "    <tr>\n",
       "      <th>4</th>\n",
       "      <td>None</td>\n",
       "      <td>NaN</td>\n",
       "    </tr>\n",
       "  </tbody>\n",
       "</table>\n",
       "</div>"
      ],
      "text/plain": [
       "  surface    avg_time\n",
       "0  Carpet   91.618310\n",
       "1    Clay  101.223521\n",
       "2    Hard   97.559373\n",
       "3   Grass  104.998727\n",
       "4    None         NaN"
      ]
     },
     "execution_count": 177,
     "metadata": {},
     "output_type": "execute_result"
    }
   ],
   "source": [
    "from pyspark.sql.functions import avg\n",
    "import matplotlib.pyplot as plt\n",
    "import numpy as np\n",
    "\n",
    "avg_time_per_surface = matches.groupBy(\"surface\").agg(avg(\"minutes\").alias(\"avg_time\"))\n",
    "avg_time_per_surface_df = avg_time_per_surface.toPandas()\n",
    "print(avg_time_per_surface_df)\n",
    "avg_time_per_surface_df"
   ]
  },
  {
   "cell_type": "code",
   "execution_count": 176,
   "id": "da625ffc-8354-41c5-9b8a-0521b4d26193",
   "metadata": {},
   "outputs": [
    {
     "data": {
      "image/png": "[encoded data removed]",
      "text/plain": [
       "<Figure size 800x800 with 1 Axes>"
      ]
     },
     "metadata": {},
     "output_type": "display_data"
    }
   ],
   "source": [
    "\n",
    "surfaces = avg_time_per_surface.select(\"surface\").rdd.map(lambda row: row[0]).collect()\n",
    "time = avg_time_per_surface.select(\"avg_time\").rdd.map(lambda row: row[0]).collect()\n",
    "\n",
    "\n",
    "# Filter out NaN values from the time list\n",
    "valid_time = [t for t in time if isinstance(t, float) and not np.isnan(t)]\n",
    "\n",
    "# Define colors using hex color codes\n",
    "colors = ['#FEDE24', '#fd6326', '#c7cccf', '#d8c508']\n",
    "\n",
    "# Plotting\n",
    "plt.figure(figsize=(8, 8))\n",
    "plt.pie(valid_time, labels=surfaces[:len(valid_time)], autopct='%1.1f%%', startangle=90, colors=colors)\n",
    "plt.title('Average Playtime per Surface')\n",
    "plt.axis('equal')  # Equal aspect ratio ensures that pie is drawn as a circle.\n",
    "plt.show()"
   ]
  },
  {
   "cell_type": "code",
   "execution_count": 121,
   "id": "8ee8cf7d-9a06-4863-b3db-ccd5d2ddaab0",
   "metadata": {},
   "outputs": [
    {
     "data": {
      "image/png": "[encoded data removed]",
      "text/plain": [
       "<Figure size 800x800 with 1 Axes>"
      ]
     },
     "metadata": {},
     "output_type": "display_data"
    }
   ],
   "source": [
    "#add numerical time\n",
    "plt.figure(figsize=(8, 8))\n",
    "patches, texts, autotexts = plt.pie(valid_time, labels=surfaces[:len(valid_time)], autopct='%1.1f%%', startangle=90, colors=colors)\n",
    "plt.title('Average Playtime per Surface')\n",
    "plt.axis('equal')  # Equal aspect ratio ensures that pie is drawn as a circle.\n",
    "\n",
    "# Adding numerical values and percentage as annotations\n",
    "for i, (patch, autotext) in enumerate(zip(patches, autotexts)):\n",
    "    time_value = valid_time[i]\n",
    "    percentage = autotext.get_text()\n",
    "    autotext.set_color('black')\n",
    "    autotext.set_fontsize(10)\n",
    "    autotext.set_text(f'{time_value:.1f} minutes\\n{percentage}')\n",
    "\n",
    "plt.show()\n",
    "\n"
   ]
  },
  {
   "cell_type": "code",
   "execution_count": 161,
   "id": "541bde0c-d03e-4d9a-a8bb-10b1bca98d00",
   "metadata": {},
   "outputs": [
    {
     "name": "stdout",
     "output_type": "stream",
     "text": [
      "+-------+--------------------+-------------+----+\n",
      "|surface|        winner1_name|total_matches|rank|\n",
      "+-------+--------------------+-------------+----+\n",
      "| Carpet|       Jimmy Connors|          355|   1|\n",
      "| Carpet|        John McEnroe|          352|   2|\n",
      "| Carpet|          Ivan Lendl|          271|   3|\n",
      "| Carpet|         Arthur Ashe|          258|   4|\n",
      "| Carpet|        Boris Becker|          258|   4|\n",
      "|   Clay|Ruben Ramirez Hid...|          682|   1|\n",
      "|   Clay|     Guillermo Vilas|          676|   2|\n",
      "|   Clay|      Carlos Berlocq|          626|   3|\n",
      "|   Clay|      Manuel Orantes|          580|   4|\n",
      "|  Grass|        Ken Rosewall|          216|   1|\n",
      "|  Grass|       John Newcombe|          211|   2|\n",
      "|  Grass|         Roy Emerson|          205|   3|\n",
      "|  Grass|       Roger Federer|          201|   4|\n",
      "|   Hard|       Roger Federer|          848|   1|\n",
      "|   Hard|           Bob Bryan|          770|   2|\n",
      "|   Hard|      Novak Djokovic|          739|   3|\n",
      "|   Hard|         Yen Hsun Lu|          623|   4|\n",
      "+-------+--------------------+-------------+----+\n",
      "\n"
     ]
    }
   ],
   "source": [
    "#Top 3 players with the biggest winning percentage per surface\n",
    "\n",
    "from pyspark.sql import SparkSession\n",
    "from pyspark.sql.functions import col, count, rank\n",
    "from pyspark.sql.window import Window\n",
    "\n",
    "\n",
    "player_surface_stats = matches_filtered.groupBy(\"surface\", \"winner1_name\")\n",
    "\n",
    "# Calculate the total matches for each player on each surface\n",
    "player_surface_stats = matches_filtered.groupBy(\"surface\", \"winner1_name\").agg(\n",
    "    count(\"*\").alias(\"total_matches\")\n",
    ")\n",
    "\n",
    "# Define a window specification to rank players by winning percentage within each surface\n",
    "window_spec = Window.partitionBy(\"surface\").orderBy(col(\"total_matches\").desc())\n",
    "\n",
    "# Rank the players based on total matches for each surface\n",
    "ranked_players_per_surface = player_surface_stats.withColumn(\n",
    "    \"rank\", rank().over(window_spec)\n",
    ")\n",
    "\n",
    "# Filter to get the top 3 players per surface\n",
    "top_3_players_per_surface = ranked_players_per_surface.filter(col(\"rank\") <= 4)\n",
    "\n",
    "# Show the top 3 players per surface\n",
    "top_3_players_per_surface.show()\n",
    "\n"
   ]
  },
  {
   "cell_type": "code",
   "execution_count": 162,
   "id": "0a72dfae-4c9e-45f7-af9f-a46eee43c691",
   "metadata": {},
   "outputs": [
    {
     "name": "stdout",
     "output_type": "stream",
     "text": [
      "+-------+---------------+----------+\n",
      "|surface|   winner1_name|total_wins|\n",
      "+-------+---------------+----------+\n",
      "| Carpet|Tomas Carbonell|        18|\n",
      "| Carpet|  Karel Novacek|        57|\n",
      "+-------+---------------+----------+\n",
      "only showing top 2 rows\n",
      "\n",
      "+-------+---------------+------------+\n",
      "|surface|    loser1_name|total_losses|\n",
      "+-------+---------------+------------+\n",
      "| Carpet|Tomas Carbonell|          33|\n",
      "| Carpet|  Karel Novacek|          64|\n",
      "+-------+---------------+------------+\n",
      "only showing top 2 rows\n",
      "\n"
     ]
    }
   ],
   "source": [
    "#that's not it. let's try differently\n",
    "from pyspark.sql import SparkSession\n",
    "from pyspark.sql.functions import col, count, rank, sum as spark_sum\n",
    "from pyspark.sql.window import Window\n",
    "\n",
    "matches_filtered = matches.filter(col(\"surface\").isNotNull())\n",
    "\n",
    "player_surface_stats = matches_filtered.groupBy(\"surface\", \"winner1_name\").agg(\n",
    "    count(\"*\").alias(\"total_wins\")\n",
    ")\n",
    "\n",
    "player_surface_stats.show(2)\n",
    "\n",
    "loser_surface_stats = matches_filtered.groupBy(\"surface\", \"loser1_name\").agg(\n",
    "    count(\"*\").alias(\"total_losses\")\n",
    ")\n",
    "\n",
    "loser_surface_stats.show(2)\n"
   ]
  },
  {
   "cell_type": "code",
   "execution_count": 163,
   "id": "00b88439-854a-46df-b681-62e722e0e770",
   "metadata": {},
   "outputs": [
    {
     "name": "stdout",
     "output_type": "stream",
     "text": [
      "+-------+--------------------+-----------+----------+\n",
      "|surface|         player_name|total_games|total_wins|\n",
      "+-------+--------------------+-----------+----------+\n",
      "| Carpet|Alexandros Georgo...|          4|         1|\n",
      "| Carpet|        Daniel Fiala|          8|         1|\n",
      "| Carpet|         Dejan Katic|          5|         2|\n",
      "| Carpet|Fernando Dalla Fo...|       NULL|         1|\n",
      "| Carpet|       Frederico Gil|          2|         1|\n",
      "| Carpet| Ivan Gomez Mantilla|          6|         2|\n",
      "| Carpet|         Juraj Hasko|         10|         6|\n",
      "| Carpet|       Karel Novacek|        121|        57|\n",
      "| Carpet|          Pavel Riha|         57|        31|\n",
      "| Carpet|Rafael Avalos Brenes|          3|         1|\n",
      "+-------+--------------------+-----------+----------+\n",
      "only showing top 10 rows\n",
      "\n"
     ]
    }
   ],
   "source": [
    "from pyspark.sql.functions import sum\n",
    "\n",
    "# Join the winner and loser statistics\n",
    "player_stats = player_surface_stats.join(\n",
    "    loser_surface_stats,\n",
    "    (player_surface_stats.surface == loser_surface_stats.surface) &\n",
    "    (player_surface_stats.winner1_name == loser_surface_stats.loser1_name),\n",
    "    \"full_outer\"\n",
    ").groupBy(player_surface_stats.surface, player_surface_stats.winner1_name.alias(\"player_name\")).agg(\n",
    "    (sum(player_surface_stats.total_wins) + sum(loser_surface_stats.total_losses)).alias(\"total_games\"),\n",
    "    sum(player_surface_stats.total_wins).alias(\"total_wins\")\n",
    ")\n",
    "\n",
    "# Show the top 4 rows of the resulting DataFrame\n",
    "player_stats.show(10)\n"
   ]
  },
  {
   "cell_type": "code",
   "execution_count": 164,
   "id": "69b8ab37-b722-49cc-ab77-1314b884208e",
   "metadata": {},
   "outputs": [
    {
     "name": "stdout",
     "output_type": "stream",
     "text": [
      "+-------+--------------------+-----------+----------+------------------+----+\n",
      "|surface|         player_name|total_games|total_wins|winning_percentage|rank|\n",
      "+-------+--------------------+-----------+----------+------------------+----+\n",
      "|   NULL|                NULL|       NULL|      NULL|              NULL|   1|\n",
      "| Carpet|     Krister Wedenby|         19|        17| 89.47368421052632|   1|\n",
      "| Carpet|  Yoshihito Nishioka|          8|         7|              87.5|   2|\n",
      "| Carpet|       Leandro Riedi|          8|         7|              87.5|   2|\n",
      "| Carpet|Frederico Ferreir...|          8|         7|              87.5|   2|\n",
      "| Carpet|  Dmitri Tomashevich|          8|         7|              87.5|   2|\n",
      "|   Clay|        Tony Trabert|         22|        20|  90.9090909090909|   1|\n",
      "|   Clay|   Jean Rene Lacoste|         52|        47| 90.38461538461539|   2|\n",
      "|   Clay|   Henri Jean Cochet|         65|        58| 89.23076923076924|   3|\n",
      "|  Grass|           Don Budge|         71|        64| 90.14084507042254|   1|\n",
      "|  Grass|Richard Pancho Go...|         20|        18|              90.0|   2|\n",
      "|  Grass|Richard Dudley Sears|         20|        18|              90.0|   2|\n",
      "|   Hard|          Conny Falk|         24|        21|              87.5|   1|\n",
      "|   Hard|     Krister Wedenby|          7|         6| 85.71428571428571|   2|\n",
      "|   Hard|         Olle Wallin|         19|        16| 84.21052631578947|   3|\n",
      "+-------+--------------------+-----------+----------+------------------+----+\n",
      "\n"
     ]
    }
   ],
   "source": [
    "\n",
    "# Calculate winning percentage\n",
    "player_stats = player_stats.withColumn(\n",
    "    \"winning_percentage\",\n",
    "    (col(\"total_wins\") / col(\"total_games\")) * 100\n",
    ")\n",
    "\n",
    "window_spec = Window.partitionBy(player_stats.surface).orderBy(player_stats.winning_percentage.desc())\n",
    "\n",
    "# Assign ranks to players within each surface based on winning_percentage\n",
    "player_stats_ranked = player_stats.withColumn(\"rank\", rank().over(window_spec))\n",
    "\n",
    "# Filter to show only the top 3 players for each surface, considering ties\n",
    "player_stats_filtered = player_stats_ranked.filter((col(\"rank\") <=3))\n",
    "\n",
    "# Show the resulting DataFrame\n",
    "player_stats_filtered.show()"
   ]
  },
  {
   "cell_type": "code",
   "execution_count": null,
   "id": "9aa7e7ab-9377-4729-87a9-5287f679cf0e",
   "metadata": {},
   "outputs": [],
   "source": []
  },
  {
   "cell_type": "code",
   "execution_count": 194,
   "id": "145442f3-a06b-4bff-a923-cfe015686b2a",
   "metadata": {},
   "outputs": [
    {
     "name": "stdout",
     "output_type": "stream",
     "text": [
      "Percentage of times where a player lost the first set in a 3-set game and ended up winning the match: 20.791349809885933 %\n"
     ]
    }
   ],
   "source": [
    "#Percentage of times where a player lost the first set in a 3-set game and ended up winning the match.\n",
    "\n",
    "filtered_matches = matches.filter(\n",
    "    (col(\"set_1\").isNotNull()) &\n",
    "    (col(\"set_2\").isNotNull()) &\n",
    "    (col(\"set_3\").isNotNull()) &\n",
    "    (col(\"set_4\").isNull()) &\n",
    "    (col(\"set_5\").isNull()) &\n",
    "    col(\"set_3\").like(\"%-%\")\n",
    ")\n",
    "\n",
    "lost_first_set_and_won_match = filtered_matches.filter(\n",
    "    (col(\"set_1\").like(\"%-6\") & col(\"set_2\").like(\"6-%\") & col(\"set_3\").like(\"6-%\")) |\n",
    "    (col(\"set_1\").like(\"6-%\") & col(\"set_2\").like(\"%-6\") & col(\"set_3\").like(\"%-6\"))\n",
    ")\n",
    "\n",
    "total_matches_count = lost_first_set_and_won_match.count()\n",
    "\n",
    "win_percentage = (total_matches_count / filtered_matches.count()) * 100\n",
    "\n",
    "print(\"Percentage of times where a player lost the first set in a 3-set game and ended up winning the match:\", win_percentage, \"%\")\n"
   ]
  },
  {
   "cell_type": "code",
   "execution_count": 199,
   "id": "ca53bb32-f941-4ef1-8a45-653496052339",
   "metadata": {},
   "outputs": [
    {
     "name": "stdout",
     "output_type": "stream",
     "text": [
      "Percentage of times where a player lost the first set in a 3-set game and ended up winning the match: 20.79290278334205 %\n"
     ]
    }
   ],
   "source": [
    "#Percentage of times where a player lost the first set in a 3-set game and ended up winning the match.\n",
    "#variation\n",
    "filtered_matches = matches.filter(\n",
    "    (col(\"set_1\").like(\"%-%\")) &\n",
    "    (col(\"set_2\").like(\"%-%\")) &\n",
    "    (col(\"set_3\").like(\"%-%\")) &\n",
    "    (col(\"set_4\").isNull()) &\n",
    "    (col(\"set_5\").isNull())\n",
    ")\n",
    "\n",
    "lost_first_set_and_won_match = filtered_matches.filter(\n",
    "    (col(\"set_1\").like(\"%-6\") & col(\"set_2\").like(\"6-%\") & col(\"set_3\").like(\"6-%\")) |\n",
    "    (col(\"set_1\").like(\"6-%\") & col(\"set_2\").like(\"%-6\") & col(\"set_3\").like(\"%-6\"))\n",
    ")\n",
    "\n",
    "total_matches_count = lost_first_set_and_won_match.count()\n",
    "\n",
    "win_percentage = (total_matches_count / filtered_matches.count()) * 100\n",
    "\n",
    "print(\"Percentage of times where a player lost the first set in a 3-set game and ended up winning the match:\", win_percentage, \"%\")\n"
   ]
  },
  {
   "cell_type": "code",
   "execution_count": 200,
   "id": "7a9be1b8-518a-4788-8169-7fb2a8c29027",
   "metadata": {},
   "outputs": [
    {
     "name": "stdout",
     "output_type": "stream",
     "text": [
      "% of times where a player lost the first two sets in a 5-set game and ended up winning the match: 5.786054569077523 %\n"
     ]
    }
   ],
   "source": [
    "#Percentage of times where a player lost the first two sets in a 5-set game and ended up winning the match.\n",
    "#casos com vantagens(?) não são considerados... ex: 7-6(1)\n",
    "\n",
    "filtered_matches = matches.filter(\n",
    "    (col(\"set_1\").like(\"%-%\")) &\n",
    "    (col(\"set_2\").like(\"%-%\")) &\n",
    "    (col(\"set_3\").like(\"%-%\")) &\n",
    "    (col(\"set_4\").like(\"%-%\")) &\n",
    "    (col(\"set_5\").like(\"%-%\")) \n",
    ")\n",
    "\n",
    "lost_first_set_and_won_match = filtered_matches.filter(\n",
    "    (col(\"set_1\").like(\"%-6\") & col(\"set_2\").like(\"%-6\") & col(\"set_3\").like(\"6-%\") & col(\"set_4\").like(\"6-%\")& col(\"set_5\").like(\"6-%\")) |\n",
    "    (col(\"set_1\").like(\"6-%\") & col(\"set_2\").like(\"6-%\") & col(\"set_3\").like(\"%-6\") & col(\"set_4\").like(\"%-6\")& col(\"set_5\").like(\"%-6\"))\n",
    ")\n",
    "\n",
    "total_matches_count = lost_first_set_and_won_match.count()\n",
    "\n",
    "win_percentage = (total_matches_count / filtered_matches.count()) * 100\n",
    "\n",
    "print(\"% of times where a player lost the first two sets in a 5-set game and ended up winning the match:\", win_percentage, \"%\")"
   ]
  },
  {
   "cell_type": "code",
   "execution_count": null,
   "id": "b046488d-6b14-4aca-b464-b65e867e3c76",
   "metadata": {},
   "outputs": [],
   "source": []
  }
 ],
 "metadata": {
  "kernelspec": {
   "display_name": "Python 3 (ipykernel)",
   "language": "python",
   "name": "python3"
  },
  "language_info": {
   "codemirror_mode": {
    "name": "ipython",
    "version": 3
   },
   "file_extension": ".py",
   "mimetype": "text/x-python",
   "name": "python",
   "nbconvert_exporter": "python",
   "pygments_lexer": "ipython3",
   "version": "3.11.6"
  }
 },
 "nbformat": 4,
 "nbformat_minor": 5
}
