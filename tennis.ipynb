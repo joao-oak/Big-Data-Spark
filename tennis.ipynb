{
 "cells": [
  {
   "cell_type": "code",
   "execution_count": 14,
   "id": "9562d4f2-6c58-4836-82fa-c68388c0ad52",
   "metadata": {},
   "outputs": [],
   "source": [
    "from pyspark.sql import SparkSession\n",
    "import pyspark.sql.functions as F\n",
    "import os"
   ]
  },
  {
   "cell_type": "code",
   "execution_count": 15,
   "id": "139f6425-5bb5-4007-a4c0-56183f5f9b0a",
   "metadata": {},
   "outputs": [],
   "source": [
    "spark = SparkSession.builder \\\n",
    "                    .appName('tennis') \\\n",
    "                    .getOrCreate()"
   ]
  },
  {
   "cell_type": "code",
   "execution_count": 65,
   "id": "0478b08e-fc73-4388-8995-92454eb45480",
   "metadata": {},
   "outputs": [],
   "source": [
    "folder = \"datasets/\"\n",
    "file_columns = []\n",
    "files65 = []\n",
    "files49= []"
   ]
  },
  {
   "cell_type": "code",
   "execution_count": 66,
   "id": "37769baa-d660-4307-9711-6338cfffb026",
   "metadata": {},
   "outputs": [],
   "source": [
    "for filename in os.listdir(folder):\n",
    "\n",
    "    file_path = os.path.join(folder, filename)\n",
    "    \n",
    "    df = spark.read.option(\"header\", \"true\") \\\n",
    "                   .option(\"inferSchema\", \"true\") \\\n",
    "                   .csv(file_path)\n",
    "    \n",
    "    #file_columns.append({filename:df.columns})\n",
    "    file_columns.append(df.columns)\n",
    "    if len(df.columns) == 65:\n",
    "        files65.append(filename)\n",
    "    else:\n",
    "        files49.append(filename)"
   ]
  },
  {
   "cell_type": "code",
   "execution_count": 67,
   "id": "be182335-5fc4-4fd6-a9c6-52bf4d624124",
   "metadata": {
    "collapsed": true,
    "jupyter": {
     "outputs_hidden": true
    },
    "scrolled": true
   },
   "outputs": [
    {
     "data": {
      "text/plain": [
       "[['tourney_id',\n",
       "  'tourney_name',\n",
       "  'surface',\n",
       "  'draw_size',\n",
       "  'tourney_level',\n",
       "  'tourney_date',\n",
       "  'match_num',\n",
       "  'winner1_id',\n",
       "  'winner2_id',\n",
       "  'winner_seed',\n",
       "  'winner_entry',\n",
       "  'loser1_id',\n",
       "  'loser2_id',\n",
       "  'loser_seed',\n",
       "  'loser_entry',\n",
       "  'score',\n",
       "  'best_of',\n",
       "  'round',\n",
       "  'winner1_name',\n",
       "  'winner1_hand',\n",
       "  'winner1_ht',\n",
       "  'winner1_ioc',\n",
       "  'winner1_age',\n",
       "  'winner2_name',\n",
       "  'winner2_hand',\n",
       "  'winner2_ht',\n",
       "  'winner2_ioc',\n",
       "  'winner2_age',\n",
       "  'loser1_name',\n",
       "  'loser1_hand',\n",
       "  'loser1_ht',\n",
       "  'loser1_ioc',\n",
       "  'loser1_age',\n",
       "  'loser2_name',\n",
       "  'loser2_hand',\n",
       "  'loser2_ht',\n",
       "  'loser2_ioc',\n",
       "  'loser2_age',\n",
       "  'winner1_rank',\n",
       "  'winner1_rank_points',\n",
       "  'winner2_rank',\n",
       "  'winner2_rank_points',\n",
       "  'loser1_rank',\n",
       "  'loser1_rank_points',\n",
       "  'loser2_rank',\n",
       "  'loser2_rank_points',\n",
       "  'minutes',\n",
       "  'w_ace',\n",
       "  'w_df',\n",
       "  'w_svpt',\n",
       "  'w_1stIn',\n",
       "  'w_1stWon',\n",
       "  'w_2ndWon',\n",
       "  'w_SvGms',\n",
       "  'w_bpSaved',\n",
       "  'w_bpFaced',\n",
       "  'l_ace',\n",
       "  'l_df',\n",
       "  'l_svpt',\n",
       "  'l_1stIn',\n",
       "  'l_1stWon',\n",
       "  'l_2ndWon',\n",
       "  'l_SvGms',\n",
       "  'l_bpSaved',\n",
       "  'l_bpFaced'],\n",
       " ['tourney_id',\n",
       "  'tourney_name',\n",
       "  'surface',\n",
       "  'draw_size',\n",
       "  'tourney_level',\n",
       "  'tourney_date',\n",
       "  'match_num',\n",
       "  'winner_id',\n",
       "  'winner_seed',\n",
       "  'winner_entry',\n",
       "  'winner_name',\n",
       "  'winner_hand',\n",
       "  'winner_ht',\n",
       "  'winner_ioc',\n",
       "  'winner_age',\n",
       "  'loser_id',\n",
       "  'loser_seed',\n",
       "  'loser_entry',\n",
       "  'loser_name',\n",
       "  'loser_hand',\n",
       "  'loser_ht',\n",
       "  'loser_ioc',\n",
       "  'loser_age',\n",
       "  'score',\n",
       "  'best_of',\n",
       "  'round',\n",
       "  'minutes',\n",
       "  'w_ace',\n",
       "  'w_df',\n",
       "  'w_svpt',\n",
       "  'w_1stIn',\n",
       "  'w_1stWon',\n",
       "  'w_2ndWon',\n",
       "  'w_SvGms',\n",
       "  'w_bpSaved',\n",
       "  'w_bpFaced',\n",
       "  'l_ace',\n",
       "  'l_df',\n",
       "  'l_svpt',\n",
       "  'l_1stIn',\n",
       "  'l_1stWon',\n",
       "  'l_2ndWon',\n",
       "  'l_SvGms',\n",
       "  'l_bpSaved',\n",
       "  'l_bpFaced',\n",
       "  'winner_rank',\n",
       "  'winner_rank_points',\n",
       "  'loser_rank',\n",
       "  'loser_rank_points']]"
      ]
     },
     "execution_count": 67,
     "metadata": {},
     "output_type": "execute_result"
    }
   ],
   "source": [
    "# Removing duplicates\n",
    "file_columns = list(set(map(tuple, file_columns)))\n",
    "file_columns = [list(item) for item in file_columns]\n",
    "file_columns"
   ]
  },
  {
   "cell_type": "code",
   "execution_count": 68,
   "id": "bbf18594-a151-4574-a9c6-72efef879e35",
   "metadata": {},
   "outputs": [
    {
     "name": "stdout",
     "output_type": "stream",
     "text": [
      "Number of different column sets: 2\n",
      "Number of columns in the first set: 65\n",
      "Number of columns in the second set: 49\n"
     ]
    }
   ],
   "source": [
    "print(f\"Number of different column sets: {len(file_columns)}\")\n",
    "print(f\"Number of columns in the first set: {len(file_columns[0])}\")\n",
    "print(f\"Number of columns in the second set: {len(file_columns[1])}\")"
   ]
  },
  {
   "cell_type": "code",
   "execution_count": 73,
   "id": "a37ec9b8-a590-4d3a-a68c-f176591090c4",
   "metadata": {},
   "outputs": [],
   "source": [
    "col1 = set(file_columns[0])\n",
    "col2 = set(file_columns[1])\n",
    "diff1 = col1 - col2 # Columns in Doubles files that are not in Singles files\n",
    "diff2 = col2 - col1 # Columns in Singles files that are not in Doubles files\n",
    "# ^ to get both"
   ]
  },
  {
   "cell_type": "code",
   "execution_count": 70,
   "id": "bb36de00-65f8-4912-8e69-dc43d9258c98",
   "metadata": {},
   "outputs": [
    {
     "data": {
      "text/plain": [
       "{'loser1_age',\n",
       " 'loser1_hand',\n",
       " 'loser1_ht',\n",
       " 'loser1_id',\n",
       " 'loser1_ioc',\n",
       " 'loser1_name',\n",
       " 'loser1_rank',\n",
       " 'loser1_rank_points',\n",
       " 'loser2_age',\n",
       " 'loser2_hand',\n",
       " 'loser2_ht',\n",
       " 'loser2_id',\n",
       " 'loser2_ioc',\n",
       " 'loser2_name',\n",
       " 'loser2_rank',\n",
       " 'loser2_rank_points',\n",
       " 'winner1_age',\n",
       " 'winner1_hand',\n",
       " 'winner1_ht',\n",
       " 'winner1_id',\n",
       " 'winner1_ioc',\n",
       " 'winner1_name',\n",
       " 'winner1_rank',\n",
       " 'winner1_rank_points',\n",
       " 'winner2_age',\n",
       " 'winner2_hand',\n",
       " 'winner2_ht',\n",
       " 'winner2_id',\n",
       " 'winner2_ioc',\n",
       " 'winner2_name',\n",
       " 'winner2_rank',\n",
       " 'winner2_rank_points'}"
      ]
     },
     "execution_count": 70,
     "metadata": {},
     "output_type": "execute_result"
    }
   ],
   "source": [
    "diff1"
   ]
  },
  {
   "cell_type": "code",
   "execution_count": 71,
   "id": "474e98ef-8e47-4ea0-b95d-cc1c65a36723",
   "metadata": {},
   "outputs": [
    {
     "data": {
      "text/plain": [
       "{'loser_age',\n",
       " 'loser_hand',\n",
       " 'loser_ht',\n",
       " 'loser_id',\n",
       " 'loser_ioc',\n",
       " 'loser_name',\n",
       " 'loser_rank',\n",
       " 'loser_rank_points',\n",
       " 'winner_age',\n",
       " 'winner_hand',\n",
       " 'winner_ht',\n",
       " 'winner_id',\n",
       " 'winner_ioc',\n",
       " 'winner_name',\n",
       " 'winner_rank',\n",
       " 'winner_rank_points'}"
      ]
     },
     "execution_count": 71,
     "metadata": {},
     "output_type": "execute_result"
    }
   ],
   "source": [
    "diff2"
   ]
  },
  {
   "cell_type": "markdown",
   "id": "0695bf09-669a-4900-894d-65322d62f614",
   "metadata": {},
   "source": [
    "### Some should be added, others should be just changed (e.g. loser_age -> loser1_age)"
   ]
  },
  {
   "cell_type": "code",
   "execution_count": 74,
   "id": "a5193b4a-2932-4a42-90c0-ace8e24fa1a7",
   "metadata": {
    "collapsed": true,
    "jupyter": {
     "outputs_hidden": true
    },
    "scrolled": true
   },
   "outputs": [
    {
     "data": {
      "text/plain": [
       "['atp_matches_doubles_2007.csv',\n",
       " 'atp_matches_doubles_2019.csv',\n",
       " 'atp_matches_doubles_2012.csv',\n",
       " 'atp_matches_doubles_2018.csv',\n",
       " 'atp_matches_doubles_2020.csv',\n",
       " 'atp_matches_doubles_2011.csv',\n",
       " 'atp_matches_doubles_2016.csv',\n",
       " 'atp_matches_doubles_2000.csv',\n",
       " 'atp_matches_doubles_2017.csv',\n",
       " 'atp_matches_doubles_2008.csv',\n",
       " 'atp_matches_doubles_2004.csv',\n",
       " 'atp_matches_doubles_2013.csv',\n",
       " 'atp_matches_doubles_2009.csv',\n",
       " 'atp_matches_doubles_2001.csv',\n",
       " 'atp_matches_doubles_2006.csv',\n",
       " 'atp_matches_doubles_2014.csv',\n",
       " 'atp_matches_doubles_2003.csv',\n",
       " 'atp_matches_doubles_2015.csv',\n",
       " 'atp_matches_doubles_2010.csv',\n",
       " 'atp_matches_doubles_2005.csv',\n",
       " 'atp_matches_doubles_2002.csv']"
      ]
     },
     "execution_count": 74,
     "metadata": {},
     "output_type": "execute_result"
    }
   ],
   "source": [
    "# Files with 65 columns\n",
    "files65"
   ]
  },
  {
   "cell_type": "code",
   "execution_count": 75,
   "id": "a9d786cc-822a-4da0-87a3-f4f847f6cea0",
   "metadata": {
    "collapsed": true,
    "jupyter": {
     "outputs_hidden": true
    },
    "scrolled": true
   },
   "outputs": [
    {
     "data": {
      "text/plain": [
       "['atp_matches_1984.csv',\n",
       " 'atp_matches_qual_chall_1980.csv',\n",
       " 'atp_matches_2009.csv',\n",
       " 'atp_matches_futures_2018.csv',\n",
       " 'atp_matches_2022.csv',\n",
       " 'atp_matches_futures_2016.csv',\n",
       " 'atp_matches_1990.csv',\n",
       " 'atp_matches_2016.csv',\n",
       " 'atp_matches_futures_1995.csv',\n",
       " 'atp_matches_qual_chall_2003.csv',\n",
       " 'atp_matches_qual_chall_2019.csv',\n",
       " 'atp_matches_qual_chall_2000.csv',\n",
       " 'atp_matches_2017.csv',\n",
       " 'atp_matches_qual_chall_2012.csv',\n",
       " 'atp_matches_2001.csv',\n",
       " 'atp_matches_2007.csv',\n",
       " 'atp_matches_1985.csv',\n",
       " 'atp_matches_futures_2006.csv',\n",
       " 'atp_matches_futures_2009.csv',\n",
       " 'atp_matches_qual_chall_1999.csv',\n",
       " 'atp_matches_1971.csv',\n",
       " 'atp_matches_2013.csv',\n",
       " 'atp_matches_2021.csv',\n",
       " 'atp_matches_amateur.csv',\n",
       " 'atp_matches_futures_2017.csv',\n",
       " 'atp_matches_futures_2015.csv',\n",
       " 'atp_matches_1991.csv',\n",
       " 'atp_matches_qual_chall_2020.csv',\n",
       " 'atp_matches_1992.csv',\n",
       " 'atp_matches_futures_2013.csv',\n",
       " 'atp_matches_qual_chall_2021.csv',\n",
       " 'atp_matches_1979.csv',\n",
       " 'atp_matches_2003.csv',\n",
       " 'atp_matches_qual_chall_2009.csv',\n",
       " 'atp_matches_qual_chall_1990.csv',\n",
       " 'atp_matches_qual_chall_1984.csv',\n",
       " 'atp_matches_futures_2014.csv',\n",
       " 'atp_matches_1968.csv',\n",
       " 'atp_matches_qual_chall_1987.csv',\n",
       " 'atp_matches_futures_1994.csv',\n",
       " 'atp_matches_1994.csv',\n",
       " 'atp_matches_futures_1992.csv',\n",
       " 'atp_matches_qual_chall_2014.csv',\n",
       " 'atp_matches_2004.csv',\n",
       " 'atp_matches_futures_1993.csv',\n",
       " 'atp_matches_qual_chall_2010.csv',\n",
       " 'atp_matches_1987.csv',\n",
       " 'atp_matches_futures_1996.csv',\n",
       " 'atp_matches_2010.csv',\n",
       " 'atp_matches_qual_chall_2001.csv',\n",
       " 'atp_matches_futures_2010.csv',\n",
       " 'atp_matches_2018.csv',\n",
       " 'atp_matches_1981.csv',\n",
       " 'atp_matches_qual_chall_2015.csv',\n",
       " 'atp_matches_qual_chall_2018.csv',\n",
       " 'atp_matches_2005.csv',\n",
       " 'atp_matches_futures_2007.csv',\n",
       " 'atp_matches_1989.csv',\n",
       " 'atp_matches_qual_chall_2017.csv',\n",
       " 'atp_matches_futures_2012.csv',\n",
       " 'atp_matches_qual_chall_2006.csv',\n",
       " 'atp_matches_1978.csv',\n",
       " 'atp_matches_qual_chall_1995.csv',\n",
       " 'atp_matches_futures_2000.csv',\n",
       " 'atp_matches_qual_chall_1988.csv',\n",
       " 'atp_matches_qual_chall_2022.csv',\n",
       " 'atp_matches_2002.csv',\n",
       " 'atp_matches_qual_chall_1998.csv',\n",
       " 'atp_matches_futures_1998.csv',\n",
       " 'atp_matches_futures_2003.csv',\n",
       " 'atp_matches_qual_chall_1986.csv',\n",
       " 'atp_matches_1970.csv',\n",
       " 'atp_matches_qual_chall_1993.csv',\n",
       " 'atp_matches_qual_chall_1985.csv',\n",
       " 'atp_matches_qual_chall_2008.csv',\n",
       " 'atp_matches_1998.csv',\n",
       " 'atp_matches_1975.csv',\n",
       " 'atp_matches_1980.csv',\n",
       " 'atp_matches_futures_1999.csv',\n",
       " 'atp_matches_qual_chall_2004.csv',\n",
       " 'atp_matches_2015.csv',\n",
       " 'atp_matches_futures_2011.csv',\n",
       " 'atp_matches_1996.csv',\n",
       " 'atp_matches_2006.csv',\n",
       " 'atp_matches_futures_2020.csv',\n",
       " 'atp_matches_qual_chall_2007.csv',\n",
       " 'atp_matches_qual_chall_2002.csv',\n",
       " 'atp_matches_1988.csv',\n",
       " 'atp_matches_1997.csv',\n",
       " 'atp_matches_2008.csv',\n",
       " 'atp_matches_qual_chall_2005.csv',\n",
       " 'atp_matches_qual_chall_1996.csv',\n",
       " 'atp_matches_1973.csv',\n",
       " 'atp_matches_qual_chall_1978.csv',\n",
       " 'atp_matches_1974.csv',\n",
       " 'atp_matches_qual_chall_2011.csv',\n",
       " 'atp_matches_futures_2002.csv',\n",
       " 'atp_matches_1976.csv',\n",
       " 'atp_matches_futures_2019.csv',\n",
       " 'atp_matches_qual_chall_2016.csv',\n",
       " 'atp_matches_qual_chall_1983.csv',\n",
       " 'atp_matches_futures_2022.csv',\n",
       " 'atp_matches_futures_2008.csv',\n",
       " 'atp_matches_qual_chall_1989.csv',\n",
       " 'atp_matches_futures_2021.csv',\n",
       " 'atp_matches_1982.csv',\n",
       " 'atp_matches_1983.csv',\n",
       " 'atp_matches_futures_2005.csv',\n",
       " 'atp_matches_1993.csv',\n",
       " 'atp_matches_1995.csv',\n",
       " 'atp_matches_1999.csv',\n",
       " 'atp_matches_1986.csv',\n",
       " 'atp_matches_qual_chall_1979.csv',\n",
       " 'atp_matches_qual_chall_1981.csv',\n",
       " 'atp_matches_1972.csv',\n",
       " 'atp_matches_futures_1991.csv',\n",
       " 'atp_matches_2011.csv',\n",
       " 'atp_matches_2000.csv',\n",
       " 'atp_matches_qual_chall_2023.csv',\n",
       " 'atp_matches_qual_chall_1992.csv',\n",
       " 'atp_matches_1969.csv',\n",
       " 'atp_matches_qual_chall_2013.csv',\n",
       " 'atp_matches_futures_2023.csv',\n",
       " 'atp_matches_2014.csv',\n",
       " 'atp_matches_futures_2001.csv',\n",
       " 'atp_matches_2012.csv',\n",
       " 'atp_matches_1977.csv',\n",
       " 'atp_matches_qual_chall_1982.csv',\n",
       " 'atp_matches_qual_chall_1997.csv',\n",
       " 'atp_matches_qual_chall_1994.csv',\n",
       " 'atp_matches_2023.csv',\n",
       " 'atp_matches_qual_chall_1991.csv',\n",
       " 'atp_matches_2019.csv',\n",
       " 'atp_matches_futures_2004.csv',\n",
       " 'atp_matches_futures_1997.csv',\n",
       " 'atp_matches_2020.csv']"
      ]
     },
     "execution_count": 75,
     "metadata": {},
     "output_type": "execute_result"
    }
   ],
   "source": [
    "# Files with 49 columns\n",
    "files49"
   ]
  },
  {
   "cell_type": "code",
   "execution_count": null,
   "id": "f25fcb8d-4189-46a1-b482-bf46d2fc9d99",
   "metadata": {},
   "outputs": [],
   "source": []
  }
 ],
 "metadata": {
  "kernelspec": {
   "display_name": "Python 3 (ipykernel)",
   "language": "python",
   "name": "python3"
  },
  "language_info": {
   "codemirror_mode": {
    "name": "ipython",
    "version": 3
   },
   "file_extension": ".py",
   "mimetype": "text/x-python",
   "name": "python",
   "nbconvert_exporter": "python",
   "pygments_lexer": "ipython3",
   "version": "3.11.6"
  }
 },
 "nbformat": 4,
 "nbformat_minor": 5
}
